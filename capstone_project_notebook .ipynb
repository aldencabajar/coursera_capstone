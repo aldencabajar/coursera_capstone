{
    "cells": [
        {
            "cell_type": "markdown",
            "metadata": {
                "collapsed": true
            },
            "source": "# Predicting Service Demand in a City/Neighborhood"
        },
        {
            "cell_type": "markdown",
            "metadata": {},
            "source": "## Introduction\n\nA pattern in the growth of services emerges with the growth of a city or neighborhood, affected along with its cultural and societal values. Kuhnert et al. (2006) had displayed examples of these patterns such as the logarithmic increase of the services such as petrol stations, pharmacies, clinics etc. Geoffrey West in his book called \"Scale\", has pointed out that in organism-like structures such as animals, cities and companies, there seems to be an optimal curve in relation to its size wherein values above this curve are organisms pushing its limits, and below the curve are organisms underutilizing its resources. With this line of thinking, it can be said that there must be a baseline in which it can be determined if a city or neighborhood still lacks the necessary services. \n\nPutting up a business and wondering which type of service is lacking in a certain neighborhood/city is surely a nerve-wracking experience especially for first-time entrepreneurs. Questions such as \"Should I put up a laundry service?\" or \"Is there demand for an Asian restaurant in this neighborhood?\" are some motivational examples. If information is available for these entrepreneurs, they will have an idea which of the types of services that are in short demand or in over-supply. In turn, they can have an easier time to weigh the pros and cons and scope into businesses that can potentially be profitable.  \n\nKnowing which businesses are appropriate for a certain location/neighborhood are not only useful for entrepreneurs, but also for city governments. Having insight on which neighborhoods could use more or less of a certain type of service can be helpful in careful city planning. Also, questions about what it takes for a neighborhood/city to improve are also of interest. \"Does a city need more roads?\" or \"Does a city need more connectivity to support the number of services/establishments?\" are just some of the questions that might be crucial to answer. \n\n\n\n"
        },
        {
            "cell_type": "markdown",
            "metadata": {},
            "source": "## Data description"
        },
        {
            "cell_type": "markdown",
            "metadata": {},
            "source": "### Overview\nAs this is only a proof of concept, this analysis will only include **cities/municipalities in the Philippines** with a clear hierarchical structure in terms of government units. In the Philippines, the usual government unit structure is shown below:\n\n+ Region\n    + Province\n        + City\n            + Barangay\n \n Since there is more interest in a more granular view, we need to put our sights at the *Barangay* level which is the most basic government unit in the Philippines.\n\n### Location \nFor this analysis, location data in Foursquare will be collected using the Foursquare location API. This will include primarily the category of a certain venue/service established in a barangay. As a start, we scope into food-related establishments. More types can be incorporated later on.\n\n### Other important fields\nPopulation information about these barangays are important to obtain as this was identified as an important variable in establishment count growth. Other-related fields that may be useful to describe how connected a city is are the total land mass of the City/Municipality, the number of roads, and the total road length. \n\n### Response \nTo know if a certain city has an oversupply/undersupply of a certain service, the response to be used for this analysis are the number of establishments in a city for a venue category. "
        },
        {
            "cell_type": "code",
            "execution_count": 4,
            "metadata": {},
            "outputs": [],
            "source": "import pandas as pd\nimport numpy as np\nimport seaborn as sns\nimport matplotlib\n"
        },
        {
            "cell_type": "code",
            "execution_count": 3,
            "metadata": {},
            "outputs": [
                {
                    "name": "stdout",
                    "output_type": "stream",
                    "text": "Hello Capston project course!\n"
                }
            ],
            "source": ""
        }
    ],
    "metadata": {
        "kernelspec": {
            "display_name": "Python 3.6",
            "language": "python",
            "name": "python3"
        },
        "language_info": {
            "codemirror_mode": {
                "name": "ipython",
                "version": 3
            },
            "file_extension": ".py",
            "mimetype": "text/x-python",
            "name": "python",
            "nbconvert_exporter": "python",
            "pygments_lexer": "ipython3",
            "version": "3.6.9"
        }
    },
    "nbformat": 4,
    "nbformat_minor": 1
}