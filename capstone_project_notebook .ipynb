{
 "cells": [
  {
   "cell_type": "markdown",
   "metadata": {
    "collapsed": true
   },
   "source": [
    "# Predicting Service Demand in a City/Neighborhood"
   ]
  },
  {
   "cell_type": "markdown",
   "metadata": {},
   "source": [
    "## Introduction\n",
    "\n",
    "A pattern in the growth of services emerges with the growth of a city or neighborhood, affected along with its cultural and societal values. Kuhnert et al. (2006) had displayed examples of these patterns such as the logarithmic increase of the services such as petrol stations, pharmacies, clinics etc. Geoffrey West in his book called \"Scale\", has pointed out that in organism-like structures such as animals, cities and companies, there seems to be an optimal curve in relation to its size wherein values above this curve are organisms pushing its limits, and below the curve are organisms underutilizing its resources. With this line of thinking, it can be said that there must be a baseline in which it can be determined if a city or neighborhood still lacks the necessary services. \n",
    "\n",
    "Putting up a business and wondering which type of service is lacking in a certain neighborhood/city is surely a nerve-wracking experience especially for first-time entrepreneurs. Questions such as \"Should I put up a laundry service?\" or \"Is there demand for an Asian restaurant in this neighborhood?\" are some motivational examples. If information is available for these entrepreneurs, they will have an idea which of the types of services that are in short demand or in over-supply. In turn, they can have an easier time to weigh the pros and cons and scope into businesses that can potentially be profitable.  \n",
    "\n",
    "Knowing which businesses are appropriate for a certain location/neighborhood are not only useful for entrepreneurs, but also for city governments. Having insight on which neighborhoods could use more or less of a certain type of service can be helpful in careful city planning. Also, questions about what it takes for a neighborhood/city to improve are also of interest. \"Does a city need more roads?\" or \"Does a city need more connectivity to support the number of services/establishments?\" are just some of the questions that might be crucial to answer. \n",
    "\n",
    "\n",
    "\n"
   ]
  },
  {
   "cell_type": "markdown",
   "metadata": {},
   "source": [
    "## Data Sources"
   ]
  },
  {
   "cell_type": "markdown",
   "metadata": {},
   "source": [
    "### Overview\n",
    "As this is only a proof of concept, this analysis will only include **cities/municipalities in the Philippines** with a clear hierarchical structure in terms of government units. In the Philippines, the usual government unit structure is shown below:\n",
    "\n",
    "+ Region\n",
    "    + Province\n",
    "        + City\n",
    "            + Barangay\n",
    " \n",
    " Since there is more interest in a more granular view, we need to put our sights at the *Barangay* level which is the most basic government unit in the Philippines.\n",
    "\n",
    "### Location \n",
    "For this analysis, location data in Foursquare will be collected using the Foursquare location API. This will include primarily the category of a certain venue/service established in a barangay. As a start, we scope into food-related establishments. More types can be incorporated later on.\n",
    "\n",
    "### Other important fields\n",
    "Population information about these barangays are important to obtain as this was identified as an important variable in establishment count growth. Other-related fields that may be useful to describe how connected a city is are the total land mass of the City/Municipality, the number of roads, and the total road length. This will be obtained from [https://en.wikipedia.org/wiki/List_of_cities_and_municipalities_in_the_Philippines](). \n",
    "\n",
    "### Response \n",
    "To know if a certain city has an oversupply/undersupply of a certain service, the response to be used for this analysis are the number of establishments in a city for a venue category. "
   ]
  },
  {
   "cell_type": "markdown",
   "metadata": {},
   "source": [
    "## Data Preparation"
   ]
  },
  {
   "cell_type": "code",
   "execution_count": 37,
   "metadata": {},
   "outputs": [],
   "source": [
    "import pandas as pd\n",
    "import numpy as np\n",
    "import seaborn as sns\n",
    "import matplotlib\n",
    "import lxml\n",
    "import ssl\n",
    "import requests\n",
    "\n",
    "\n",
    "ssl._create_default_https_context = ssl._create_unverified_context"
   ]
  },
  {
   "cell_type": "markdown",
   "metadata": {},
   "source": [
    "### Scraping population and land mass data from Wikipedia"
   ]
  },
  {
   "cell_type": "markdown",
   "metadata": {},
   "source": [
    "Using information from wikipedia, I scrape the relevant population data for the different cities and municipalities in the Philippines. The final data frame should contain the *name of the city/municipality*, *population*, and *land area*. For now, only cities will be included due to the limited availability of coordinates. "
   ]
  },
  {
   "cell_type": "code",
   "execution_count": 6,
   "metadata": {},
   "outputs": [],
   "source": [
    "url = 'https://en.wikipedia.org/wiki/List_of_cities_and_municipalities_in_the_Philippines'\n",
    "popTable = pd.read_html(url)[3].iloc[:,0:7].query('Class == \"CC\"| Class == \"HUC\"|Class == \"ICC\"')"
   ]
  },
  {
   "cell_type": "code",
   "execution_count": 7,
   "metadata": {},
   "outputs": [
    {
     "data": {
      "text/html": [
       "<div>\n",
       "<style scoped>\n",
       "    .dataframe tbody tr th:only-of-type {\n",
       "        vertical-align: middle;\n",
       "    }\n",
       "\n",
       "    .dataframe tbody tr th {\n",
       "        vertical-align: top;\n",
       "    }\n",
       "\n",
       "    .dataframe thead th {\n",
       "        text-align: right;\n",
       "    }\n",
       "</style>\n",
       "<table border=\"1\" class=\"dataframe\">\n",
       "  <thead>\n",
       "    <tr style=\"text-align: right;\">\n",
       "      <th></th>\n",
       "      <th>City or municipality</th>\n",
       "      <th>Population (2015)[1]</th>\n",
       "      <th>Area (km2)[i][2][3]</th>\n",
       "      <th>PD (/km2, 2015)</th>\n",
       "      <th>Barangay</th>\n",
       "      <th>Class</th>\n",
       "      <th>Province</th>\n",
       "    </tr>\n",
       "  </thead>\n",
       "  <tbody>\n",
       "    <tr>\n",
       "      <th>28</th>\n",
       "      <td>Butuan</td>\n",
       "      <td>337063</td>\n",
       "      <td>816.62</td>\n",
       "      <td>413</td>\n",
       "      <td>86</td>\n",
       "      <td>HUC</td>\n",
       "      <td>Agusan del Norte</td>\n",
       "    </tr>\n",
       "    <tr>\n",
       "      <th>29</th>\n",
       "      <td>Cabadbaran</td>\n",
       "      <td>73639</td>\n",
       "      <td>214.44</td>\n",
       "      <td>343</td>\n",
       "      <td>31</td>\n",
       "      <td>CC</td>\n",
       "      <td>Agusan del Norte</td>\n",
       "    </tr>\n",
       "    <tr>\n",
       "      <th>39</th>\n",
       "      <td>Bayugan</td>\n",
       "      <td>103202</td>\n",
       "      <td>688.77</td>\n",
       "      <td>150</td>\n",
       "      <td>43</td>\n",
       "      <td>CC</td>\n",
       "      <td>Agusan del Sur</td>\n",
       "    </tr>\n",
       "    <tr>\n",
       "      <th>75</th>\n",
       "      <td>Legazpi</td>\n",
       "      <td>196639</td>\n",
       "      <td>153.70</td>\n",
       "      <td>1279</td>\n",
       "      <td>70</td>\n",
       "      <td>CC</td>\n",
       "      <td>Albay</td>\n",
       "    </tr>\n",
       "    <tr>\n",
       "      <th>77</th>\n",
       "      <td>Ligao</td>\n",
       "      <td>111399</td>\n",
       "      <td>246.75</td>\n",
       "      <td>451</td>\n",
       "      <td>55</td>\n",
       "      <td>CC</td>\n",
       "      <td>Albay</td>\n",
       "    </tr>\n",
       "  </tbody>\n",
       "</table>\n",
       "</div>"
      ],
      "text/plain": [
       "   City or municipality Population (2015)[1] Area (km2)[i][2][3]  \\\n",
       "28               Butuan               337063              816.62   \n",
       "29           Cabadbaran                73639              214.44   \n",
       "39              Bayugan               103202              688.77   \n",
       "75              Legazpi               196639              153.70   \n",
       "77                Ligao               111399              246.75   \n",
       "\n",
       "   PD (/km2, 2015) Barangay Class          Province  \n",
       "28             413       86   HUC  Agusan del Norte  \n",
       "29             343       31    CC  Agusan del Norte  \n",
       "39             150       43    CC    Agusan del Sur  \n",
       "75            1279       70    CC             Albay  \n",
       "77             451       55    CC             Albay  "
      ]
     },
     "execution_count": 7,
     "metadata": {},
     "output_type": "execute_result"
    }
   ],
   "source": [
    "popTable.head()"
   ]
  },
  {
   "cell_type": "markdown",
   "metadata": {},
   "source": [
    "The columns are then renamed to properly reflect the values in the columns."
   ]
  },
  {
   "cell_type": "code",
   "execution_count": 8,
   "metadata": {},
   "outputs": [
    {
     "data": {
      "text/plain": [
       "City or municipality    object\n",
       "Population (2015)[1]    object\n",
       "Area (km2)[i][2][3]     object\n",
       "PD (/km2, 2015)         object\n",
       "Barangay                object\n",
       "Class                   object\n",
       "Province                object\n",
       "dtype: object"
      ]
     },
     "execution_count": 8,
     "metadata": {},
     "output_type": "execute_result"
    }
   ],
   "source": [
    "popTable.dtypes"
   ]
  },
  {
   "cell_type": "markdown",
   "metadata": {},
   "source": [
    "Change Area_km2 and pop_density to float, Population to int"
   ]
  },
  {
   "cell_type": "code",
   "execution_count": 9,
   "metadata": {},
   "outputs": [],
   "source": [
    "popTable.rename(columns = {popTable.columns[0]: 'City', \n",
    "                          popTable.columns[1]: 'Population',\n",
    "                          popTable.columns[2]: 'Area_km2',\n",
    "                          popTable.columns[3]: 'pop_density'}, inplace = True)"
   ]
  },
  {
   "cell_type": "markdown",
   "metadata": {},
   "source": [
    "Remove punctation marks in Area_km2 column "
   ]
  },
  {
   "cell_type": "code",
   "execution_count": 10,
   "metadata": {},
   "outputs": [
    {
     "data": {
      "text/html": [
       "<div>\n",
       "<style scoped>\n",
       "    .dataframe tbody tr th:only-of-type {\n",
       "        vertical-align: middle;\n",
       "    }\n",
       "\n",
       "    .dataframe tbody tr th {\n",
       "        vertical-align: top;\n",
       "    }\n",
       "\n",
       "    .dataframe thead th {\n",
       "        text-align: right;\n",
       "    }\n",
       "</style>\n",
       "<table border=\"1\" class=\"dataframe\">\n",
       "  <thead>\n",
       "    <tr style=\"text-align: right;\">\n",
       "      <th></th>\n",
       "      <th>City</th>\n",
       "      <th>Population</th>\n",
       "      <th>Area_km2</th>\n",
       "      <th>pop_density</th>\n",
       "      <th>Barangay</th>\n",
       "      <th>Class</th>\n",
       "      <th>Province</th>\n",
       "    </tr>\n",
       "  </thead>\n",
       "  <tbody>\n",
       "    <tr>\n",
       "      <th>1026</th>\n",
       "      <td>Manila</td>\n",
       "      <td>1780148</td>\n",
       "      <td>42889</td>\n",
       "      <td>41515</td>\n",
       "      <td>897</td>\n",
       "      <td>HUC</td>\n",
       "      <td>NCR, City of Manila, 1st district</td>\n",
       "    </tr>\n",
       "  </tbody>\n",
       "</table>\n",
       "</div>"
      ],
      "text/plain": [
       "        City Population Area_km2 pop_density Barangay Class  \\\n",
       "1026  Manila    1780148    42889       41515      897   HUC   \n",
       "\n",
       "                               Province  \n",
       "1026  NCR, City of Manila, 1st district  "
      ]
     },
     "execution_count": 10,
     "metadata": {},
     "output_type": "execute_result"
    }
   ],
   "source": [
    "import string\n",
    "\n",
    "popTable['Area_km2'] = [s.translate(s.maketrans('', '', string.punctuation)) for s in popTable.Area_km2]\n",
    "\n",
    "popTable[popTable.City == 'Manila']"
   ]
  },
  {
   "cell_type": "markdown",
   "metadata": {},
   "source": [
    "Convert Population, Areak_m2, and pop_density columns to int and float objects."
   ]
  },
  {
   "cell_type": "code",
   "execution_count": 11,
   "metadata": {},
   "outputs": [],
   "source": [
    "def to_float(obj):\n",
    "    try:\n",
    "        return(float(obj))\n",
    "    except:\n",
    "        return(None)\n",
    "\n",
    "def to_int(obj):\n",
    "    try:\n",
    "        return(int(obj))\n",
    "    except:\n",
    "        return(None)\n",
    "\n",
    "popTable['Population'] = popTable.Population.apply(to_int)\n",
    "popTable['Area_km2'] = popTable.Area_km2.apply(to_float)\n",
    "popTable['pop_density'] = popTable.pop_density.apply(to_float)"
   ]
  },
  {
   "cell_type": "code",
   "execution_count": 12,
   "metadata": {},
   "outputs": [
    {
     "data": {
      "text/plain": [
       "City            object\n",
       "Population       int64\n",
       "Area_km2       float64\n",
       "pop_density    float64\n",
       "Barangay        object\n",
       "Class           object\n",
       "Province        object\n",
       "dtype: object"
      ]
     },
     "execution_count": 12,
     "metadata": {},
     "output_type": "execute_result"
    }
   ],
   "source": [
    "popTable.dtypes"
   ]
  },
  {
   "cell_type": "code",
   "execution_count": 13,
   "metadata": {},
   "outputs": [
    {
     "data": {
      "text/html": [
       "<div>\n",
       "<style scoped>\n",
       "    .dataframe tbody tr th:only-of-type {\n",
       "        vertical-align: middle;\n",
       "    }\n",
       "\n",
       "    .dataframe tbody tr th {\n",
       "        vertical-align: top;\n",
       "    }\n",
       "\n",
       "    .dataframe thead th {\n",
       "        text-align: right;\n",
       "    }\n",
       "</style>\n",
       "<table border=\"1\" class=\"dataframe\">\n",
       "  <thead>\n",
       "    <tr style=\"text-align: right;\">\n",
       "      <th></th>\n",
       "      <th>City</th>\n",
       "      <th>Population</th>\n",
       "      <th>Area_km2</th>\n",
       "      <th>pop_density</th>\n",
       "      <th>Barangay</th>\n",
       "      <th>Class</th>\n",
       "      <th>Province</th>\n",
       "    </tr>\n",
       "  </thead>\n",
       "  <tbody>\n",
       "    <tr>\n",
       "      <th>28</th>\n",
       "      <td>Butuan</td>\n",
       "      <td>337063</td>\n",
       "      <td>81662.0</td>\n",
       "      <td>413.0</td>\n",
       "      <td>86</td>\n",
       "      <td>HUC</td>\n",
       "      <td>Agusan del Norte</td>\n",
       "    </tr>\n",
       "    <tr>\n",
       "      <th>29</th>\n",
       "      <td>Cabadbaran</td>\n",
       "      <td>73639</td>\n",
       "      <td>21444.0</td>\n",
       "      <td>343.0</td>\n",
       "      <td>31</td>\n",
       "      <td>CC</td>\n",
       "      <td>Agusan del Norte</td>\n",
       "    </tr>\n",
       "    <tr>\n",
       "      <th>39</th>\n",
       "      <td>Bayugan</td>\n",
       "      <td>103202</td>\n",
       "      <td>68877.0</td>\n",
       "      <td>150.0</td>\n",
       "      <td>43</td>\n",
       "      <td>CC</td>\n",
       "      <td>Agusan del Sur</td>\n",
       "    </tr>\n",
       "    <tr>\n",
       "      <th>75</th>\n",
       "      <td>Legazpi</td>\n",
       "      <td>196639</td>\n",
       "      <td>15370.0</td>\n",
       "      <td>1279.0</td>\n",
       "      <td>70</td>\n",
       "      <td>CC</td>\n",
       "      <td>Albay</td>\n",
       "    </tr>\n",
       "    <tr>\n",
       "      <th>77</th>\n",
       "      <td>Ligao</td>\n",
       "      <td>111399</td>\n",
       "      <td>24675.0</td>\n",
       "      <td>451.0</td>\n",
       "      <td>55</td>\n",
       "      <td>CC</td>\n",
       "      <td>Albay</td>\n",
       "    </tr>\n",
       "  </tbody>\n",
       "</table>\n",
       "</div>"
      ],
      "text/plain": [
       "          City  Population  Area_km2  pop_density Barangay Class  \\\n",
       "28      Butuan      337063   81662.0        413.0       86   HUC   \n",
       "29  Cabadbaran       73639   21444.0        343.0       31    CC   \n",
       "39     Bayugan      103202   68877.0        150.0       43    CC   \n",
       "75     Legazpi      196639   15370.0       1279.0       70    CC   \n",
       "77       Ligao      111399   24675.0        451.0       55    CC   \n",
       "\n",
       "            Province  \n",
       "28  Agusan del Norte  \n",
       "29  Agusan del Norte  \n",
       "39    Agusan del Sur  \n",
       "75             Albay  \n",
       "77             Albay  "
      ]
     },
     "execution_count": 13,
     "metadata": {},
     "output_type": "execute_result"
    }
   ],
   "source": [
    "popTable.head()"
   ]
  },
  {
   "cell_type": "code",
   "execution_count": 14,
   "metadata": {},
   "outputs": [
    {
     "data": {
      "text/html": [
       "<div>\n",
       "<style scoped>\n",
       "    .dataframe tbody tr th:only-of-type {\n",
       "        vertical-align: middle;\n",
       "    }\n",
       "\n",
       "    .dataframe tbody tr th {\n",
       "        vertical-align: top;\n",
       "    }\n",
       "\n",
       "    .dataframe thead th {\n",
       "        text-align: right;\n",
       "    }\n",
       "</style>\n",
       "<table border=\"1\" class=\"dataframe\">\n",
       "  <thead>\n",
       "    <tr style=\"text-align: right;\">\n",
       "      <th></th>\n",
       "      <th>Population</th>\n",
       "      <th>Area_km2</th>\n",
       "      <th>pop_density</th>\n",
       "    </tr>\n",
       "  </thead>\n",
       "  <tbody>\n",
       "    <tr>\n",
       "      <th>count</th>\n",
       "      <td>1.460000e+02</td>\n",
       "      <td>1.450000e+02</td>\n",
       "      <td>145.000000</td>\n",
       "    </tr>\n",
       "    <tr>\n",
       "      <th>mean</th>\n",
       "      <td>2.815388e+05</td>\n",
       "      <td>1.312187e+05</td>\n",
       "      <td>4130.193103</td>\n",
       "    </tr>\n",
       "    <tr>\n",
       "      <th>std</th>\n",
       "      <td>3.542287e+05</td>\n",
       "      <td>1.229947e+06</td>\n",
       "      <td>7378.899863</td>\n",
       "    </tr>\n",
       "    <tr>\n",
       "      <th>min</th>\n",
       "      <td>4.104100e+04</td>\n",
       "      <td>1.089000e+03</td>\n",
       "      <td>107.000000</td>\n",
       "    </tr>\n",
       "    <tr>\n",
       "      <th>25%</th>\n",
       "      <td>1.055082e+05</td>\n",
       "      <td>1.055300e+04</td>\n",
       "      <td>405.000000</td>\n",
       "    </tr>\n",
       "    <tr>\n",
       "      <th>50%</th>\n",
       "      <td>1.687515e+05</td>\n",
       "      <td>1.975600e+04</td>\n",
       "      <td>957.000000</td>\n",
       "    </tr>\n",
       "    <tr>\n",
       "      <th>75%</th>\n",
       "      <td>3.317580e+05</td>\n",
       "      <td>3.364000e+04</td>\n",
       "      <td>3748.000000</td>\n",
       "    </tr>\n",
       "    <tr>\n",
       "      <th>max</th>\n",
       "      <td>2.936116e+06</td>\n",
       "      <td>1.483381e+07</td>\n",
       "      <td>41515.000000</td>\n",
       "    </tr>\n",
       "  </tbody>\n",
       "</table>\n",
       "</div>"
      ],
      "text/plain": [
       "         Population      Area_km2   pop_density\n",
       "count  1.460000e+02  1.450000e+02    145.000000\n",
       "mean   2.815388e+05  1.312187e+05   4130.193103\n",
       "std    3.542287e+05  1.229947e+06   7378.899863\n",
       "min    4.104100e+04  1.089000e+03    107.000000\n",
       "25%    1.055082e+05  1.055300e+04    405.000000\n",
       "50%    1.687515e+05  1.975600e+04    957.000000\n",
       "75%    3.317580e+05  3.364000e+04   3748.000000\n",
       "max    2.936116e+06  1.483381e+07  41515.000000"
      ]
     },
     "execution_count": 14,
     "metadata": {},
     "output_type": "execute_result"
    }
   ],
   "source": [
    "popTable.describe()"
   ]
  },
  {
   "cell_type": "code",
   "execution_count": 15,
   "metadata": {},
   "outputs": [
    {
     "data": {
      "text/plain": [
       "(146, 7)"
      ]
     },
     "execution_count": 15,
     "metadata": {},
     "output_type": "execute_result"
    }
   ],
   "source": [
    "popTable.shape"
   ]
  },
  {
   "cell_type": "code",
   "execution_count": 16,
   "metadata": {},
   "outputs": [
    {
     "data": {
      "text/plain": [
       "Index(['City', 'Population', 'Area_km2', 'pop_density', 'Barangay', 'Class',\n",
       "       'Province'],\n",
       "      dtype='object')"
      ]
     },
     "execution_count": 16,
     "metadata": {},
     "output_type": "execute_result"
    }
   ],
   "source": [
    "popTable.columns"
   ]
  },
  {
   "cell_type": "markdown",
   "metadata": {},
   "source": [
    "#### Exploring Population Table"
   ]
  },
  {
   "cell_type": "code",
   "execution_count": 83,
   "metadata": {},
   "outputs": [
    {
     "data": {
      "text/plain": [
       "<matplotlib.axes._subplots.AxesSubplot at 0x12555be80>"
      ]
     },
     "execution_count": 83,
     "metadata": {},
     "output_type": "execute_result"
    },
    {
     "data": {
      "image/png": "[encoded data removed]",
      "text/plain": [
       "<Figure size 576x360 with 1 Axes>"
      ]
     },
     "metadata": {},
     "output_type": "display_data"
    }
   ],
   "source": [
    "from matplotlib import pyplot\n",
    "\n",
    "sns.set(font_scale = 1.2)\n",
    "sns.set_style('whitegrid')\n",
    "fig, ax = pyplot.subplots(figsize = (8, 5))\n",
    "plt_Class_bplot = sns.countplot(x = 'Class', data = popTable)\n",
    "plt_Class_bplot.set_title('Counts by City Class')\n",
    "\n",
    "plt_Class_bplot\n"
   ]
  },
  {
   "cell_type": "markdown",
   "metadata": {},
   "source": [
    "### Preparation of location data"
   ]
  },
  {
   "cell_type": "markdown",
   "metadata": {},
   "source": [
    "Relevant latitude and longitude data for Cities in the Philipines was obtain from [https://simplemaps.com/data/ph-cities](). This will be used for querying venues for a particular city."
   ]
  },
  {
   "cell_type": "code",
   "execution_count": 22,
   "metadata": {},
   "outputs": [
    {
     "ename": "SyntaxError",
     "evalue": "EOL while scanning string literal (<ipython-input-22-a05f3599fff1>, line 38)",
     "output_type": "error",
     "traceback": [
      "\u001b[0;36m  File \u001b[0;32m\"<ipython-input-22-a05f3599fff1>\"\u001b[0;36m, line \u001b[0;32m38\u001b[0m\n\u001b[0;31m    \"\"\"\"\u001b[0m\n\u001b[0m        \n^\u001b[0m\n\u001b[0;31mSyntaxError\u001b[0m\u001b[0;31m:\u001b[0m EOL while scanning string literal\n"
     ]
    }
   ],
   "source": [
    "\"\"\"\"\n",
    "import requests\n",
    "\n",
    "#get_lat_long = def(loc):\n",
    "S = requests.Session()\n",
    "\n",
    "lat_long = []\n",
    "for city, province in zip(popTable.City.values, popTable.Province.values):\n",
    "\n",
    "    URL = \"https://en.wikipedia.org/w/api.php\"\n",
    "\n",
    "    PARAMS = {\n",
    "        \"action\": \"query\",\n",
    "        \"format\": \"json\",\n",
    "        \"titles\": city,\n",
    "        \"prop\": \"coordinates\"\n",
    "    }\n",
    "\n",
    "    R = S.get(url=URL, params=PARAMS)\n",
    "    DATA = R.json()\n",
    "    PAGES = DATA['query']['pages']\n",
    "    \n",
    "    try:\n",
    "        [v for v in PAGES.items()][0][1]['coordinates']\n",
    "        \n",
    "    except:\n",
    "        PARAMS['titles'] = city + ', ' + province\n",
    "        R = S.get(url = URL, params = PARAMS)\n",
    "        DATA = R.json()\n",
    "        PAGES = DATA['query']['pages']\n",
    "        \n",
    "\n",
    "    for k, v in PAGES.items():\n",
    "         \n",
    "            a = [v['coordinates'][0]['lat'] ,v['coordinates'][0]['lon']]\n",
    "     \n",
    "    lat_long.append(a)\n",
    "\"\"\"\"\n",
    "    "
   ]
  },
  {
   "cell_type": "markdown",
   "metadata": {},
   "source": [
    "Read longitude and latitude data for cities and municipalities in the Philippines. This was taken from a github repository under "
   ]
  },
  {
   "cell_type": "code",
   "execution_count": 27,
   "metadata": {},
   "outputs": [
    {
     "data": {
      "text/html": [
       "<div>\n",
       "<style scoped>\n",
       "    .dataframe tbody tr th:only-of-type {\n",
       "        vertical-align: middle;\n",
       "    }\n",
       "\n",
       "    .dataframe tbody tr th {\n",
       "        vertical-align: top;\n",
       "    }\n",
       "\n",
       "    .dataframe thead th {\n",
       "        text-align: right;\n",
       "    }\n",
       "</style>\n",
       "<table border=\"1\" class=\"dataframe\">\n",
       "  <thead>\n",
       "    <tr style=\"text-align: right;\">\n",
       "      <th></th>\n",
       "      <th>Province</th>\n",
       "      <th>City</th>\n",
       "      <th>LatLng</th>\n",
       "    </tr>\n",
       "  </thead>\n",
       "  <tbody>\n",
       "    <tr>\n",
       "      <th>0</th>\n",
       "      <td>Abra</td>\n",
       "      <td>Bangued</td>\n",
       "      <td>17.600; 120.617</td>\n",
       "    </tr>\n",
       "    <tr>\n",
       "      <th>1</th>\n",
       "      <td>Abra</td>\n",
       "      <td>Boliney</td>\n",
       "      <td>17.400; 120.800</td>\n",
       "    </tr>\n",
       "    <tr>\n",
       "      <th>2</th>\n",
       "      <td>Abra</td>\n",
       "      <td>Bucay</td>\n",
       "      <td>17.533; 120.717</td>\n",
       "    </tr>\n",
       "    <tr>\n",
       "      <th>3</th>\n",
       "      <td>Abra</td>\n",
       "      <td>Bucloc</td>\n",
       "      <td>17.450; 120.850</td>\n",
       "    </tr>\n",
       "    <tr>\n",
       "      <th>4</th>\n",
       "      <td>Abra</td>\n",
       "      <td>Daguioman</td>\n",
       "      <td>17.450; 120.917</td>\n",
       "    </tr>\n",
       "  </tbody>\n",
       "</table>\n",
       "</div>"
      ],
      "text/plain": [
       "  Province       City           LatLng\n",
       "0     Abra    Bangued  17.600; 120.617\n",
       "1     Abra    Boliney  17.400; 120.800\n",
       "2     Abra      Bucay  17.533; 120.717\n",
       "3     Abra     Bucloc  17.450; 120.850\n",
       "4     Abra  Daguioman  17.450; 120.917"
      ]
     },
     "execution_count": 27,
     "metadata": {},
     "output_type": "execute_result"
    }
   ],
   "source": [
    "location_dat = pd.read_csv('locations_latlng.csv')\n",
    "location_dat.head()"
   ]
  },
  {
   "cell_type": "code",
   "execution_count": 28,
   "metadata": {},
   "outputs": [
    {
     "data": {
      "text/html": [
       "<div>\n",
       "<style scoped>\n",
       "    .dataframe tbody tr th:only-of-type {\n",
       "        vertical-align: middle;\n",
       "    }\n",
       "\n",
       "    .dataframe tbody tr th {\n",
       "        vertical-align: top;\n",
       "    }\n",
       "\n",
       "    .dataframe thead th {\n",
       "        text-align: right;\n",
       "    }\n",
       "</style>\n",
       "<table border=\"1\" class=\"dataframe\">\n",
       "  <thead>\n",
       "    <tr style=\"text-align: right;\">\n",
       "      <th></th>\n",
       "      <th>Province</th>\n",
       "      <th>City</th>\n",
       "      <th>LatLng</th>\n",
       "    </tr>\n",
       "  </thead>\n",
       "  <tbody>\n",
       "    <tr>\n",
       "      <th>count</th>\n",
       "      <td>1636</td>\n",
       "      <td>1636</td>\n",
       "      <td>1614</td>\n",
       "    </tr>\n",
       "    <tr>\n",
       "      <th>unique</th>\n",
       "      <td>80</td>\n",
       "      <td>1416</td>\n",
       "      <td>1610</td>\n",
       "    </tr>\n",
       "    <tr>\n",
       "      <th>top</th>\n",
       "      <td>Cebu</td>\n",
       "      <td>San Isidro</td>\n",
       "      <td>10.717; 122.267</td>\n",
       "    </tr>\n",
       "    <tr>\n",
       "      <th>freq</th>\n",
       "      <td>53</td>\n",
       "      <td>9</td>\n",
       "      <td>2</td>\n",
       "    </tr>\n",
       "  </tbody>\n",
       "</table>\n",
       "</div>"
      ],
      "text/plain": [
       "       Province        City           LatLng\n",
       "count      1636        1636             1614\n",
       "unique       80        1416             1610\n",
       "top        Cebu  San Isidro  10.717; 122.267\n",
       "freq         53           9                2"
      ]
     },
     "execution_count": 28,
     "metadata": {},
     "output_type": "execute_result"
    }
   ],
   "source": [
    "location_dat.describe()"
   ]
  },
  {
   "cell_type": "markdown",
   "metadata": {},
   "source": [
    "This data frame was then joined with the current `popTable` table to associate location data."
   ]
  },
  {
   "cell_type": "code",
   "execution_count": 42,
   "metadata": {},
   "outputs": [
    {
     "name": "stderr",
     "output_type": "stream",
     "text": [
      "/Library/Frameworks/Python.framework/Versions/3.6/lib/python3.6/site-packages/ipykernel_launcher.py:5: SettingWithCopyWarning: \n",
      "A value is trying to be set on a copy of a slice from a DataFrame.\n",
      "Try using .loc[row_indexer,col_indexer] = value instead\n",
      "\n",
      "See the caveats in the documentation: https://pandas.pydata.org/pandas-docs/stable/user_guide/indexing.html#returning-a-view-versus-a-copy\n",
      "  \"\"\"\n",
      "/Library/Frameworks/Python.framework/Versions/3.6/lib/python3.6/site-packages/ipykernel_launcher.py:6: UserWarning: Boolean Series key will be reindexed to match DataFrame index.\n",
      "  \n"
     ]
    },
    {
     "data": {
      "text/html": [
       "<div>\n",
       "<style scoped>\n",
       "    .dataframe tbody tr th:only-of-type {\n",
       "        vertical-align: middle;\n",
       "    }\n",
       "\n",
       "    .dataframe tbody tr th {\n",
       "        vertical-align: top;\n",
       "    }\n",
       "\n",
       "    .dataframe thead th {\n",
       "        text-align: right;\n",
       "    }\n",
       "</style>\n",
       "<table border=\"1\" class=\"dataframe\">\n",
       "  <thead>\n",
       "    <tr style=\"text-align: right;\">\n",
       "      <th></th>\n",
       "      <th>City</th>\n",
       "      <th>Population</th>\n",
       "      <th>Area_km2</th>\n",
       "      <th>pop_density</th>\n",
       "      <th>Barangay</th>\n",
       "      <th>Class</th>\n",
       "      <th>Province</th>\n",
       "      <th>Latitude</th>\n",
       "      <th>Longitude</th>\n",
       "    </tr>\n",
       "  </thead>\n",
       "  <tbody>\n",
       "    <tr>\n",
       "      <th>28</th>\n",
       "      <td>Butuan</td>\n",
       "      <td>337063</td>\n",
       "      <td>81662.0</td>\n",
       "      <td>413.0</td>\n",
       "      <td>86</td>\n",
       "      <td>HUC</td>\n",
       "      <td>Agusan del Norte</td>\n",
       "      <td>8.950</td>\n",
       "      <td>125.530</td>\n",
       "    </tr>\n",
       "    <tr>\n",
       "      <th>29</th>\n",
       "      <td>Cabadbaran</td>\n",
       "      <td>73639</td>\n",
       "      <td>21444.0</td>\n",
       "      <td>343.0</td>\n",
       "      <td>31</td>\n",
       "      <td>CC</td>\n",
       "      <td>Agusan del Norte</td>\n",
       "      <td>9.117</td>\n",
       "      <td>125.533</td>\n",
       "    </tr>\n",
       "    <tr>\n",
       "      <th>39</th>\n",
       "      <td>Bayugan</td>\n",
       "      <td>103202</td>\n",
       "      <td>68877.0</td>\n",
       "      <td>150.0</td>\n",
       "      <td>43</td>\n",
       "      <td>CC</td>\n",
       "      <td>Agusan del Sur</td>\n",
       "      <td>8.717</td>\n",
       "      <td>125.750</td>\n",
       "    </tr>\n",
       "    <tr>\n",
       "      <th>75</th>\n",
       "      <td>Legazpi</td>\n",
       "      <td>196639</td>\n",
       "      <td>15370.0</td>\n",
       "      <td>1279.0</td>\n",
       "      <td>70</td>\n",
       "      <td>CC</td>\n",
       "      <td>Albay</td>\n",
       "      <td>13.130</td>\n",
       "      <td>123.730</td>\n",
       "    </tr>\n",
       "    <tr>\n",
       "      <th>77</th>\n",
       "      <td>Ligao</td>\n",
       "      <td>111399</td>\n",
       "      <td>24675.0</td>\n",
       "      <td>451.0</td>\n",
       "      <td>55</td>\n",
       "      <td>CC</td>\n",
       "      <td>Albay</td>\n",
       "      <td>13.217</td>\n",
       "      <td>123.517</td>\n",
       "    </tr>\n",
       "  </tbody>\n",
       "</table>\n",
       "</div>"
      ],
      "text/plain": [
       "          City  Population  Area_km2  pop_density Barangay Class  \\\n",
       "28      Butuan      337063   81662.0        413.0       86   HUC   \n",
       "29  Cabadbaran       73639   21444.0        343.0       31    CC   \n",
       "39     Bayugan      103202   68877.0        150.0       43    CC   \n",
       "75     Legazpi      196639   15370.0       1279.0       70    CC   \n",
       "77       Ligao      111399   24675.0        451.0       55    CC   \n",
       "\n",
       "            Province  Latitude  Longitude  \n",
       "28  Agusan del Norte     8.950    125.530  \n",
       "29  Agusan del Norte     9.117    125.533  \n",
       "39    Agusan del Sur     8.717    125.750  \n",
       "75             Albay    13.130    123.730  \n",
       "77             Albay    13.217    123.517  "
      ]
     },
     "execution_count": 42,
     "metadata": {},
     "output_type": "execute_result"
    }
   ],
   "source": [
    "import re\n",
    "cnd = popTable.City.apply(lambda x: np.where([bool(re.search(x, element)) for element in np.array(location_dat.City.values)] )[0])\n",
    "popTable['LongLat'] = [[location_dat.LatLng.values[sub_item] for sub_item in item] for item in cnd]\n",
    "city_info_table = popTable[popTable.LongLat.apply(len) == 1]\n",
    "city_info_table['LongLat'] = [subitem for item in city_info_table.LongLat.values for subitem in item]\n",
    "city_info_fnl = city_info_table[city_info_table.LongLat.isna() == False][city_info_table.Area_km2.isna() == False]\n",
    "\n",
    "city_info_fnl['Latitude']  = city_info_fnl.LongLat.apply(lambda x: float(x.split(';')[0]))\n",
    "city_info_fnl['Longitude']  = city_info_fnl.LongLat.apply(lambda x: float(x.split(';')[1]))\n",
    "\n",
    "city_info_fnl.drop(columns = ['LongLat'], inplace = True)\n",
    "city_info_fnl.head()"
   ]
  },
  {
   "cell_type": "code",
   "execution_count": 30,
   "metadata": {},
   "outputs": [
    {
     "data": {
      "text/plain": [
       "(110, 9)"
      ]
     },
     "execution_count": 30,
     "metadata": {},
     "output_type": "execute_result"
    }
   ],
   "source": [
    "city_info_fnl.shape"
   ]
  },
  {
   "cell_type": "markdown",
   "metadata": {},
   "source": [
    "## Determine all venues in a city"
   ]
  },
  {
   "cell_type": "code",
   "execution_count": 38,
   "metadata": {},
   "outputs": [],
   "source": [
    "CLIENT_ID = '0SO1TRZIQORZHKDFFX0KWSMEOCWSBGKVSF3UVCQUHGIWVVL3' #  Foursquare ID\n",
    "CLIENT_SECRET = 'YOPKZ01NZKOVPXXZJCAC4YZUI52BS0JKX2DZ34EWFUTIE4SQ' #  Foursquare Secret\n",
    "VERSION = '20180605' #  API version\n",
    "LIMIT = 500"
   ]
  },
  {
   "cell_type": "code",
   "execution_count": 39,
   "metadata": {},
   "outputs": [],
   "source": [
    "def getNearbyVenues(names, latitudes, longitudes, radius):\n",
    "    \n",
    "    venues_list=[]\n",
    "    for name, lat, lng, rad in zip(names, latitudes, longitudes, radius):\n",
    "        print(name)\n",
    "            \n",
    "        # create the API request URL\n",
    "        url = 'https://api.foursquare.com/v2/venues/explore?&client_id={}&client_secret={}&v={}&ll={},{}&radius={}&limit={}'.format(\n",
    "            CLIENT_ID, \n",
    "            CLIENT_SECRET, \n",
    "            VERSION, \n",
    "            lat, \n",
    "            lng, \n",
    "            rad, \n",
    "            LIMIT)\n",
    "            \n",
    "        # make the GET request\n",
    "        results = requests.get(url).json()[\"response\"]['groups'][0]['items']\n",
    "        \n",
    "       \n",
    "        # return only relevant information for each nearby venue\n",
    "        venues_list.append([(\n",
    "            name, \n",
    "            lat, \n",
    "            lng, \n",
    "            v['venue']['name'], \n",
    "            v['venue']['location']['lat'], \n",
    "            v['venue']['location']['lng'],  \n",
    "            v['venue']['categories'][0]['name']) for v in results])\n",
    "\n",
    "\n",
    "        nearby_venues = pd.DataFrame([item for venue_list in venues_list for item in venue_list])\n",
    "            \n",
    "     \n",
    "            \n",
    "        nearby_venues.columns = ['Neighborhood', \n",
    "                          'Neighborhood Latitude', \n",
    "                          'Neighborhood Longitude', \n",
    "                          'Venue', \n",
    "                          'Venue Latitude', \n",
    "                          'Venue Longitude', \n",
    "                          'Venue Category']\n",
    "            \n",
    "    \n",
    "    return(nearby_venues)"
   ]
  },
  {
   "cell_type": "markdown",
   "metadata": {},
   "source": [
    "To use this function, the radius was determined first from the area of the city"
   ]
  },
  {
   "cell_type": "code",
   "execution_count": 43,
   "metadata": {},
   "outputs": [],
   "source": [
    "import math\n",
    "city_info_fnl['radius'] = [math.sqrt(area/math.pi)*1000 for area in city_info_fnl.Area_km2]\n",
    "city_info_fnl = city_info_fnl.set_index('City').drop(index = ['Malaybalay', 'Ilagan', 'Iligan', 'Quezon City', 'Puerto Princesa', 'Calbayog']).reset_index()"
   ]
  },
  {
   "cell_type": "code",
   "execution_count": 44,
   "metadata": {
    "scrolled": true
   },
   "outputs": [
    {
     "data": {
      "text/html": [
       "<div>\n",
       "<style scoped>\n",
       "    .dataframe tbody tr th:only-of-type {\n",
       "        vertical-align: middle;\n",
       "    }\n",
       "\n",
       "    .dataframe tbody tr th {\n",
       "        vertical-align: top;\n",
       "    }\n",
       "\n",
       "    .dataframe thead th {\n",
       "        text-align: right;\n",
       "    }\n",
       "</style>\n",
       "<table border=\"1\" class=\"dataframe\">\n",
       "  <thead>\n",
       "    <tr style=\"text-align: right;\">\n",
       "      <th></th>\n",
       "      <th>City</th>\n",
       "      <th>Population</th>\n",
       "      <th>Area_km2</th>\n",
       "      <th>pop_density</th>\n",
       "      <th>Barangay</th>\n",
       "      <th>Class</th>\n",
       "      <th>Province</th>\n",
       "      <th>Latitude</th>\n",
       "      <th>Longitude</th>\n",
       "      <th>radius</th>\n",
       "    </tr>\n",
       "  </thead>\n",
       "  <tbody>\n",
       "    <tr>\n",
       "      <th>0</th>\n",
       "      <td>Butuan</td>\n",
       "      <td>337063</td>\n",
       "      <td>81662.0</td>\n",
       "      <td>413.0</td>\n",
       "      <td>86</td>\n",
       "      <td>HUC</td>\n",
       "      <td>Agusan del Norte</td>\n",
       "      <td>8.950</td>\n",
       "      <td>125.530</td>\n",
       "      <td>161225.996432</td>\n",
       "    </tr>\n",
       "    <tr>\n",
       "      <th>1</th>\n",
       "      <td>Cabadbaran</td>\n",
       "      <td>73639</td>\n",
       "      <td>21444.0</td>\n",
       "      <td>343.0</td>\n",
       "      <td>31</td>\n",
       "      <td>CC</td>\n",
       "      <td>Agusan del Norte</td>\n",
       "      <td>9.117</td>\n",
       "      <td>125.533</td>\n",
       "      <td>82618.625015</td>\n",
       "    </tr>\n",
       "    <tr>\n",
       "      <th>2</th>\n",
       "      <td>Bayugan</td>\n",
       "      <td>103202</td>\n",
       "      <td>68877.0</td>\n",
       "      <td>150.0</td>\n",
       "      <td>43</td>\n",
       "      <td>CC</td>\n",
       "      <td>Agusan del Sur</td>\n",
       "      <td>8.717</td>\n",
       "      <td>125.750</td>\n",
       "      <td>148068.328925</td>\n",
       "    </tr>\n",
       "    <tr>\n",
       "      <th>3</th>\n",
       "      <td>Legazpi</td>\n",
       "      <td>196639</td>\n",
       "      <td>15370.0</td>\n",
       "      <td>1279.0</td>\n",
       "      <td>70</td>\n",
       "      <td>CC</td>\n",
       "      <td>Albay</td>\n",
       "      <td>13.130</td>\n",
       "      <td>123.730</td>\n",
       "      <td>69945.857280</td>\n",
       "    </tr>\n",
       "    <tr>\n",
       "      <th>4</th>\n",
       "      <td>Ligao</td>\n",
       "      <td>111399</td>\n",
       "      <td>24675.0</td>\n",
       "      <td>451.0</td>\n",
       "      <td>55</td>\n",
       "      <td>CC</td>\n",
       "      <td>Albay</td>\n",
       "      <td>13.217</td>\n",
       "      <td>123.517</td>\n",
       "      <td>88624.468639</td>\n",
       "    </tr>\n",
       "  </tbody>\n",
       "</table>\n",
       "</div>"
      ],
      "text/plain": [
       "         City  Population  Area_km2  pop_density Barangay Class  \\\n",
       "0      Butuan      337063   81662.0        413.0       86   HUC   \n",
       "1  Cabadbaran       73639   21444.0        343.0       31    CC   \n",
       "2     Bayugan      103202   68877.0        150.0       43    CC   \n",
       "3     Legazpi      196639   15370.0       1279.0       70    CC   \n",
       "4       Ligao      111399   24675.0        451.0       55    CC   \n",
       "\n",
       "           Province  Latitude  Longitude         radius  \n",
       "0  Agusan del Norte     8.950    125.530  161225.996432  \n",
       "1  Agusan del Norte     9.117    125.533   82618.625015  \n",
       "2    Agusan del Sur     8.717    125.750  148068.328925  \n",
       "3             Albay    13.130    123.730   69945.857280  \n",
       "4             Albay    13.217    123.517   88624.468639  "
      ]
     },
     "execution_count": 44,
     "metadata": {},
     "output_type": "execute_result"
    }
   ],
   "source": [
    "city_info_fnl.head()"
   ]
  },
  {
   "cell_type": "code",
   "execution_count": 45,
   "metadata": {},
   "outputs": [
    {
     "name": "stdout",
     "output_type": "stream",
     "text": [
      "Butuan\n",
      "Cabadbaran\n",
      "Bayugan\n",
      "Legazpi\n",
      "Ligao\n",
      "Tabaco\n",
      "Isabela City\n",
      "Batangas City\n",
      "Lipa\n",
      "Baguio\n",
      "Tagbilaran\n",
      "Malolos\n",
      "Meycauayan\n",
      "San Jose del Monte\n",
      "Tuguegarao\n",
      "Iriga\n",
      "Roxas City\n",
      "Bacoor\n",
      "Cavite City\n",
      "Dasmariñas\n",
      "General Trias\n",
      "Imus\n",
      "Tagaytay\n",
      "Trece Martires\n",
      "Bogo\n",
      "Carcar\n",
      "Cebu City\n",
      "Mandaue\n",
      "Toledo\n",
      "Kidapawan\n",
      "Panabo\n",
      "Tagum\n",
      "Digos\n",
      "Mati\n",
      "Borongan\n",
      "Batac\n",
      "Laoag\n",
      "Vigan\n",
      "Iloilo City\n",
      "Passi\n",
      "Tabuk\n",
      "Biñan\n",
      "Cabuyao\n",
      "San Pedro\n",
      "Marawi\n",
      "Baybay\n",
      "Ormoc\n",
      "Tacloban\n",
      "Cotabato City\n",
      "Masbate City\n",
      "Oroquieta\n",
      "Ozamiz\n",
      "Tangub\n",
      "Cagayan de Oro\n",
      "El Salvador\n",
      "Gingoog\n",
      "Caloocan\n",
      "Las Piñas\n",
      "Makati\n",
      "Malabon\n",
      "Mandaluyong\n",
      "Manila\n",
      "Marikina\n",
      "Muntinlupa\n",
      "Navotas\n",
      "Parañaque\n",
      "Pasay\n",
      "Taguig\n",
      "Bago\n",
      "Cadiz\n",
      "Escalante\n",
      "Himamaylan\n",
      "Kabankalan\n",
      "Silay\n",
      "Sipalay\n",
      "Victorias\n",
      "Bais\n",
      "Canlaon\n",
      "Dumaguete\n",
      "Guihulngan\n",
      "Tanjay\n",
      "Cabanatuan\n",
      "Gapan\n",
      "Muñoz\n",
      "Palayan\n",
      "Calapan\n",
      "Angeles\n",
      "Mabalacat\n",
      "Dagupan\n",
      "Urdaneta\n",
      "Tayabas\n",
      "Antipolo\n",
      "Catbalogan\n",
      "Sorsogon City\n",
      "Koronadal\n",
      "Tacurong\n",
      "Surigao City\n",
      "Bislig\n",
      "Tandag\n",
      "Tarlac City\n",
      "Olongapo\n",
      "Dapitan\n",
      "Dipolog\n",
      "Pagadian\n"
     ]
    }
   ],
   "source": [
    "venue_list = getNearbyVenues(names = np.array(city_info_fnl.City), latitudes = np.array(city_info_fnl.Latitude), \n",
    "                            longitudes = np.array(city_info_fnl.Longitude), radius = np.array(city_info_fnl.radius))"
   ]
  },
  {
   "cell_type": "code",
   "execution_count": 46,
   "metadata": {},
   "outputs": [
    {
     "data": {
      "text/html": [
       "<div>\n",
       "<style scoped>\n",
       "    .dataframe tbody tr th:only-of-type {\n",
       "        vertical-align: middle;\n",
       "    }\n",
       "\n",
       "    .dataframe tbody tr th {\n",
       "        vertical-align: top;\n",
       "    }\n",
       "\n",
       "    .dataframe thead th {\n",
       "        text-align: right;\n",
       "    }\n",
       "</style>\n",
       "<table border=\"1\" class=\"dataframe\">\n",
       "  <thead>\n",
       "    <tr style=\"text-align: right;\">\n",
       "      <th></th>\n",
       "      <th>Neighborhood</th>\n",
       "      <th>Neighborhood Latitude</th>\n",
       "      <th>Neighborhood Longitude</th>\n",
       "      <th>Venue</th>\n",
       "      <th>Venue Latitude</th>\n",
       "      <th>Venue Longitude</th>\n",
       "      <th>Venue Category</th>\n",
       "    </tr>\n",
       "  </thead>\n",
       "  <tbody>\n",
       "    <tr>\n",
       "      <th>0</th>\n",
       "      <td>Butuan</td>\n",
       "      <td>8.95</td>\n",
       "      <td>125.53</td>\n",
       "      <td>Wat Ever Family KTV Butuan</td>\n",
       "      <td>8.946194</td>\n",
       "      <td>125.531061</td>\n",
       "      <td>Karaoke Bar</td>\n",
       "    </tr>\n",
       "    <tr>\n",
       "      <th>1</th>\n",
       "      <td>Butuan</td>\n",
       "      <td>8.95</td>\n",
       "      <td>125.53</td>\n",
       "      <td>Boy's Beer &amp; Wine Room</td>\n",
       "      <td>8.946217</td>\n",
       "      <td>125.531236</td>\n",
       "      <td>Beer Garden</td>\n",
       "    </tr>\n",
       "    <tr>\n",
       "      <th>2</th>\n",
       "      <td>Butuan</td>\n",
       "      <td>8.95</td>\n",
       "      <td>125.53</td>\n",
       "      <td>Watergate Hotel</td>\n",
       "      <td>8.951037</td>\n",
       "      <td>125.529557</td>\n",
       "      <td>Hotel</td>\n",
       "    </tr>\n",
       "    <tr>\n",
       "      <th>3</th>\n",
       "      <td>Butuan</td>\n",
       "      <td>8.95</td>\n",
       "      <td>125.53</td>\n",
       "      <td>Almont Inland Resort Butuan</td>\n",
       "      <td>8.946409</td>\n",
       "      <td>125.529393</td>\n",
       "      <td>Resort</td>\n",
       "    </tr>\n",
       "    <tr>\n",
       "      <th>4</th>\n",
       "      <td>Butuan</td>\n",
       "      <td>8.95</td>\n",
       "      <td>125.53</td>\n",
       "      <td>Margie's</td>\n",
       "      <td>8.947072</td>\n",
       "      <td>125.535636</td>\n",
       "      <td>Café</td>\n",
       "    </tr>\n",
       "  </tbody>\n",
       "</table>\n",
       "</div>"
      ],
      "text/plain": [
       "  Neighborhood  Neighborhood Latitude  Neighborhood Longitude  \\\n",
       "0       Butuan                   8.95                  125.53   \n",
       "1       Butuan                   8.95                  125.53   \n",
       "2       Butuan                   8.95                  125.53   \n",
       "3       Butuan                   8.95                  125.53   \n",
       "4       Butuan                   8.95                  125.53   \n",
       "\n",
       "                         Venue  Venue Latitude  Venue Longitude Venue Category  \n",
       "0   Wat Ever Family KTV Butuan        8.946194       125.531061    Karaoke Bar  \n",
       "1       Boy's Beer & Wine Room        8.946217       125.531236    Beer Garden  \n",
       "2              Watergate Hotel        8.951037       125.529557          Hotel  \n",
       "3  Almont Inland Resort Butuan        8.946409       125.529393         Resort  \n",
       "4                     Margie's        8.947072       125.535636           Café  "
      ]
     },
     "execution_count": 46,
     "metadata": {},
     "output_type": "execute_result"
    }
   ],
   "source": [
    "venue_list.head()"
   ]
  },
  {
   "cell_type": "code",
   "execution_count": 47,
   "metadata": {},
   "outputs": [
    {
     "data": {
      "text/plain": [
       "(9746, 7)"
      ]
     },
     "execution_count": 47,
     "metadata": {},
     "output_type": "execute_result"
    }
   ],
   "source": [
    "venue_list.shape"
   ]
  },
  {
   "cell_type": "markdown",
   "metadata": {},
   "source": [
    "Pickle this this list for future uses"
   ]
  },
  {
   "cell_type": "code",
   "execution_count": 49,
   "metadata": {},
   "outputs": [],
   "source": [
    "import pickle\n",
    "\n",
    "venue_list.to_pickle('venue_list.pkl')"
   ]
  },
  {
   "cell_type": "code",
   "execution_count": 80,
   "metadata": {},
   "outputs": [
    {
     "data": {
      "text/plain": [
       "Text(0.5, 1.0, 'Top 20 Venues in the Philippines')"
      ]
     },
     "execution_count": 80,
     "metadata": {},
     "output_type": "execute_result"
    },
    {
     "data": {
      "image/png": "[encoded data removed]",
      "text/plain": [
       "<Figure size 720x360 with 1 Axes>"
      ]
     },
     "metadata": {},
     "output_type": "display_data"
    }
   ],
   "source": [
    "venue_counts = venue_list['Venue Category'].value_counts().reset_index() \\\n",
    ".rename(columns = {'index': 'Venue', 'Venue Category': 'counts'})\n",
    "\n",
    "sns.set(font_scale = 1.2)\n",
    "sns.set_style('whitegrid')\n",
    "fig, ax = pyplot.subplots(figsize = (10, 5))\n",
    "cnt1  = sns.barplot(x = 'Venue', y = 'counts', data = venue_counts.loc[0:21,:], color = 'slateblue')\n",
    "cnt1.set_xticklabels(cnt1.get_xticklabels(), rotation = 45, fontsize = 12, horizontalalignment = 'right')\n",
    "cnt1.set_title('Top 20 Venues in the Philippines', fontsize=15)"
   ]
  },
  {
   "cell_type": "markdown",
   "metadata": {},
   "source": [
    "## Preparing data set for modeling"
   ]
  },
  {
   "cell_type": "code",
   "execution_count": 51,
   "metadata": {},
   "outputs": [
    {
     "data": {
      "text/html": [
       "<div>\n",
       "<style scoped>\n",
       "    .dataframe tbody tr th:only-of-type {\n",
       "        vertical-align: middle;\n",
       "    }\n",
       "\n",
       "    .dataframe tbody tr th {\n",
       "        vertical-align: top;\n",
       "    }\n",
       "\n",
       "    .dataframe thead th {\n",
       "        text-align: right;\n",
       "    }\n",
       "</style>\n",
       "<table border=\"1\" class=\"dataframe\">\n",
       "  <thead>\n",
       "    <tr style=\"text-align: right;\">\n",
       "      <th></th>\n",
       "      <th>City</th>\n",
       "      <th>Venue Category</th>\n",
       "      <th>Count</th>\n",
       "      <th>African Restaurant</th>\n",
       "      <th>Airport</th>\n",
       "      <th>Airport Lounge</th>\n",
       "      <th>American Restaurant</th>\n",
       "      <th>Arcade</th>\n",
       "      <th>Art Gallery</th>\n",
       "      <th>Art Museum</th>\n",
       "      <th>...</th>\n",
       "      <th>Water Park</th>\n",
       "      <th>Waterfall</th>\n",
       "      <th>Windmill</th>\n",
       "      <th>Wine Bar</th>\n",
       "      <th>Wings Joint</th>\n",
       "      <th>Yoga Studio</th>\n",
       "      <th>Zoo</th>\n",
       "      <th>Population</th>\n",
       "      <th>Area_km2</th>\n",
       "      <th>pop_density</th>\n",
       "    </tr>\n",
       "  </thead>\n",
       "  <tbody>\n",
       "    <tr>\n",
       "      <th>0</th>\n",
       "      <td>Angeles</td>\n",
       "      <td>American Restaurant</td>\n",
       "      <td>4</td>\n",
       "      <td>0</td>\n",
       "      <td>0</td>\n",
       "      <td>0</td>\n",
       "      <td>1</td>\n",
       "      <td>0</td>\n",
       "      <td>0</td>\n",
       "      <td>0</td>\n",
       "      <td>...</td>\n",
       "      <td>0</td>\n",
       "      <td>0</td>\n",
       "      <td>0</td>\n",
       "      <td>0</td>\n",
       "      <td>0</td>\n",
       "      <td>0</td>\n",
       "      <td>0</td>\n",
       "      <td>411634</td>\n",
       "      <td>6027.0</td>\n",
       "      <td>6830.0</td>\n",
       "    </tr>\n",
       "    <tr>\n",
       "      <th>1</th>\n",
       "      <td>Angeles</td>\n",
       "      <td>Asian Restaurant</td>\n",
       "      <td>1</td>\n",
       "      <td>0</td>\n",
       "      <td>0</td>\n",
       "      <td>0</td>\n",
       "      <td>0</td>\n",
       "      <td>0</td>\n",
       "      <td>0</td>\n",
       "      <td>0</td>\n",
       "      <td>...</td>\n",
       "      <td>0</td>\n",
       "      <td>0</td>\n",
       "      <td>0</td>\n",
       "      <td>0</td>\n",
       "      <td>0</td>\n",
       "      <td>0</td>\n",
       "      <td>0</td>\n",
       "      <td>411634</td>\n",
       "      <td>6027.0</td>\n",
       "      <td>6830.0</td>\n",
       "    </tr>\n",
       "    <tr>\n",
       "      <th>2</th>\n",
       "      <td>Angeles</td>\n",
       "      <td>BBQ Joint</td>\n",
       "      <td>3</td>\n",
       "      <td>0</td>\n",
       "      <td>0</td>\n",
       "      <td>0</td>\n",
       "      <td>0</td>\n",
       "      <td>0</td>\n",
       "      <td>0</td>\n",
       "      <td>0</td>\n",
       "      <td>...</td>\n",
       "      <td>0</td>\n",
       "      <td>0</td>\n",
       "      <td>0</td>\n",
       "      <td>0</td>\n",
       "      <td>0</td>\n",
       "      <td>0</td>\n",
       "      <td>0</td>\n",
       "      <td>411634</td>\n",
       "      <td>6027.0</td>\n",
       "      <td>6830.0</td>\n",
       "    </tr>\n",
       "    <tr>\n",
       "      <th>3</th>\n",
       "      <td>Angeles</td>\n",
       "      <td>Bakery</td>\n",
       "      <td>1</td>\n",
       "      <td>0</td>\n",
       "      <td>0</td>\n",
       "      <td>0</td>\n",
       "      <td>0</td>\n",
       "      <td>0</td>\n",
       "      <td>0</td>\n",
       "      <td>0</td>\n",
       "      <td>...</td>\n",
       "      <td>0</td>\n",
       "      <td>0</td>\n",
       "      <td>0</td>\n",
       "      <td>0</td>\n",
       "      <td>0</td>\n",
       "      <td>0</td>\n",
       "      <td>0</td>\n",
       "      <td>411634</td>\n",
       "      <td>6027.0</td>\n",
       "      <td>6830.0</td>\n",
       "    </tr>\n",
       "    <tr>\n",
       "      <th>4</th>\n",
       "      <td>Angeles</td>\n",
       "      <td>Bar</td>\n",
       "      <td>1</td>\n",
       "      <td>0</td>\n",
       "      <td>0</td>\n",
       "      <td>0</td>\n",
       "      <td>0</td>\n",
       "      <td>0</td>\n",
       "      <td>0</td>\n",
       "      <td>0</td>\n",
       "      <td>...</td>\n",
       "      <td>0</td>\n",
       "      <td>0</td>\n",
       "      <td>0</td>\n",
       "      <td>0</td>\n",
       "      <td>0</td>\n",
       "      <td>0</td>\n",
       "      <td>0</td>\n",
       "      <td>411634</td>\n",
       "      <td>6027.0</td>\n",
       "      <td>6830.0</td>\n",
       "    </tr>\n",
       "  </tbody>\n",
       "</table>\n",
       "<p>5 rows × 221 columns</p>\n",
       "</div>"
      ],
      "text/plain": [
       "      City       Venue Category  Count  African Restaurant  Airport  \\\n",
       "0  Angeles  American Restaurant      4                   0        0   \n",
       "1  Angeles     Asian Restaurant      1                   0        0   \n",
       "2  Angeles            BBQ Joint      3                   0        0   \n",
       "3  Angeles               Bakery      1                   0        0   \n",
       "4  Angeles                  Bar      1                   0        0   \n",
       "\n",
       "   Airport Lounge  American Restaurant  Arcade  Art Gallery  Art Museum  ...  \\\n",
       "0               0                    1       0            0           0  ...   \n",
       "1               0                    0       0            0           0  ...   \n",
       "2               0                    0       0            0           0  ...   \n",
       "3               0                    0       0            0           0  ...   \n",
       "4               0                    0       0            0           0  ...   \n",
       "\n",
       "   Water Park  Waterfall  Windmill  Wine Bar  Wings Joint  Yoga Studio  Zoo  \\\n",
       "0           0          0         0         0            0            0    0   \n",
       "1           0          0         0         0            0            0    0   \n",
       "2           0          0         0         0            0            0    0   \n",
       "3           0          0         0         0            0            0    0   \n",
       "4           0          0         0         0            0            0    0   \n",
       "\n",
       "   Population  Area_km2  pop_density  \n",
       "0      411634    6027.0       6830.0  \n",
       "1      411634    6027.0       6830.0  \n",
       "2      411634    6027.0       6830.0  \n",
       "3      411634    6027.0       6830.0  \n",
       "4      411634    6027.0       6830.0  \n",
       "\n",
       "[5 rows x 221 columns]"
      ]
     },
     "execution_count": 51,
     "metadata": {},
     "output_type": "execute_result"
    }
   ],
   "source": [
    "venue_list.rename(columns = {'Neighborhood':  'City'}, inplace = True)\n",
    "venue_list_onehot = pd.get_dummies(venue_list[['Venue Category']], prefix = '', prefix_sep = '')\n",
    "venue_list_onehot.insert(0, 'City', venue_list['City'])\n",
    "\n",
    "venue_grouped = venue_list.groupby(['City', 'Venue Category']).size().reset_index().rename(columns = {0: 'Count'})\n",
    "venue_list_onehot = pd.get_dummies(venue_grouped[['Venue Category']], prefix = '', prefix_sep = '')\n",
    "venue_grouped_onehot = pd.concat([venue_grouped, venue_list_onehot], axis = 1) \\\n",
    ".join(city_info_fnl[['City','Population', 'Area_km2', 'pop_density']].set_index('City'), \n",
    "     on = 'City', how = 'left')\n",
    "\n",
    "\n",
    "venue_grouped_onehot.head()\n",
    "\n"
   ]
  },
  {
   "cell_type": "code",
   "execution_count": 93,
   "metadata": {},
   "outputs": [],
   "source": [
    "venue_grouped_onehot['tot'] = venue_grouped_onehot[['Count', 'City']].groupby(['City']).transform('sum')\n",
    "venue_grouped_onehot['prop'] = venue_grouped_onehot['Count']/venue_grouped_onehot['tot']"
   ]
  },
  {
   "cell_type": "code",
   "execution_count": 101,
   "metadata": {},
   "outputs": [
    {
     "data": {
      "text/html": [
       "<div>\n",
       "<style scoped>\n",
       "    .dataframe tbody tr th:only-of-type {\n",
       "        vertical-align: middle;\n",
       "    }\n",
       "\n",
       "    .dataframe tbody tr th {\n",
       "        vertical-align: top;\n",
       "    }\n",
       "\n",
       "    .dataframe thead th {\n",
       "        text-align: right;\n",
       "    }\n",
       "</style>\n",
       "<table border=\"1\" class=\"dataframe\">\n",
       "  <thead>\n",
       "    <tr style=\"text-align: right;\">\n",
       "      <th></th>\n",
       "      <th>City</th>\n",
       "      <th>Venue Category</th>\n",
       "      <th>Count</th>\n",
       "      <th>African Restaurant</th>\n",
       "      <th>Airport</th>\n",
       "      <th>Airport Lounge</th>\n",
       "      <th>American Restaurant</th>\n",
       "      <th>Arcade</th>\n",
       "      <th>Art Gallery</th>\n",
       "      <th>Art Museum</th>\n",
       "      <th>...</th>\n",
       "      <th>Windmill</th>\n",
       "      <th>Wine Bar</th>\n",
       "      <th>Wings Joint</th>\n",
       "      <th>Yoga Studio</th>\n",
       "      <th>Zoo</th>\n",
       "      <th>Population</th>\n",
       "      <th>Area_km2</th>\n",
       "      <th>pop_density</th>\n",
       "      <th>tot</th>\n",
       "      <th>prop</th>\n",
       "    </tr>\n",
       "  </thead>\n",
       "  <tbody>\n",
       "    <tr>\n",
       "      <th>0</th>\n",
       "      <td>Angeles</td>\n",
       "      <td>American Restaurant</td>\n",
       "      <td>4</td>\n",
       "      <td>0</td>\n",
       "      <td>0</td>\n",
       "      <td>0</td>\n",
       "      <td>1</td>\n",
       "      <td>0</td>\n",
       "      <td>0</td>\n",
       "      <td>0</td>\n",
       "      <td>...</td>\n",
       "      <td>0</td>\n",
       "      <td>0</td>\n",
       "      <td>0</td>\n",
       "      <td>0</td>\n",
       "      <td>0</td>\n",
       "      <td>411634</td>\n",
       "      <td>6027.0</td>\n",
       "      <td>6830.0</td>\n",
       "      <td>100</td>\n",
       "      <td>0.04</td>\n",
       "    </tr>\n",
       "    <tr>\n",
       "      <th>1</th>\n",
       "      <td>Angeles</td>\n",
       "      <td>Asian Restaurant</td>\n",
       "      <td>1</td>\n",
       "      <td>0</td>\n",
       "      <td>0</td>\n",
       "      <td>0</td>\n",
       "      <td>0</td>\n",
       "      <td>0</td>\n",
       "      <td>0</td>\n",
       "      <td>0</td>\n",
       "      <td>...</td>\n",
       "      <td>0</td>\n",
       "      <td>0</td>\n",
       "      <td>0</td>\n",
       "      <td>0</td>\n",
       "      <td>0</td>\n",
       "      <td>411634</td>\n",
       "      <td>6027.0</td>\n",
       "      <td>6830.0</td>\n",
       "      <td>100</td>\n",
       "      <td>0.01</td>\n",
       "    </tr>\n",
       "    <tr>\n",
       "      <th>2</th>\n",
       "      <td>Angeles</td>\n",
       "      <td>BBQ Joint</td>\n",
       "      <td>3</td>\n",
       "      <td>0</td>\n",
       "      <td>0</td>\n",
       "      <td>0</td>\n",
       "      <td>0</td>\n",
       "      <td>0</td>\n",
       "      <td>0</td>\n",
       "      <td>0</td>\n",
       "      <td>...</td>\n",
       "      <td>0</td>\n",
       "      <td>0</td>\n",
       "      <td>0</td>\n",
       "      <td>0</td>\n",
       "      <td>0</td>\n",
       "      <td>411634</td>\n",
       "      <td>6027.0</td>\n",
       "      <td>6830.0</td>\n",
       "      <td>100</td>\n",
       "      <td>0.03</td>\n",
       "    </tr>\n",
       "    <tr>\n",
       "      <th>3</th>\n",
       "      <td>Angeles</td>\n",
       "      <td>Bakery</td>\n",
       "      <td>1</td>\n",
       "      <td>0</td>\n",
       "      <td>0</td>\n",
       "      <td>0</td>\n",
       "      <td>0</td>\n",
       "      <td>0</td>\n",
       "      <td>0</td>\n",
       "      <td>0</td>\n",
       "      <td>...</td>\n",
       "      <td>0</td>\n",
       "      <td>0</td>\n",
       "      <td>0</td>\n",
       "      <td>0</td>\n",
       "      <td>0</td>\n",
       "      <td>411634</td>\n",
       "      <td>6027.0</td>\n",
       "      <td>6830.0</td>\n",
       "      <td>100</td>\n",
       "      <td>0.01</td>\n",
       "    </tr>\n",
       "    <tr>\n",
       "      <th>4</th>\n",
       "      <td>Angeles</td>\n",
       "      <td>Bar</td>\n",
       "      <td>1</td>\n",
       "      <td>0</td>\n",
       "      <td>0</td>\n",
       "      <td>0</td>\n",
       "      <td>0</td>\n",
       "      <td>0</td>\n",
       "      <td>0</td>\n",
       "      <td>0</td>\n",
       "      <td>...</td>\n",
       "      <td>0</td>\n",
       "      <td>0</td>\n",
       "      <td>0</td>\n",
       "      <td>0</td>\n",
       "      <td>0</td>\n",
       "      <td>411634</td>\n",
       "      <td>6027.0</td>\n",
       "      <td>6830.0</td>\n",
       "      <td>100</td>\n",
       "      <td>0.01</td>\n",
       "    </tr>\n",
       "  </tbody>\n",
       "</table>\n",
       "<p>5 rows × 223 columns</p>\n",
       "</div>"
      ],
      "text/plain": [
       "      City       Venue Category  Count  African Restaurant  Airport  \\\n",
       "0  Angeles  American Restaurant      4                   0        0   \n",
       "1  Angeles     Asian Restaurant      1                   0        0   \n",
       "2  Angeles            BBQ Joint      3                   0        0   \n",
       "3  Angeles               Bakery      1                   0        0   \n",
       "4  Angeles                  Bar      1                   0        0   \n",
       "\n",
       "   Airport Lounge  American Restaurant  Arcade  Art Gallery  Art Museum  ...  \\\n",
       "0               0                    1       0            0           0  ...   \n",
       "1               0                    0       0            0           0  ...   \n",
       "2               0                    0       0            0           0  ...   \n",
       "3               0                    0       0            0           0  ...   \n",
       "4               0                    0       0            0           0  ...   \n",
       "\n",
       "   Windmill  Wine Bar  Wings Joint  Yoga Studio  Zoo  Population  Area_km2  \\\n",
       "0         0         0            0            0    0      411634    6027.0   \n",
       "1         0         0            0            0    0      411634    6027.0   \n",
       "2         0         0            0            0    0      411634    6027.0   \n",
       "3         0         0            0            0    0      411634    6027.0   \n",
       "4         0         0            0            0    0      411634    6027.0   \n",
       "\n",
       "   pop_density  tot  prop  \n",
       "0       6830.0  100  0.04  \n",
       "1       6830.0  100  0.01  \n",
       "2       6830.0  100  0.03  \n",
       "3       6830.0  100  0.01  \n",
       "4       6830.0  100  0.01  \n",
       "\n",
       "[5 rows x 223 columns]"
      ]
     },
     "execution_count": 101,
     "metadata": {},
     "output_type": "execute_result"
    }
   ],
   "source": [
    "venue_grouped_onehot.head()"
   ]
  },
  {
   "cell_type": "markdown",
   "metadata": {},
   "source": [
    "## Statistical Modeling"
   ]
  },
  {
   "cell_type": "markdown",
   "metadata": {},
   "source": [
    "At this point, there is a need to choose just one sensible venue category to model. There is a need to make sure that venue categories are well-reviewed in Foursquare to avoid biases. For example, it maybe possible that bakeries are not well-reported due to the fact that not a lot of people review it. \n",
    "\n",
    "For this modeling exercise, I will model Venue Category **Hotel** and **Coffee Shop**. Furthermore, since the observed number of establishments that is currently in the data set is believed to be only a sample of the venues in a city, a `prop` value was derived which pertains to the proportion of establisments in a city."
   ]
  },
  {
   "cell_type": "code",
   "execution_count": 107,
   "metadata": {},
   "outputs": [
    {
     "data": {
      "text/plain": [
       "(101, 223)"
      ]
     },
     "execution_count": 107,
     "metadata": {},
     "output_type": "execute_result"
    }
   ],
   "source": [
    "Hotels_df = venue_grouped_onehot[venue_grouped_onehot['Venue Category'] == 'Hotel']\n",
    "Hotels_df.shape\n"
   ]
  },
  {
   "cell_type": "code",
   "execution_count": 114,
   "metadata": {},
   "outputs": [
    {
     "data": {
      "text/plain": [
       "(102, 223)"
      ]
     },
     "execution_count": 114,
     "metadata": {},
     "output_type": "execute_result"
    }
   ],
   "source": [
    "Coffee_shop_df = venue_grouped_onehot[venue_grouped_onehot['Venue Category'] == 'Coffee Shop']\n",
    "Coffee_shop_df.shape"
   ]
  },
  {
   "cell_type": "markdown",
   "metadata": {},
   "source": [
    "### Modeling of Proportions of hotels in a city "
   ]
  },
  {
   "cell_type": "markdown",
   "metadata": {},
   "source": [
    "#### Multiple linear regression (features: Population, population density)"
   ]
  },
  {
   "cell_type": "code",
   "execution_count": 118,
   "metadata": {},
   "outputs": [
    {
     "data": {
      "text/plain": [
       "0.19894346544764918"
      ]
     },
     "execution_count": 118,
     "metadata": {},
     "output_type": "execute_result"
    }
   ],
   "source": [
    "from sklearn.linear_model import LinearRegression\n",
    "\n",
    "\n",
    "X_hotels = Hotels_df[['Population', 'pop_density']]\n",
    "Y_hotels_prop = Hotels_df['prop']\n",
    "\n",
    "lr = LinearRegression()\n",
    "lr.fit(X_hotels, Y_hotels_prop)\n",
    "\n",
    "preds = lr.predict(X_hotels)\n",
    "lr.score(X_hotels, Y_hotels_prop)"
   ]
  },
  {
   "cell_type": "code",
   "execution_count": 164,
   "metadata": {},
   "outputs": [
    {
     "data": {
      "text/plain": [
       "Text(0, 0.5, 'Proportion of Hotels')"
      ]
     },
     "execution_count": 164,
     "metadata": {},
     "output_type": "execute_result"
    },
    {
     "data": {
      "image/png": "[encoded data removed]",
      "text/plain": [
       "<Figure size 648x360 with 1 Axes>"
      ]
     },
     "metadata": {},
     "output_type": "display_data"
    }
   ],
   "source": [
    "mean_pop_density = round(X_hotels.pop_density.mean(),-1)\n",
    "forLineVals = pd.DataFrame({'Population': np.linspace(0, 1.75e6), \n",
    "                            'pop_density': mean_pop_density})\n",
    "\n",
    "preds = lr.predict(forLineVals)\n",
    "fig, ax = pyplot.subplots(figsize = (9, 5))\n",
    "lplot = sns.lineplot(np.linspace(0, 1.75e6), preds)\n",
    "sns.scatterplot(X_hotels['Population'], Y_hotels_prop)\n",
    "lplot.set_title('Proportion of Hotels vs population \\n (pop_density = {})'.format(mean_pop_density))\n",
    "lplot.set_ylabel('Proportion of Hotels')\n"
   ]
  },
  {
   "cell_type": "markdown",
   "metadata": {},
   "source": [
    "#### Features: log population; Response: log proportion"
   ]
  },
  {
   "cell_type": "code",
   "execution_count": 170,
   "metadata": {},
   "outputs": [
    {
     "name": "stderr",
     "output_type": "stream",
     "text": [
      "/Library/Frameworks/Python.framework/Versions/3.6/lib/python3.6/site-packages/ipykernel_launcher.py:1: SettingWithCopyWarning: \n",
      "A value is trying to be set on a copy of a slice from a DataFrame.\n",
      "Try using .loc[row_indexer,col_indexer] = value instead\n",
      "\n",
      "See the caveats in the documentation: https://pandas.pydata.org/pandas-docs/stable/user_guide/indexing.html#returning-a-view-versus-a-copy\n",
      "  \"\"\"Entry point for launching an IPython kernel.\n"
     ]
    },
    {
     "data": {
      "text/plain": [
       "0.12257692767451979"
      ]
     },
     "execution_count": 170,
     "metadata": {},
     "output_type": "execute_result"
    }
   ],
   "source": [
    "X_hotels['log_pop'] = Hotels_df['Population'].apply(math.log)\n",
    "Y_hotels_prop_log = [math.log(pop) for pop in Y_hotels_prop]\n",
    "\n",
    "lr_log_pop = LinearRegression()\n",
    "lr_log_pop.fit(X_hotels[['log_pop']], Y_hotels_prop_log)\n",
    "lr_log_pop.score(X_hotels[['log_pop']], Y_hotels_prop_log)"
   ]
  },
  {
   "cell_type": "markdown",
   "metadata": {},
   "source": [
    "#### Features: log population, log population density; Response: log proportion"
   ]
  },
  {
   "cell_type": "code",
   "execution_count": 166,
   "metadata": {},
   "outputs": [
    {
     "name": "stderr",
     "output_type": "stream",
     "text": [
      "/Library/Frameworks/Python.framework/Versions/3.6/lib/python3.6/site-packages/ipykernel_launcher.py:4: SettingWithCopyWarning: \n",
      "A value is trying to be set on a copy of a slice from a DataFrame.\n",
      "Try using .loc[row_indexer,col_indexer] = value instead\n",
      "\n",
      "See the caveats in the documentation: https://pandas.pydata.org/pandas-docs/stable/user_guide/indexing.html#returning-a-view-versus-a-copy\n",
      "  after removing the cwd from sys.path.\n",
      "/Library/Frameworks/Python.framework/Versions/3.6/lib/python3.6/site-packages/ipykernel_launcher.py:5: SettingWithCopyWarning: \n",
      "A value is trying to be set on a copy of a slice from a DataFrame.\n",
      "Try using .loc[row_indexer,col_indexer] = value instead\n",
      "\n",
      "See the caveats in the documentation: https://pandas.pydata.org/pandas-docs/stable/user_guide/indexing.html#returning-a-view-versus-a-copy\n",
      "  \"\"\"\n"
     ]
    },
    {
     "data": {
      "text/plain": [
       "0.15036961484133038"
      ]
     },
     "execution_count": 166,
     "metadata": {},
     "output_type": "execute_result"
    }
   ],
   "source": [
    "X_hotels['log_pop_dens'] = Hotels_df['pop_density'].apply(math.log)\n",
    "\n",
    "\n",
    "lr_log = LinearRegression()\n",
    "lr_log.fit(X_hotels[['log_pop', 'log_pop_dens']], Y_hotels_prop_log)\n",
    "lr_log.score(X_hotels[['log_pop', 'log_pop_dens']], Y_hotels_prop_log)"
   ]
  },
  {
   "cell_type": "code",
   "execution_count": 169,
   "metadata": {},
   "outputs": [
    {
     "data": {
      "text/plain": [
       "Text(0, 0.5, 'log Proportion of Hotels')"
      ]
     },
     "execution_count": 169,
     "metadata": {},
     "output_type": "execute_result"
    },
    {
     "data": {
      "image/png": "[encoded data removed]",
      "text/plain": [
       "<Figure size 648x360 with 1 Axes>"
      ]
     },
     "metadata": {},
     "output_type": "display_data"
    }
   ],
   "source": [
    "mean_pop_density = round(X_hotels.log_pop_dens.mean(),-1)\n",
    "forLineVals = pd.DataFrame({'log_pop': np.linspace(10, 15), \n",
    "                            'log_pop_dens': mean_pop_density})\n",
    "\n",
    "preds = lr_log.predict(forLineVals)\n",
    "fig, ax = pyplot.subplots(figsize = (9, 5))\n",
    "lplot = sns.lineplot(np.linspace(10,15), preds)\n",
    "sns.scatterplot(X_hotels['log_pop'], Y_hotels_prop_log)\n",
    "lplot.set_title(' log Proportion of Hotels vs log population \\n (log_pop_density = {})'.format(mean_pop_density))\n",
    "lplot.set_xlabel('log Population')\n",
    "lplot.set_ylabel('log Proportion of Hotels')"
   ]
  },
  {
   "cell_type": "code",
   "execution_count": 167,
   "metadata": {},
   "outputs": [
    {
     "data": {
      "text/plain": [
       "array([0.09292715, 0.08260048])"
      ]
     },
     "execution_count": 167,
     "metadata": {},
     "output_type": "execute_result"
    }
   ],
   "source": [
    "lr_log.coef_"
   ]
  },
  {
   "cell_type": "code",
   "execution_count": null,
   "metadata": {},
   "outputs": [],
   "source": []
  }
 ],
 "metadata": {
  "kernelspec": {
   "display_name": "Python 3",
   "language": "python",
   "name": "python3"
  },
  "language_info": {
   "codemirror_mode": {
    "name": "ipython",
    "version": 3
   },
   "file_extension": ".py",
   "mimetype": "text/x-python",
   "name": "python",
   "nbconvert_exporter": "python",
   "pygments_lexer": "ipython3",
   "version": "3.6.3"
  }
 },
 "nbformat": 4,
 "nbformat_minor": 1
}
