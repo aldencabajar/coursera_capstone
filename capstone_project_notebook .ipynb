{
    "cells": [
        {
            "cell_type": "markdown",
            "metadata": {
                "collapsed": true
            },
            "source": "# Predicting Service Demand in a City/Neighborhood"
        },
        {
            "cell_type": "markdown",
            "metadata": {},
            "source": "## Introduction\n\nA pattern in the growth of services emerges with the growth of a city or neighborhood, affected along with its cultural and societal values. Kuhnert et al. (2006) had displayed examples of these patterns such as the logarithmic increase of the services such as petrol stations, pharmacies, clinics etc. Geoffrey West in his book called \"Scale\", has pointed out that in organism-like structures such as animals, cities and companies, there seems to be an optimal curve in relation to its size wherein values above this curve are organisms pushing its limits, and below the curve are organisms underutilizing its resources. With this line of thinking, it can be said that there must be a baseline in which it can be determined if a city or neighborhood still lacks the necessary services. \n\nPutting up a business and wondering which type of service is lacking in a certain neighborhood/city is surely a nerve-wracking experience especially for first-time entrepreneurs. Questions such as \"Should I put up a laundry service?\" or \"Is there demand for an Asian restaurant in this neighborhood?\" are some motivational examples. If information is available for these entrepreneurs, they will have an idea which of the types of services that are in short demand or in over-supply. In turn, they can have an easier time to weigh the pros and cons and scope into businesses that can potentially be profitable.  \n\nKnowing which businesses are appropriate for a certain location/neighborhood are not only useful for entrepreneurs, but also for city governments. Having insight on which neighborhoods could use more or less of a certain type of service can be helpful in careful city planning. Also, questions about what it takes for a neighborhood/city to improve are also of interest. \"Does a city need more roads?\" or \"Does a city need more connectivity to support the number of services/establishments?\" are just some of the questions that might be crucial to answer. \n\n\n\n"
        },
        {
            "cell_type": "markdown",
            "metadata": {},
            "source": "## Data Sources"
        },
        {
            "cell_type": "markdown",
            "metadata": {},
            "source": "### Overview\nAs this is only a proof of concept, this analysis will only include **cities/municipalities in the Philippines** with a clear hierarchical structure in terms of government units. In the Philippines, the usual government unit structure is shown below:\n\n+ Region\n    + Province\n        + City\n            + Barangay\n \n Since there is more interest in a more granular view, we need to put our sights at the *Barangay* level which is the most basic government unit in the Philippines.\n\n### Location \nFor this analysis, location data in Foursquare will be collected using the Foursquare location API. This will include primarily the category of a certain venue/service established in a barangay. As a start, we scope into food-related establishments. More types can be incorporated later on.\n\n### Other important fields\nPopulation information about these barangays are important to obtain as this was identified as an important variable in establishment count growth. Other-related fields that may be useful to describe how connected a city is are the total land mass of the City/Municipality, the number of roads, and the total road length. This will be obtained from [https://en.wikipedia.org/wiki/List_of_cities_and_municipalities_in_the_Philippines](). \n\n### Response \nTo know if a certain city has an oversupply/undersupply of a certain service, the response to be used for this analysis are the number of establishments in a city for a venue category. "
        },
        {
            "cell_type": "markdown",
            "metadata": {},
            "source": "## Data Preparation"
        },
        {
            "cell_type": "code",
            "execution_count": 1,
            "metadata": {
                "scrolled": true
            },
            "outputs": [
                {
                    "name": "stdout",
                    "output_type": "stream",
                    "text": "Requirement already satisfied: geocoder in /opt/conda/envs/Python36/lib/python3.6/site-packages (1.38.1)\r\nRequirement already satisfied: ratelim in /opt/conda/envs/Python36/lib/python3.6/site-packages (from geocoder) (0.1.6)\r\nRequirement already satisfied: click in /opt/conda/envs/Python36/lib/python3.6/site-packages (from geocoder) (7.0)\r\nRequirement already satisfied: six in /opt/conda/envs/Python36/lib/python3.6/site-packages (from geocoder) (1.12.0)\r\nRequirement already satisfied: requests in /opt/conda/envs/Python36/lib/python3.6/site-packages (from geocoder) (2.21.0)\r\nRequirement already satisfied: future in /opt/conda/envs/Python36/lib/python3.6/site-packages (from geocoder) (0.17.1)\r\nRequirement already satisfied: decorator in /opt/conda/envs/Python36/lib/python3.6/site-packages (from ratelim->geocoder) (4.3.2)\r\nRequirement already satisfied: chardet<3.1.0,>=3.0.2 in /opt/conda/envs/Python36/lib/python3.6/site-packages (from requests->geocoder) (3.0.4)\r\nRequirement already satisfied: idna<2.9,>=2.5 in /opt/conda/envs/Python36/lib/python3.6/site-packages (from requests->geocoder) (2.8)\r\nRequirement already satisfied: urllib3<1.25,>=1.21.1 in /opt/conda/envs/Python36/lib/python3.6/site-packages (from requests->geocoder) (1.24.1)\r\nRequirement already satisfied: certifi>=2017.4.17 in /opt/conda/envs/Python36/lib/python3.6/site-packages (from requests->geocoder) (2019.11.28)\r\n"
                }
            ],
            "source": "!pip install geocoder"
        },
        {
            "cell_type": "code",
            "execution_count": 2,
            "metadata": {},
            "outputs": [],
            "source": "import pandas as pd\nimport numpy as np\nimport seaborn as sns\nimport matplotlib\n"
        },
        {
            "cell_type": "markdown",
            "metadata": {},
            "source": "### Scraping population and land mass data from Wikipedia"
        },
        {
            "cell_type": "markdown",
            "metadata": {},
            "source": "Using information from wikipedia, I scrape the relevant population data for the different cities and municipalities in the Philippines. The final data frame should contain the *name of the city/municipality*, *population*, and *land area*. For now, only cities will be included due to the limited availability of coordinates. "
        },
        {
            "cell_type": "code",
            "execution_count": 3,
            "metadata": {},
            "outputs": [],
            "source": "url = 'https://en.wikipedia.org/wiki/List_of_cities_and_municipalities_in_the_Philippines'\npopTable = pd.read_html(url)[3].iloc[:,0:7].query('Class == \"CC\"| Class == \"HUC\"|Class == \"ICC\"')"
        },
        {
            "cell_type": "code",
            "execution_count": 4,
            "metadata": {},
            "outputs": [
                {
                    "data": {
                        "text/html": "<div>\n<style scoped>\n    .dataframe tbody tr th:only-of-type {\n        vertical-align: middle;\n    }\n\n    .dataframe tbody tr th {\n        vertical-align: top;\n    }\n\n    .dataframe thead th {\n        text-align: right;\n    }\n</style>\n<table border=\"1\" class=\"dataframe\">\n  <thead>\n    <tr style=\"text-align: right;\">\n      <th></th>\n      <th>City or municipality</th>\n      <th>Population (2015)[1]</th>\n      <th>Area (km2)[i][2][3]</th>\n      <th>PD\u00a0(/km2, 2015)</th>\n      <th>Barangay</th>\n      <th>Class</th>\n      <th>Province</th>\n    </tr>\n  </thead>\n  <tbody>\n    <tr>\n      <th>28</th>\n      <td>Butuan</td>\n      <td>337063</td>\n      <td>816.62</td>\n      <td>413</td>\n      <td>86</td>\n      <td>HUC</td>\n      <td>Agusan del Norte</td>\n    </tr>\n    <tr>\n      <th>29</th>\n      <td>Cabadbaran</td>\n      <td>73639</td>\n      <td>214.44</td>\n      <td>343</td>\n      <td>31</td>\n      <td>CC</td>\n      <td>Agusan del Norte</td>\n    </tr>\n    <tr>\n      <th>39</th>\n      <td>Bayugan</td>\n      <td>103202</td>\n      <td>688.77</td>\n      <td>150</td>\n      <td>43</td>\n      <td>CC</td>\n      <td>Agusan del Sur</td>\n    </tr>\n    <tr>\n      <th>75</th>\n      <td>Legazpi</td>\n      <td>196639</td>\n      <td>153.70</td>\n      <td>1279</td>\n      <td>70</td>\n      <td>CC</td>\n      <td>Albay</td>\n    </tr>\n    <tr>\n      <th>77</th>\n      <td>Ligao</td>\n      <td>111399</td>\n      <td>246.75</td>\n      <td>451</td>\n      <td>55</td>\n      <td>CC</td>\n      <td>Albay</td>\n    </tr>\n  </tbody>\n</table>\n</div>",
                        "text/plain": "   City or municipality Population (2015)[1] Area (km2)[i][2][3]  \\\n28               Butuan               337063              816.62   \n29           Cabadbaran                73639              214.44   \n39              Bayugan               103202              688.77   \n75              Legazpi               196639              153.70   \n77                Ligao               111399              246.75   \n\n   PD\u00a0(/km2, 2015) Barangay Class          Province  \n28             413       86   HUC  Agusan del Norte  \n29             343       31    CC  Agusan del Norte  \n39             150       43    CC    Agusan del Sur  \n75            1279       70    CC             Albay  \n77             451       55    CC             Albay  "
                    },
                    "execution_count": 4,
                    "metadata": {},
                    "output_type": "execute_result"
                }
            ],
            "source": "popTable.head()"
        },
        {
            "cell_type": "markdown",
            "metadata": {},
            "source": "The columns are then renamed to properly reflect the values in the columns."
        },
        {
            "cell_type": "code",
            "execution_count": 5,
            "metadata": {},
            "outputs": [
                {
                    "data": {
                        "text/plain": "City or municipality    object\nPopulation (2015)[1]    object\nArea (km2)[i][2][3]     object\nPD\u00a0(/km2, 2015)         object\nBarangay                object\nClass                   object\nProvince                object\ndtype: object"
                    },
                    "execution_count": 5,
                    "metadata": {},
                    "output_type": "execute_result"
                }
            ],
            "source": "popTable.dtypes"
        },
        {
            "cell_type": "markdown",
            "metadata": {},
            "source": "Change Area_km2 and pop_density to float, Population to int"
        },
        {
            "cell_type": "code",
            "execution_count": 6,
            "metadata": {},
            "outputs": [],
            "source": "popTable.rename(columns = {popTable.columns[0]: 'City', \n                          popTable.columns[1]: 'Population',\n                          popTable.columns[2]: 'Area_km2',\n                          popTable.columns[3]: 'pop_density'}, inplace = True)"
        },
        {
            "cell_type": "markdown",
            "metadata": {},
            "source": "Remove punctation marks in Area "
        },
        {
            "cell_type": "code",
            "execution_count": 7,
            "metadata": {},
            "outputs": [
                {
                    "data": {
                        "text/html": "<div>\n<style scoped>\n    .dataframe tbody tr th:only-of-type {\n        vertical-align: middle;\n    }\n\n    .dataframe tbody tr th {\n        vertical-align: top;\n    }\n\n    .dataframe thead th {\n        text-align: right;\n    }\n</style>\n<table border=\"1\" class=\"dataframe\">\n  <thead>\n    <tr style=\"text-align: right;\">\n      <th></th>\n      <th>City</th>\n      <th>Population</th>\n      <th>Area_km2</th>\n      <th>pop_density</th>\n      <th>Barangay</th>\n      <th>Class</th>\n      <th>Province</th>\n    </tr>\n  </thead>\n  <tbody>\n    <tr>\n      <th>1026</th>\n      <td>Manila</td>\n      <td>1780148</td>\n      <td>42889</td>\n      <td>41515</td>\n      <td>897</td>\n      <td>HUC</td>\n      <td>NCR, City of Manila, 1st district</td>\n    </tr>\n  </tbody>\n</table>\n</div>",
                        "text/plain": "        City Population Area_km2 pop_density Barangay Class  \\\n1026  Manila    1780148    42889       41515      897   HUC   \n\n                               Province  \n1026  NCR, City of Manila, 1st district  "
                    },
                    "execution_count": 7,
                    "metadata": {},
                    "output_type": "execute_result"
                }
            ],
            "source": "import string\n\npopTable['Area_km2'] = [s.translate(s.maketrans('', '', string.punctuation)) for s in popTable.Area_km2]\n\npopTable[popTable.City == 'Manila']"
        },
        {
            "cell_type": "code",
            "execution_count": 8,
            "metadata": {},
            "outputs": [],
            "source": "def to_float(obj):\n    try:\n        return(float(obj))\n    except:\n        return(None)\n\ndef to_int(obj):\n    try:\n        return(int(obj))\n    except:\n        return(None)\n\npopTable['Population'] = popTable.Population.apply(to_int)\npopTable['Area_km2'] = popTable.Area_km2.apply(to_float)\npopTable['pop_density'] = popTable.pop_density.apply(to_float)"
        },
        {
            "cell_type": "code",
            "execution_count": 9,
            "metadata": {},
            "outputs": [
                {
                    "data": {
                        "text/plain": "City            object\nPopulation       int64\nArea_km2       float64\npop_density    float64\nBarangay        object\nClass           object\nProvince        object\ndtype: object"
                    },
                    "execution_count": 9,
                    "metadata": {},
                    "output_type": "execute_result"
                }
            ],
            "source": "popTable.dtypes"
        },
        {
            "cell_type": "code",
            "execution_count": 10,
            "metadata": {},
            "outputs": [
                {
                    "data": {
                        "text/html": "<div>\n<style scoped>\n    .dataframe tbody tr th:only-of-type {\n        vertical-align: middle;\n    }\n\n    .dataframe tbody tr th {\n        vertical-align: top;\n    }\n\n    .dataframe thead th {\n        text-align: right;\n    }\n</style>\n<table border=\"1\" class=\"dataframe\">\n  <thead>\n    <tr style=\"text-align: right;\">\n      <th></th>\n      <th>City</th>\n      <th>Population</th>\n      <th>Area_km2</th>\n      <th>pop_density</th>\n      <th>Barangay</th>\n      <th>Class</th>\n      <th>Province</th>\n    </tr>\n  </thead>\n  <tbody>\n    <tr>\n      <th>28</th>\n      <td>Butuan</td>\n      <td>337063</td>\n      <td>81662.0</td>\n      <td>413.0</td>\n      <td>86</td>\n      <td>HUC</td>\n      <td>Agusan del Norte</td>\n    </tr>\n    <tr>\n      <th>29</th>\n      <td>Cabadbaran</td>\n      <td>73639</td>\n      <td>21444.0</td>\n      <td>343.0</td>\n      <td>31</td>\n      <td>CC</td>\n      <td>Agusan del Norte</td>\n    </tr>\n    <tr>\n      <th>39</th>\n      <td>Bayugan</td>\n      <td>103202</td>\n      <td>68877.0</td>\n      <td>150.0</td>\n      <td>43</td>\n      <td>CC</td>\n      <td>Agusan del Sur</td>\n    </tr>\n    <tr>\n      <th>75</th>\n      <td>Legazpi</td>\n      <td>196639</td>\n      <td>15370.0</td>\n      <td>1279.0</td>\n      <td>70</td>\n      <td>CC</td>\n      <td>Albay</td>\n    </tr>\n    <tr>\n      <th>77</th>\n      <td>Ligao</td>\n      <td>111399</td>\n      <td>24675.0</td>\n      <td>451.0</td>\n      <td>55</td>\n      <td>CC</td>\n      <td>Albay</td>\n    </tr>\n  </tbody>\n</table>\n</div>",
                        "text/plain": "          City  Population  Area_km2  pop_density Barangay Class  \\\n28      Butuan      337063   81662.0        413.0       86   HUC   \n29  Cabadbaran       73639   21444.0        343.0       31    CC   \n39     Bayugan      103202   68877.0        150.0       43    CC   \n75     Legazpi      196639   15370.0       1279.0       70    CC   \n77       Ligao      111399   24675.0        451.0       55    CC   \n\n            Province  \n28  Agusan del Norte  \n29  Agusan del Norte  \n39    Agusan del Sur  \n75             Albay  \n77             Albay  "
                    },
                    "execution_count": 10,
                    "metadata": {},
                    "output_type": "execute_result"
                }
            ],
            "source": "popTable.head()"
        },
        {
            "cell_type": "code",
            "execution_count": 11,
            "metadata": {},
            "outputs": [
                {
                    "data": {
                        "text/html": "<div>\n<style scoped>\n    .dataframe tbody tr th:only-of-type {\n        vertical-align: middle;\n    }\n\n    .dataframe tbody tr th {\n        vertical-align: top;\n    }\n\n    .dataframe thead th {\n        text-align: right;\n    }\n</style>\n<table border=\"1\" class=\"dataframe\">\n  <thead>\n    <tr style=\"text-align: right;\">\n      <th></th>\n      <th>Population</th>\n      <th>Area_km2</th>\n      <th>pop_density</th>\n    </tr>\n  </thead>\n  <tbody>\n    <tr>\n      <th>count</th>\n      <td>1.460000e+02</td>\n      <td>1.450000e+02</td>\n      <td>145.000000</td>\n    </tr>\n    <tr>\n      <th>mean</th>\n      <td>2.815388e+05</td>\n      <td>1.312187e+05</td>\n      <td>4130.193103</td>\n    </tr>\n    <tr>\n      <th>std</th>\n      <td>3.542287e+05</td>\n      <td>1.229947e+06</td>\n      <td>7378.899863</td>\n    </tr>\n    <tr>\n      <th>min</th>\n      <td>4.104100e+04</td>\n      <td>1.089000e+03</td>\n      <td>107.000000</td>\n    </tr>\n    <tr>\n      <th>25%</th>\n      <td>1.055082e+05</td>\n      <td>1.055300e+04</td>\n      <td>405.000000</td>\n    </tr>\n    <tr>\n      <th>50%</th>\n      <td>1.687515e+05</td>\n      <td>1.975600e+04</td>\n      <td>957.000000</td>\n    </tr>\n    <tr>\n      <th>75%</th>\n      <td>3.317580e+05</td>\n      <td>3.364000e+04</td>\n      <td>3748.000000</td>\n    </tr>\n    <tr>\n      <th>max</th>\n      <td>2.936116e+06</td>\n      <td>1.483381e+07</td>\n      <td>41515.000000</td>\n    </tr>\n  </tbody>\n</table>\n</div>",
                        "text/plain": "         Population      Area_km2   pop_density\ncount  1.460000e+02  1.450000e+02    145.000000\nmean   2.815388e+05  1.312187e+05   4130.193103\nstd    3.542287e+05  1.229947e+06   7378.899863\nmin    4.104100e+04  1.089000e+03    107.000000\n25%    1.055082e+05  1.055300e+04    405.000000\n50%    1.687515e+05  1.975600e+04    957.000000\n75%    3.317580e+05  3.364000e+04   3748.000000\nmax    2.936116e+06  1.483381e+07  41515.000000"
                    },
                    "execution_count": 11,
                    "metadata": {},
                    "output_type": "execute_result"
                }
            ],
            "source": "popTable.describe()"
        },
        {
            "cell_type": "code",
            "execution_count": 12,
            "metadata": {},
            "outputs": [
                {
                    "data": {
                        "text/plain": "(146, 7)"
                    },
                    "execution_count": 12,
                    "metadata": {},
                    "output_type": "execute_result"
                }
            ],
            "source": "popTable.shape"
        },
        {
            "cell_type": "code",
            "execution_count": 13,
            "metadata": {},
            "outputs": [
                {
                    "data": {
                        "text/plain": "Index(['City', 'Population', 'Area_km2', 'pop_density', 'Barangay', 'Class',\n       'Province'],\n      dtype='object')"
                    },
                    "execution_count": 13,
                    "metadata": {},
                    "output_type": "execute_result"
                }
            ],
            "source": "popTable.columns"
        },
        {
            "cell_type": "markdown",
            "metadata": {},
            "source": "#### Exploring Population Table"
        },
        {
            "cell_type": "code",
            "execution_count": 14,
            "metadata": {},
            "outputs": [
                {
                    "data": {
                        "text/plain": "<matplotlib.axes._subplots.AxesSubplot at 0x7ff45aa3b588>"
                    },
                    "execution_count": 14,
                    "metadata": {},
                    "output_type": "execute_result"
                },
                {
                    "data": {
                        "image/png": "[encoded data removed]",
                        "text/plain": "<Figure size 720x504 with 1 Axes>"
                    },
                    "metadata": {},
                    "output_type": "display_data"
                }
            ],
            "source": "from matplotlib import pyplot\n\nsns.set(font_scale = 2)\nfig, ax = pyplot.subplots(figsize = (10, 7))\nplt_Class_bplot = sns.countplot(x = 'Class', data = popTable)\nplt_Class_bplot.set_title('Counts by City Class')\n\nplt_Class_bplot\n"
        },
        {
            "cell_type": "markdown",
            "metadata": {},
            "source": "### Preparation of location data"
        },
        {
            "cell_type": "markdown",
            "metadata": {},
            "source": "Relevant latitude and longitude data for Cities in the Philipines was obtain from [https://simplemaps.com/data/ph-cities](). This will be used for querying venues for a particular city."
        },
        {
            "cell_type": "code",
            "execution_count": null,
            "metadata": {},
            "outputs": [],
            "source": "import requests\n\n#get_lat_long = def(loc):\nS = requests.Session()\n\nlat_long = []\nfor city, province in zip(popTable.City.values, popTable.Province.values):\n\n    URL = \"https://en.wikipedia.org/w/api.php\"\n\n    PARAMS = {\n        \"action\": \"query\",\n        \"format\": \"json\",\n        \"titles\": city,\n        \"prop\": \"coordinates\"\n    }\n\n    R = S.get(url=URL, params=PARAMS)\n    DATA = R.json()\n    PAGES = DATA['query']['pages']\n    \n    try:\n        [v for v in PAGES.items()][0][1]['coordinates']\n        \n    except:\n        PARAMS['titles'] = city + ', ' + province\n        R = S.get(url = URL, params = PARAMS)\n        DATA = R.json()\n        PAGES = DATA['query']['pages']\n        \n\n    for k, v in PAGES.items():\n         \n            a = [v['coordinates'][0]['lat'] ,v['coordinates'][0]['lon']]\n     \n    lat_long.append(a)\n    "
        },
        {
            "cell_type": "code",
            "execution_count": 16,
            "metadata": {},
            "outputs": [
                {
                    "data": {
                        "text/html": "<div>\n<style scoped>\n    .dataframe tbody tr th:only-of-type {\n        vertical-align: middle;\n    }\n\n    .dataframe tbody tr th {\n        vertical-align: top;\n    }\n\n    .dataframe thead th {\n        text-align: right;\n    }\n</style>\n<table border=\"1\" class=\"dataframe\">\n  <thead>\n    <tr style=\"text-align: right;\">\n      <th></th>\n      <th>Province</th>\n      <th>City</th>\n      <th>LatLng</th>\n    </tr>\n  </thead>\n  <tbody>\n    <tr>\n      <th>0</th>\n      <td>Abra</td>\n      <td>Bangued</td>\n      <td>17.600; 120.617</td>\n    </tr>\n    <tr>\n      <th>1</th>\n      <td>Abra</td>\n      <td>Boliney</td>\n      <td>17.400; 120.800</td>\n    </tr>\n    <tr>\n      <th>2</th>\n      <td>Abra</td>\n      <td>Bucay</td>\n      <td>17.533; 120.717</td>\n    </tr>\n    <tr>\n      <th>3</th>\n      <td>Abra</td>\n      <td>Bucloc</td>\n      <td>17.450; 120.850</td>\n    </tr>\n    <tr>\n      <th>4</th>\n      <td>Abra</td>\n      <td>Daguioman</td>\n      <td>17.450; 120.917</td>\n    </tr>\n  </tbody>\n</table>\n</div>",
                        "text/plain": "  Province       City           LatLng\n0     Abra    Bangued  17.600; 120.617\n1     Abra    Boliney  17.400; 120.800\n2     Abra      Bucay  17.533; 120.717\n3     Abra     Bucloc  17.450; 120.850\n4     Abra  Daguioman  17.450; 120.917"
                    },
                    "execution_count": 16,
                    "metadata": {},
                    "output_type": "execute_result"
                }
            ],
            "source": "# The code was removed by Watson Studio for sharing."
        },
        {
            "cell_type": "code",
            "execution_count": 17,
            "metadata": {},
            "outputs": [
                {
                    "data": {
                        "text/html": "<div>\n<style scoped>\n    .dataframe tbody tr th:only-of-type {\n        vertical-align: middle;\n    }\n\n    .dataframe tbody tr th {\n        vertical-align: top;\n    }\n\n    .dataframe thead th {\n        text-align: right;\n    }\n</style>\n<table border=\"1\" class=\"dataframe\">\n  <thead>\n    <tr style=\"text-align: right;\">\n      <th></th>\n      <th>Province</th>\n      <th>City</th>\n      <th>LatLng</th>\n    </tr>\n  </thead>\n  <tbody>\n    <tr>\n      <th>count</th>\n      <td>1636</td>\n      <td>1636</td>\n      <td>1614</td>\n    </tr>\n    <tr>\n      <th>unique</th>\n      <td>80</td>\n      <td>1416</td>\n      <td>1610</td>\n    </tr>\n    <tr>\n      <th>top</th>\n      <td>Cebu</td>\n      <td>San Jose</td>\n      <td>10.883; 122.483</td>\n    </tr>\n    <tr>\n      <th>freq</th>\n      <td>53</td>\n      <td>9</td>\n      <td>2</td>\n    </tr>\n  </tbody>\n</table>\n</div>",
                        "text/plain": "       Province      City           LatLng\ncount      1636      1636             1614\nunique       80      1416             1610\ntop        Cebu  San Jose  10.883; 122.483\nfreq         53         9                2"
                    },
                    "execution_count": 17,
                    "metadata": {},
                    "output_type": "execute_result"
                }
            ],
            "source": "location_dat.describe()"
        },
        {
            "cell_type": "markdown",
            "metadata": {},
            "source": "This data frame was then joined with the current `popTable` table to associate location data."
        },
        {
            "cell_type": "code",
            "execution_count": 69,
            "metadata": {},
            "outputs": [
                {
                    "name": "stderr",
                    "output_type": "stream",
                    "text": "/opt/conda/envs/Python36/lib/python3.6/site-packages/ipykernel/__main__.py:5: SettingWithCopyWarning: \nA value is trying to be set on a copy of a slice from a DataFrame.\nTry using .loc[row_indexer,col_indexer] = value instead\n\nSee the caveats in the documentation: http://pandas.pydata.org/pandas-docs/stable/indexing.html#indexing-view-versus-copy\n/opt/conda/envs/Python36/lib/python3.6/site-packages/ipykernel/__main__.py:6: UserWarning: Boolean Series key will be reindexed to match DataFrame index.\n"
                },
                {
                    "data": {
                        "text/html": "<div>\n<style scoped>\n    .dataframe tbody tr th:only-of-type {\n        vertical-align: middle;\n    }\n\n    .dataframe tbody tr th {\n        vertical-align: top;\n    }\n\n    .dataframe thead th {\n        text-align: right;\n    }\n</style>\n<table border=\"1\" class=\"dataframe\">\n  <thead>\n    <tr style=\"text-align: right;\">\n      <th></th>\n      <th>City</th>\n      <th>Population</th>\n      <th>Area_km2</th>\n      <th>pop_density</th>\n      <th>Barangay</th>\n      <th>Class</th>\n      <th>Province</th>\n      <th>Latitude</th>\n      <th>Longitude</th>\n    </tr>\n  </thead>\n  <tbody>\n    <tr>\n      <th>28</th>\n      <td>Butuan</td>\n      <td>337063</td>\n      <td>81662.0</td>\n      <td>413.0</td>\n      <td>86</td>\n      <td>HUC</td>\n      <td>Agusan del Norte</td>\n      <td>8.950</td>\n      <td>125.530</td>\n    </tr>\n    <tr>\n      <th>29</th>\n      <td>Cabadbaran</td>\n      <td>73639</td>\n      <td>21444.0</td>\n      <td>343.0</td>\n      <td>31</td>\n      <td>CC</td>\n      <td>Agusan del Norte</td>\n      <td>9.117</td>\n      <td>125.533</td>\n    </tr>\n    <tr>\n      <th>39</th>\n      <td>Bayugan</td>\n      <td>103202</td>\n      <td>68877.0</td>\n      <td>150.0</td>\n      <td>43</td>\n      <td>CC</td>\n      <td>Agusan del Sur</td>\n      <td>8.717</td>\n      <td>125.750</td>\n    </tr>\n    <tr>\n      <th>75</th>\n      <td>Legazpi</td>\n      <td>196639</td>\n      <td>15370.0</td>\n      <td>1279.0</td>\n      <td>70</td>\n      <td>CC</td>\n      <td>Albay</td>\n      <td>13.130</td>\n      <td>123.730</td>\n    </tr>\n    <tr>\n      <th>77</th>\n      <td>Ligao</td>\n      <td>111399</td>\n      <td>24675.0</td>\n      <td>451.0</td>\n      <td>55</td>\n      <td>CC</td>\n      <td>Albay</td>\n      <td>13.217</td>\n      <td>123.517</td>\n    </tr>\n  </tbody>\n</table>\n</div>",
                        "text/plain": "          City  Population  Area_km2  pop_density Barangay Class  \\\n28      Butuan      337063   81662.0        413.0       86   HUC   \n29  Cabadbaran       73639   21444.0        343.0       31    CC   \n39     Bayugan      103202   68877.0        150.0       43    CC   \n75     Legazpi      196639   15370.0       1279.0       70    CC   \n77       Ligao      111399   24675.0        451.0       55    CC   \n\n            Province  Latitude  Longitude  \n28  Agusan del Norte     8.950    125.530  \n29  Agusan del Norte     9.117    125.533  \n39    Agusan del Sur     8.717    125.750  \n75             Albay    13.130    123.730  \n77             Albay    13.217    123.517  "
                    },
                    "execution_count": 69,
                    "metadata": {},
                    "output_type": "execute_result"
                }
            ],
            "source": "import re\ncnd = popTable.City.apply(lambda x: np.where([bool(re.search(x, element)) for element in np.array(location_dat.City.values)] )[0])\npopTable['LongLat'] = [[location_dat.LatLng.values[sub_item] for sub_item in item] for item in cnd]\ncity_info_table = popTable[popTable.LongLat.apply(len) == 1]\ncity_info_table['LongLat'] = [subitem for item in city_info_table.LongLat.values for subitem in item]\ncity_info_fnl = city_info_table[city_info_table.LongLat.isna() == False][city_info_table.Area_km2.isna() == False]\n\ncity_info_fnl['Latitude']  = city_info_fnl.LongLat.apply(lambda x: float(x.split(';')[0]))\ncity_info_fnl['Longitude']  = city_info_fnl.LongLat.apply(lambda x: float(x.split(';')[1]))\n\ncity_info_fnl.drop(columns = ['LongLat'], inplace = True)\ncity_info_fnl.head()"
        },
        {
            "cell_type": "code",
            "execution_count": 19,
            "metadata": {},
            "outputs": [
                {
                    "data": {
                        "text/plain": "(110, 9)"
                    },
                    "execution_count": 19,
                    "metadata": {},
                    "output_type": "execute_result"
                }
            ],
            "source": "city_info_fnl.shape"
        },
        {
            "cell_type": "markdown",
            "metadata": {},
            "source": "## Determine all venues in a city"
        },
        {
            "cell_type": "code",
            "execution_count": 78,
            "metadata": {},
            "outputs": [],
            "source": "CLIENT_ID = '0SO1TRZIQORZHKDFFX0KWSMEOCWSBGKVSF3UVCQUHGIWVVL3' #  Foursquare ID\nCLIENT_SECRET = 'YOPKZ01NZKOVPXXZJCAC4YZUI52BS0JKX2DZ34EWFUTIE4SQ' #  Foursquare Secret\nVERSION = '20180605' #  API version\nLIMIT = 500"
        },
        {
            "cell_type": "code",
            "execution_count": 64,
            "metadata": {},
            "outputs": [],
            "source": "def getNearbyVenues(names, latitudes, longitudes, radius):\n    \n    venues_list=[]\n    for name, lat, lng, rad in zip(names, latitudes, longitudes, radius):\n        print(name)\n            \n        # create the API request URL\n        url = 'https://api.foursquare.com/v2/venues/explore?&client_id={}&client_secret={}&v={}&ll={},{}&radius={}&limit={}'.format(\n            CLIENT_ID, \n            CLIENT_SECRET, \n            VERSION, \n            lat, \n            lng, \n            rad, \n            LIMIT)\n            \n        # make the GET request\n        results = requests.get(url).json()[\"response\"]['groups'][0]['items']\n        \n       \n        # return only relevant information for each nearby venue\n        venues_list.append([(\n            name, \n            lat, \n            lng, \n            v['venue']['name'], \n            v['venue']['location']['lat'], \n            v['venue']['location']['lng'],  \n            v['venue']['categories'][0]['name']) for v in results])\n\n\n        nearby_venues = pd.DataFrame([item for venue_list in venues_list for item in venue_list])\n            \n     \n            \n        nearby_venues.columns = ['Neighborhood', \n                          'Neighborhood Latitude', \n                          'Neighborhood Longitude', \n                          'Venue', \n                          'Venue Latitude', \n                          'Venue Longitude', \n                          'Venue Category']\n            \n    \n    return(nearby_venues)"
        },
        {
            "cell_type": "markdown",
            "metadata": {},
            "source": "To use this function, the radius was determined first from the area of the city"
        },
        {
            "cell_type": "code",
            "execution_count": 70,
            "metadata": {},
            "outputs": [],
            "source": "import math\ncity_info_fnl['radius'] = [math.sqrt(area/math.pi)*1000 for area in city_info_fnl.Area_km2]\ncity_info_fnl = city_info_fnl.set_index('City').drop(index = ['Malaybalay', 'Ilagan', 'Iligan', 'Quezon City', 'Puerto Princesa', 'Calbayog']).reset_index()"
        },
        {
            "cell_type": "code",
            "execution_count": 71,
            "metadata": {
                "scrolled": true
            },
            "outputs": [
                {
                    "data": {
                        "text/html": "<div>\n<style scoped>\n    .dataframe tbody tr th:only-of-type {\n        vertical-align: middle;\n    }\n\n    .dataframe tbody tr th {\n        vertical-align: top;\n    }\n\n    .dataframe thead th {\n        text-align: right;\n    }\n</style>\n<table border=\"1\" class=\"dataframe\">\n  <thead>\n    <tr style=\"text-align: right;\">\n      <th></th>\n      <th>City</th>\n      <th>Population</th>\n      <th>Area_km2</th>\n      <th>pop_density</th>\n      <th>Barangay</th>\n      <th>Class</th>\n      <th>Province</th>\n      <th>Latitude</th>\n      <th>Longitude</th>\n      <th>radius</th>\n    </tr>\n  </thead>\n  <tbody>\n    <tr>\n      <th>0</th>\n      <td>Butuan</td>\n      <td>337063</td>\n      <td>81662.0</td>\n      <td>413.0</td>\n      <td>86</td>\n      <td>HUC</td>\n      <td>Agusan del Norte</td>\n      <td>8.950</td>\n      <td>125.530</td>\n      <td>161225.996432</td>\n    </tr>\n    <tr>\n      <th>1</th>\n      <td>Cabadbaran</td>\n      <td>73639</td>\n      <td>21444.0</td>\n      <td>343.0</td>\n      <td>31</td>\n      <td>CC</td>\n      <td>Agusan del Norte</td>\n      <td>9.117</td>\n      <td>125.533</td>\n      <td>82618.625015</td>\n    </tr>\n    <tr>\n      <th>2</th>\n      <td>Bayugan</td>\n      <td>103202</td>\n      <td>68877.0</td>\n      <td>150.0</td>\n      <td>43</td>\n      <td>CC</td>\n      <td>Agusan del Sur</td>\n      <td>8.717</td>\n      <td>125.750</td>\n      <td>148068.328925</td>\n    </tr>\n    <tr>\n      <th>3</th>\n      <td>Legazpi</td>\n      <td>196639</td>\n      <td>15370.0</td>\n      <td>1279.0</td>\n      <td>70</td>\n      <td>CC</td>\n      <td>Albay</td>\n      <td>13.130</td>\n      <td>123.730</td>\n      <td>69945.857280</td>\n    </tr>\n    <tr>\n      <th>4</th>\n      <td>Ligao</td>\n      <td>111399</td>\n      <td>24675.0</td>\n      <td>451.0</td>\n      <td>55</td>\n      <td>CC</td>\n      <td>Albay</td>\n      <td>13.217</td>\n      <td>123.517</td>\n      <td>88624.468639</td>\n    </tr>\n  </tbody>\n</table>\n</div>",
                        "text/plain": "         City  Population  Area_km2  pop_density Barangay Class  \\\n0      Butuan      337063   81662.0        413.0       86   HUC   \n1  Cabadbaran       73639   21444.0        343.0       31    CC   \n2     Bayugan      103202   68877.0        150.0       43    CC   \n3     Legazpi      196639   15370.0       1279.0       70    CC   \n4       Ligao      111399   24675.0        451.0       55    CC   \n\n           Province  Latitude  Longitude         radius  \n0  Agusan del Norte     8.950    125.530  161225.996432  \n1  Agusan del Norte     9.117    125.533   82618.625015  \n2    Agusan del Sur     8.717    125.750  148068.328925  \n3             Albay    13.130    123.730   69945.857280  \n4             Albay    13.217    123.517   88624.468639  "
                    },
                    "execution_count": 71,
                    "metadata": {},
                    "output_type": "execute_result"
                }
            ],
            "source": "city_info_fnl.head()"
        },
        {
            "cell_type": "code",
            "execution_count": 79,
            "metadata": {},
            "outputs": [
                {
                    "name": "stdout",
                    "output_type": "stream",
                    "text": "Butuan\nCabadbaran\nBayugan\nLegazpi\nLigao\nTabaco\nIsabela City\nBatangas City\nLipa\nBaguio\nTagbilaran\nMalolos\nMeycauayan\nSan Jose del Monte\nTuguegarao\nIriga\nRoxas City\nBacoor\nCavite City\nDasmari\u00f1as\nGeneral Trias\nImus\nTagaytay\nTrece Martires\nBogo\nCarcar\nCebu City\nMandaue\nToledo\nKidapawan\nPanabo\nTagum\nDigos\nMati\nBorongan\nBatac\nLaoag\nVigan\nIloilo City\nPassi\nTabuk\nBi\u00f1an\nCabuyao\nSan Pedro\nMarawi\nBaybay\nOrmoc\nTacloban\nCotabato City\nMasbate City\nOroquieta\nOzamiz\nTangub\nCagayan de Oro\nEl Salvador\nGingoog\nCaloocan\nLas Pi\u00f1as\nMakati\nMalabon\nMandaluyong\nManila\nMarikina\nMuntinlupa\nNavotas\nPara\u00f1aque\nPasay\nTaguig\nBago\nCadiz\nEscalante\nHimamaylan\nKabankalan\nSilay\nSipalay\nVictorias\nBais\nCanlaon\nDumaguete\nGuihulngan\nTanjay\nCabanatuan\nGapan\nMu\u00f1oz\nPalayan\nCalapan\nAngeles\nMabalacat\nDagupan\nUrdaneta\nTayabas\nAntipolo\nCatbalogan\nSorsogon City\nKoronadal\nTacurong\nSurigao City\nBislig\nTandag\nTarlac City\nOlongapo\nDapitan\nDipolog\nPagadian\n"
                }
            ],
            "source": "venue_list = getNearbyVenues(names = np.array(city_info_fnl.City), latitudes = np.array(city_info_fnl.Latitude), \n                            longitudes = np.array(city_info_fnl.Longitude), radius = np.array(city_info_fnl.radius))"
        },
        {
            "cell_type": "code",
            "execution_count": 80,
            "metadata": {},
            "outputs": [
                {
                    "data": {
                        "text/html": "<div>\n<style scoped>\n    .dataframe tbody tr th:only-of-type {\n        vertical-align: middle;\n    }\n\n    .dataframe tbody tr th {\n        vertical-align: top;\n    }\n\n    .dataframe thead th {\n        text-align: right;\n    }\n</style>\n<table border=\"1\" class=\"dataframe\">\n  <thead>\n    <tr style=\"text-align: right;\">\n      <th></th>\n      <th>Neighborhood</th>\n      <th>Neighborhood Latitude</th>\n      <th>Neighborhood Longitude</th>\n      <th>Venue</th>\n      <th>Venue Latitude</th>\n      <th>Venue Longitude</th>\n      <th>Venue Category</th>\n    </tr>\n  </thead>\n  <tbody>\n    <tr>\n      <th>0</th>\n      <td>Butuan</td>\n      <td>8.95</td>\n      <td>125.53</td>\n      <td>Wat Ever Family KTV Butuan</td>\n      <td>8.946194</td>\n      <td>125.531061</td>\n      <td>Karaoke Bar</td>\n    </tr>\n    <tr>\n      <th>1</th>\n      <td>Butuan</td>\n      <td>8.95</td>\n      <td>125.53</td>\n      <td>Boy's Beer &amp; Wine Room</td>\n      <td>8.946217</td>\n      <td>125.531236</td>\n      <td>Beer Garden</td>\n    </tr>\n    <tr>\n      <th>2</th>\n      <td>Butuan</td>\n      <td>8.95</td>\n      <td>125.53</td>\n      <td>Watergate Hotel</td>\n      <td>8.951037</td>\n      <td>125.529557</td>\n      <td>Hotel</td>\n    </tr>\n    <tr>\n      <th>3</th>\n      <td>Butuan</td>\n      <td>8.95</td>\n      <td>125.53</td>\n      <td>Almont Inland Resort Butuan</td>\n      <td>8.946409</td>\n      <td>125.529393</td>\n      <td>Resort</td>\n    </tr>\n    <tr>\n      <th>4</th>\n      <td>Butuan</td>\n      <td>8.95</td>\n      <td>125.53</td>\n      <td>Margie's</td>\n      <td>8.947072</td>\n      <td>125.535636</td>\n      <td>Caf\u00e9</td>\n    </tr>\n  </tbody>\n</table>\n</div>",
                        "text/plain": "  Neighborhood  Neighborhood Latitude  Neighborhood Longitude  \\\n0       Butuan                   8.95                  125.53   \n1       Butuan                   8.95                  125.53   \n2       Butuan                   8.95                  125.53   \n3       Butuan                   8.95                  125.53   \n4       Butuan                   8.95                  125.53   \n\n                         Venue  Venue Latitude  Venue Longitude Venue Category  \n0   Wat Ever Family KTV Butuan        8.946194       125.531061    Karaoke Bar  \n1       Boy's Beer & Wine Room        8.946217       125.531236    Beer Garden  \n2              Watergate Hotel        8.951037       125.529557          Hotel  \n3  Almont Inland Resort Butuan        8.946409       125.529393         Resort  \n4                     Margie's        8.947072       125.535636           Caf\u00e9  "
                    },
                    "execution_count": 80,
                    "metadata": {},
                    "output_type": "execute_result"
                }
            ],
            "source": "venue_list.head()"
        },
        {
            "cell_type": "code",
            "execution_count": 81,
            "metadata": {},
            "outputs": [
                {
                    "data": {
                        "text/plain": "(9746, 7)"
                    },
                    "execution_count": 81,
                    "metadata": {},
                    "output_type": "execute_result"
                }
            ],
            "source": "venue_list.shape"
        },
        {
            "cell_type": "code",
            "execution_count": 82,
            "metadata": {},
            "outputs": [
                {
                    "data": {
                        "text/plain": "Caf\u00e9                                        626\nHotel                                       599\nCoffee Shop                                 586\nFilipino Restaurant                         538\nShopping Mall                               349\nPizza Place                                 308\nResort                                      296\nRestaurant                                  289\nFast Food Restaurant                        286\nJapanese Restaurant                         241\nBakery                                      238\nBBQ Joint                                   235\nSeafood Restaurant                          182\nDessert Shop                                174\nAsian Restaurant                            166\nClothing Store                              163\nBeach                                       155\nSteakhouse                                  154\nItalian Restaurant                          145\nPark                                        132\nSpa                                         114\nDiner                                       114\nGolf Course                                 106\nTea Room                                    103\nBurger Joint                                 98\nSupermarket                                  96\nAmerican Restaurant                          94\nBookstore                                    92\nChurch                                       91\nDonut Shop                                   91\n                                           ... \nZoo                                           2\nBoxing Gym                                    2\nOutdoors & Recreation                         2\nMassage Studio                                2\nTree                                          2\nResidential Building (Apartment / Condo)      2\nFraternity House                              1\nMotel                                         1\nOutdoor Sculpture                             1\nArcade                                        1\nOffice                                        1\nTurkish Restaurant                            1\nCapitol Building                              1\nBotanical Garden                              1\nStreet Fair                                   1\nMalay Restaurant                              1\nGift Shop                                     1\nRiver                                         1\nCafeteria                                     1\nSculpture Garden                              1\nHookah Bar                                    1\nSchool                                        1\nSpeakeasy                                     1\nSporting Goods Shop                           1\nDive Bar                                      1\nBuilding                                      1\nMonument / Landmark                           1\nIndian Restaurant                             1\nToll Plaza                                    1\nAirport Lounge                                1\nName: Venue Category, Length: 215, dtype: int64"
                    },
                    "execution_count": 82,
                    "metadata": {},
                    "output_type": "execute_result"
                }
            ],
            "source": "venue_list['Venue Category'].value_counts()"
        },
        {
            "cell_type": "markdown",
            "metadata": {},
            "source": "## Preparing data set for modeling"
        },
        {
            "cell_type": "code",
            "execution_count": 118,
            "metadata": {},
            "outputs": [
                {
                    "data": {
                        "text/html": "<div>\n<style scoped>\n    .dataframe tbody tr th:only-of-type {\n        vertical-align: middle;\n    }\n\n    .dataframe tbody tr th {\n        vertical-align: top;\n    }\n\n    .dataframe thead th {\n        text-align: right;\n    }\n</style>\n<table border=\"1\" class=\"dataframe\">\n  <thead>\n    <tr style=\"text-align: right;\">\n      <th></th>\n      <th>City</th>\n      <th>Venue Category</th>\n      <th>Count</th>\n      <th>African Restaurant</th>\n      <th>Airport</th>\n      <th>Airport Lounge</th>\n      <th>American Restaurant</th>\n      <th>Arcade</th>\n      <th>Art Gallery</th>\n      <th>Art Museum</th>\n      <th>...</th>\n      <th>Water Park</th>\n      <th>Waterfall</th>\n      <th>Windmill</th>\n      <th>Wine Bar</th>\n      <th>Wings Joint</th>\n      <th>Yoga Studio</th>\n      <th>Zoo</th>\n      <th>Population</th>\n      <th>Area_km2</th>\n      <th>pop_density</th>\n    </tr>\n  </thead>\n  <tbody>\n    <tr>\n      <th>0</th>\n      <td>Angeles</td>\n      <td>American Restaurant</td>\n      <td>4</td>\n      <td>0</td>\n      <td>0</td>\n      <td>0</td>\n      <td>1</td>\n      <td>0</td>\n      <td>0</td>\n      <td>0</td>\n      <td>...</td>\n      <td>0</td>\n      <td>0</td>\n      <td>0</td>\n      <td>0</td>\n      <td>0</td>\n      <td>0</td>\n      <td>0</td>\n      <td>411634</td>\n      <td>6027.0</td>\n      <td>6830.0</td>\n    </tr>\n    <tr>\n      <th>1</th>\n      <td>Angeles</td>\n      <td>Asian Restaurant</td>\n      <td>1</td>\n      <td>0</td>\n      <td>0</td>\n      <td>0</td>\n      <td>0</td>\n      <td>0</td>\n      <td>0</td>\n      <td>0</td>\n      <td>...</td>\n      <td>0</td>\n      <td>0</td>\n      <td>0</td>\n      <td>0</td>\n      <td>0</td>\n      <td>0</td>\n      <td>0</td>\n      <td>411634</td>\n      <td>6027.0</td>\n      <td>6830.0</td>\n    </tr>\n    <tr>\n      <th>2</th>\n      <td>Angeles</td>\n      <td>BBQ Joint</td>\n      <td>3</td>\n      <td>0</td>\n      <td>0</td>\n      <td>0</td>\n      <td>0</td>\n      <td>0</td>\n      <td>0</td>\n      <td>0</td>\n      <td>...</td>\n      <td>0</td>\n      <td>0</td>\n      <td>0</td>\n      <td>0</td>\n      <td>0</td>\n      <td>0</td>\n      <td>0</td>\n      <td>411634</td>\n      <td>6027.0</td>\n      <td>6830.0</td>\n    </tr>\n    <tr>\n      <th>3</th>\n      <td>Angeles</td>\n      <td>Bakery</td>\n      <td>1</td>\n      <td>0</td>\n      <td>0</td>\n      <td>0</td>\n      <td>0</td>\n      <td>0</td>\n      <td>0</td>\n      <td>0</td>\n      <td>...</td>\n      <td>0</td>\n      <td>0</td>\n      <td>0</td>\n      <td>0</td>\n      <td>0</td>\n      <td>0</td>\n      <td>0</td>\n      <td>411634</td>\n      <td>6027.0</td>\n      <td>6830.0</td>\n    </tr>\n    <tr>\n      <th>4</th>\n      <td>Angeles</td>\n      <td>Bar</td>\n      <td>1</td>\n      <td>0</td>\n      <td>0</td>\n      <td>0</td>\n      <td>0</td>\n      <td>0</td>\n      <td>0</td>\n      <td>0</td>\n      <td>...</td>\n      <td>0</td>\n      <td>0</td>\n      <td>0</td>\n      <td>0</td>\n      <td>0</td>\n      <td>0</td>\n      <td>0</td>\n      <td>411634</td>\n      <td>6027.0</td>\n      <td>6830.0</td>\n    </tr>\n  </tbody>\n</table>\n<p>5 rows \u00d7 221 columns</p>\n</div>",
                        "text/plain": "      City       Venue Category  Count  African Restaurant  Airport  \\\n0  Angeles  American Restaurant      4                   0        0   \n1  Angeles     Asian Restaurant      1                   0        0   \n2  Angeles            BBQ Joint      3                   0        0   \n3  Angeles               Bakery      1                   0        0   \n4  Angeles                  Bar      1                   0        0   \n\n   Airport Lounge  American Restaurant  Arcade  Art Gallery  Art Museum  ...  \\\n0               0                    1       0            0           0  ...   \n1               0                    0       0            0           0  ...   \n2               0                    0       0            0           0  ...   \n3               0                    0       0            0           0  ...   \n4               0                    0       0            0           0  ...   \n\n   Water Park  Waterfall  Windmill  Wine Bar  Wings Joint  Yoga Studio  Zoo  \\\n0           0          0         0         0            0            0    0   \n1           0          0         0         0            0            0    0   \n2           0          0         0         0            0            0    0   \n3           0          0         0         0            0            0    0   \n4           0          0         0         0            0            0    0   \n\n   Population  Area_km2  pop_density  \n0      411634    6027.0       6830.0  \n1      411634    6027.0       6830.0  \n2      411634    6027.0       6830.0  \n3      411634    6027.0       6830.0  \n4      411634    6027.0       6830.0  \n\n[5 rows x 221 columns]"
                    },
                    "execution_count": 118,
                    "metadata": {},
                    "output_type": "execute_result"
                }
            ],
            "source": "venue_list.rename(columns = {'Neighborhood':  'City'}, inplace = True)\nvenue_list_onehot = pd.get_dummies(venue_list[['Venue Category']], prefix = '', prefix_sep = '')\nvenue_list_onehot.insert(0, 'City', venue_list['City'])\n\nvenue_grouped = venue_list.groupby(['City', 'Venue Category']).size().reset_index().rename(columns = {0: 'Count'})\nvenue_list_onehot = pd.get_dummies(venue_grouped[['Venue Category']], prefix = '', prefix_sep = '')\nvenue_grouped_onehot = pd.concat([venue_grouped, venue_list_onehot], axis = 1) \\\n.join(city_info_fnl[['City','Population', 'Area_km2', 'pop_density']].set_index('City'), \n     on = 'City', how = 'left')\n\n\nvenue_grouped_onehot.head()\n\n"
        },
        {
            "cell_type": "code",
            "execution_count": null,
            "metadata": {},
            "outputs": [],
            "source": ""
        }
    ],
    "metadata": {
        "kernelspec": {
            "display_name": "Python 3.6",
            "language": "python",
            "name": "python3"
        },
        "language_info": {
            "codemirror_mode": {
                "name": "ipython",
                "version": 3
            },
            "file_extension": ".py",
            "mimetype": "text/x-python",
            "name": "python",
            "nbconvert_exporter": "python",
            "pygments_lexer": "ipython3",
            "version": "3.6.9"
        }
    },
    "nbformat": 4,
    "nbformat_minor": 1
}