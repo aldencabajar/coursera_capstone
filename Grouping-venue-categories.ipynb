{
 "cells": [
  {
   "cell_type": "markdown",
   "metadata": {},
   "source": [
    "# Grouping Venue Categories"
   ]
  },
  {
   "cell_type": "markdown",
   "metadata": {},
   "source": [
    "I will use natural language processing tools here to try and infer the inherent structure/clusters of these venues. This can be useful later on to create features for modeling the proportion of establishments in a city. "
   ]
  },
  {
   "cell_type": "markdown",
   "metadata": {},
   "source": [
    "## Import libraries and data"
   ]
  },
  {
   "cell_type": "code",
   "execution_count": 47,
   "metadata": {},
   "outputs": [],
   "source": [
    "from gensim.models import KeyedVectors\n",
    "import numpy as np\n",
    "import pandas as pd\n",
    "from scipy.spatial.distance import cosine\n",
    "import seaborn as sns\n",
    "\n",
    "df = pd.read_pickle('venue_list.pkl')"
   ]
  },
  {
   "cell_type": "markdown",
   "metadata": {},
   "source": [
    "## Exploration"
   ]
  },
  {
   "cell_type": "code",
   "execution_count": 40,
   "metadata": {},
   "outputs": [
    {
     "data": {
      "text/html": [
       "<div>\n",
       "<style scoped>\n",
       "    .dataframe tbody tr th:only-of-type {\n",
       "        vertical-align: middle;\n",
       "    }\n",
       "\n",
       "    .dataframe tbody tr th {\n",
       "        vertical-align: top;\n",
       "    }\n",
       "\n",
       "    .dataframe thead th {\n",
       "        text-align: right;\n",
       "    }\n",
       "</style>\n",
       "<table border=\"1\" class=\"dataframe\">\n",
       "  <thead>\n",
       "    <tr style=\"text-align: right;\">\n",
       "      <th></th>\n",
       "      <th>Neighborhood</th>\n",
       "      <th>Neighborhood Latitude</th>\n",
       "      <th>Neighborhood Longitude</th>\n",
       "      <th>Venue</th>\n",
       "      <th>Venue Latitude</th>\n",
       "      <th>Venue Longitude</th>\n",
       "      <th>Venue Category</th>\n",
       "    </tr>\n",
       "  </thead>\n",
       "  <tbody>\n",
       "    <tr>\n",
       "      <th>0</th>\n",
       "      <td>Butuan</td>\n",
       "      <td>8.95</td>\n",
       "      <td>125.53</td>\n",
       "      <td>Wat Ever Family KTV Butuan</td>\n",
       "      <td>8.946194</td>\n",
       "      <td>125.531061</td>\n",
       "      <td>Karaoke Bar</td>\n",
       "    </tr>\n",
       "    <tr>\n",
       "      <th>1</th>\n",
       "      <td>Butuan</td>\n",
       "      <td>8.95</td>\n",
       "      <td>125.53</td>\n",
       "      <td>Boy's Beer &amp; Wine Room</td>\n",
       "      <td>8.946217</td>\n",
       "      <td>125.531236</td>\n",
       "      <td>Beer Garden</td>\n",
       "    </tr>\n",
       "    <tr>\n",
       "      <th>2</th>\n",
       "      <td>Butuan</td>\n",
       "      <td>8.95</td>\n",
       "      <td>125.53</td>\n",
       "      <td>Watergate Hotel</td>\n",
       "      <td>8.951037</td>\n",
       "      <td>125.529557</td>\n",
       "      <td>Hotel</td>\n",
       "    </tr>\n",
       "    <tr>\n",
       "      <th>3</th>\n",
       "      <td>Butuan</td>\n",
       "      <td>8.95</td>\n",
       "      <td>125.53</td>\n",
       "      <td>Almont Inland Resort Butuan</td>\n",
       "      <td>8.946409</td>\n",
       "      <td>125.529393</td>\n",
       "      <td>Resort</td>\n",
       "    </tr>\n",
       "    <tr>\n",
       "      <th>4</th>\n",
       "      <td>Butuan</td>\n",
       "      <td>8.95</td>\n",
       "      <td>125.53</td>\n",
       "      <td>Margie's</td>\n",
       "      <td>8.947072</td>\n",
       "      <td>125.535636</td>\n",
       "      <td>Café</td>\n",
       "    </tr>\n",
       "  </tbody>\n",
       "</table>\n",
       "</div>"
      ],
      "text/plain": [
       "  Neighborhood  Neighborhood Latitude  Neighborhood Longitude  \\\n",
       "0       Butuan                   8.95                  125.53   \n",
       "1       Butuan                   8.95                  125.53   \n",
       "2       Butuan                   8.95                  125.53   \n",
       "3       Butuan                   8.95                  125.53   \n",
       "4       Butuan                   8.95                  125.53   \n",
       "\n",
       "                         Venue  Venue Latitude  Venue Longitude Venue Category  \n",
       "0   Wat Ever Family KTV Butuan        8.946194       125.531061    Karaoke Bar  \n",
       "1       Boy's Beer & Wine Room        8.946217       125.531236    Beer Garden  \n",
       "2              Watergate Hotel        8.951037       125.529557          Hotel  \n",
       "3  Almont Inland Resort Butuan        8.946409       125.529393         Resort  \n",
       "4                     Margie's        8.947072       125.535636           Café  "
      ]
     },
     "execution_count": 40,
     "metadata": {},
     "output_type": "execute_result"
    }
   ],
   "source": [
    "df.head()"
   ]
  },
  {
   "cell_type": "code",
   "execution_count": 46,
   "metadata": {},
   "outputs": [
    {
     "name": "stdout",
     "output_type": "stream",
     "text": [
      "There are currently 215 venue category types\n"
     ]
    }
   ],
   "source": [
    "print('There are currently ' + str(len(np.unique(df['Venue Category']))) + ' venue category types')"
   ]
  },
  {
   "cell_type": "markdown",
   "metadata": {},
   "source": [
    "shown below are the top 20 venue categories."
   ]
  },
  {
   "cell_type": "code",
   "execution_count": 52,
   "metadata": {},
   "outputs": [
    {
     "data": {
      "text/plain": [
       "Café                    626\n",
       "Hotel                   599\n",
       "Coffee Shop             586\n",
       "Filipino Restaurant     538\n",
       "Shopping Mall           349\n",
       "Pizza Place             308\n",
       "Resort                  296\n",
       "Restaurant              289\n",
       "Fast Food Restaurant    286\n",
       "Japanese Restaurant     241\n",
       "Bakery                  238\n",
       "BBQ Joint               235\n",
       "Seafood Restaurant      182\n",
       "Dessert Shop            174\n",
       "Asian Restaurant        166\n",
       "Clothing Store          163\n",
       "Beach                   155\n",
       "Steakhouse              154\n",
       "Italian Restaurant      145\n",
       "Park                    132\n",
       "Spa                     114\n",
       "Name: Venue Category, dtype: int64"
      ]
     },
     "execution_count": 52,
     "metadata": {},
     "output_type": "execute_result"
    }
   ],
   "source": [
    "df['Venue Category'].value_counts()[0:21]"
   ]
  },
  {
   "cell_type": "markdown",
   "metadata": {},
   "source": [
    "## Word embedding determination"
   ]
  },
  {
   "cell_type": "markdown",
   "metadata": {},
   "source": [
    "at this point, using the unique venue categories, I will determine the corresponding embeddings of each phrase/word to be used for clustering later on."
   ]
  },
  {
   "cell_type": "markdown",
   "metadata": {},
   "source": [
    "### Word2Vec"
   ]
  },
  {
   "cell_type": "markdown",
   "metadata": {},
   "source": [
    "A word2vec pre-trained model was used that was trained on google news dataset containing 3 million words and phrases. The output for this is a 300-dimensional column vector."
   ]
  },
  {
   "cell_type": "code",
   "execution_count": 5,
   "metadata": {},
   "outputs": [],
   "source": [
    "model = KeyedVectors.load_word2vec_format('GoogleNews-vectors-negative300.bin', binary = True)"
   ]
  },
  {
   "cell_type": "markdown",
   "metadata": {},
   "source": [
    "Test to see if the model works:"
   ]
  },
  {
   "cell_type": "code",
   "execution_count": 58,
   "metadata": {},
   "outputs": [
    {
     "data": {
      "text/plain": [
       "(300,)"
      ]
     },
     "execution_count": 58,
     "metadata": {},
     "output_type": "execute_result"
    }
   ],
   "source": [
    "vc_tst = model['Restaurant']\n",
    "vc_tst.shape"
   ]
  },
  {
   "cell_type": "markdown",
   "metadata": {},
   "source": [
    "For each unique venue category, determined the corresponding word embedding vector for it. Since most of the categories are phrases, I will try taking first taking the average of the output vectors for each word in a phrase. See example for the venue category *japanese restaurant*:"
   ]
  },
  {
   "cell_type": "code",
   "execution_count": 77,
   "metadata": {},
   "outputs": [
    {
     "data": {
      "text/plain": [
       "(300,)"
      ]
     },
     "execution_count": 77,
     "metadata": {},
     "output_type": "execute_result"
    }
   ],
   "source": [
    "vec_list = np.array([model[x] for x in 'japanese restaurant'.split(' ')])\n",
    "vec_mean = np.mean(np.array(vec_list), axis = 0)\n",
    "vec_mean.shape\n",
    "\n",
    "\n"
   ]
  },
  {
   "cell_type": "markdown",
   "metadata": {},
   "source": [
    "Showing the first 20 elements of the vector:"
   ]
  },
  {
   "cell_type": "code",
   "execution_count": 79,
   "metadata": {},
   "outputs": [
    {
     "data": {
      "text/plain": [
       "array([-0.07556915, -0.0402832 ,  0.10070801,  0.32910156, -0.18383789,\n",
       "        0.06420898, -0.0144043 , -0.01531982,  0.19873047,  0.01269531,\n",
       "       -0.08886719, -0.18786621,  0.04711914, -0.28955078, -0.1048584 ,\n",
       "        0.00390625, -0.08789062,  0.1824646 ,  0.05456543, -0.07641602],\n",
       "      dtype=float32)"
      ]
     },
     "execution_count": 79,
     "metadata": {},
     "output_type": "execute_result"
    }
   ],
   "source": [
    "vec_mean[0:20]"
   ]
  },
  {
   "cell_type": "markdown",
   "metadata": {},
   "source": [
    "### Determine word embeddings using pre-trained model"
   ]
  },
  {
   "cell_type": "markdown",
   "metadata": {},
   "source": [
    "I will pre-process first the venue category list to remove any special characters in the unique venue category list."
   ]
  },
  {
   "cell_type": "code",
   "execution_count": 164,
   "metadata": {},
   "outputs": [
    {
     "name": "stdout",
     "output_type": "stream",
     "text": [
      "There are 9 strings with special characters\n"
     ]
    }
   ],
   "source": [
    "import re\n",
    "venue_cat_unique = np.unique(df['Venue Category'])\n",
    "\n",
    "punct_bool =[]\n",
    "for venue in venue_cat_unique:\n",
    "    bool_ = bool(re.search(r'[((/+*\\-))]', venue)) #finding special characters\n",
    "    punct_bool.append(bool_)\n",
    "\n",
    "\n",
    "print(\"There are \" + str(np.sum(punct_bool)) + \" strings with special characters\")\n",
    "        "
   ]
  },
  {
   "cell_type": "code",
   "execution_count": 165,
   "metadata": {},
   "outputs": [
    {
     "data": {
      "text/plain": [
       "array(['Cajun / Creole Restaurant', 'Deli / Bodega',\n",
       "       'Gym / Fitness Center', 'Harbor / Marina', 'Monument / Landmark',\n",
       "       'Residential Building (Apartment / Condo)', 'Salon / Barbershop',\n",
       "       'Tex-Mex Restaurant', 'Vegetarian / Vegan Restaurant'],\n",
       "      dtype=object)"
      ]
     },
     "execution_count": 165,
     "metadata": {},
     "output_type": "execute_result"
    }
   ],
   "source": [
    "venue_cat_unique[np.where(np.array(punct_bool) == True)]"
   ]
  },
  {
   "cell_type": "markdown",
   "metadata": {},
   "source": [
    "I now remove special characters or punctuation marks from these venue names and convert to spaces."
   ]
  },
  {
   "cell_type": "code",
   "execution_count": 166,
   "metadata": {},
   "outputs": [
    {
     "data": {
      "text/plain": [
       "array(['Cajun Creole Restaurant', 'Deli Bodega', 'Gym Fitness Center',\n",
       "       'Harbor Marina', 'Monument Landmark',\n",
       "       'Residential Building Apartment Condo', 'Salon Barbershop',\n",
       "       'TexMex Restaurant', 'Vegetarian Vegan Restaurant'], dtype=object)"
      ]
     },
     "execution_count": 166,
     "metadata": {},
     "output_type": "execute_result"
    }
   ],
   "source": [
    "indWithPunct = np.where(np.array(punct_bool) == True)[0]\n",
    "\n",
    "for ind in indWithPunct:\n",
    "    new_venue = re.sub(\n",
    "        r'\\s{2,}', #remove excess spaces\n",
    "        ' ',\n",
    "        re.sub(r'[((/+*\\-))]', '', venue_cat_unique[ind]) # remove punctuation marks\n",
    "    )\n",
    "        \n",
    "    \n",
    "    venue_cat_unique[ind] = new_venue\n",
    "\n",
    "venue_cat_unique[indWithPunct]"
   ]
  },
  {
   "cell_type": "markdown",
   "metadata": {},
   "source": [
    "#### Averaging Word Embeddings"
   ]
  },
  {
   "cell_type": "code",
   "execution_count": 167,
   "metadata": {},
   "outputs": [],
   "source": [
    "word_embed = []\n",
    "for venue in venue_cat_unique:\n",
    "    vec_list = np.array([model[i] for i in venue.split(' ')])\n",
    "    ave_vec = np.mean(vec_list, axis = 0)\n",
    "    word_embed.append(ave_vec)\n"
   ]
  },
  {
   "cell_type": "code",
   "execution_count": 172,
   "metadata": {},
   "outputs": [
    {
     "data": {
      "text/plain": [
       "(215, 300)"
      ]
     },
     "execution_count": 172,
     "metadata": {},
     "output_type": "execute_result"
    }
   ],
   "source": [
    "arr_embed = np.array(word_embed)\n",
    "arr_embed.shape"
   ]
  },
  {
   "cell_type": "markdown",
   "metadata": {},
   "source": [
    "## K-means clustering"
   ]
  },
  {
   "cell_type": "markdown",
   "metadata": {},
   "source": [
    "Now that I have the corresponding average word embedding vectors for each venue category, I now cluster these categories using K-means."
   ]
  },
  {
   "cell_type": "code",
   "execution_count": 192,
   "metadata": {},
   "outputs": [
    {
     "data": {
      "text/html": [
       "<div>\n",
       "<style scoped>\n",
       "    .dataframe tbody tr th:only-of-type {\n",
       "        vertical-align: middle;\n",
       "    }\n",
       "\n",
       "    .dataframe tbody tr th {\n",
       "        vertical-align: top;\n",
       "    }\n",
       "\n",
       "    .dataframe thead th {\n",
       "        text-align: right;\n",
       "    }\n",
       "</style>\n",
       "<table border=\"1\" class=\"dataframe\">\n",
       "  <thead>\n",
       "    <tr style=\"text-align: right;\">\n",
       "      <th></th>\n",
       "      <th>k</th>\n",
       "      <th>wss</th>\n",
       "    </tr>\n",
       "  </thead>\n",
       "  <tbody>\n",
       "    <tr>\n",
       "      <th>0</th>\n",
       "      <td>1</td>\n",
       "      <td>1232.314087</td>\n",
       "    </tr>\n",
       "    <tr>\n",
       "      <th>1</th>\n",
       "      <td>2</td>\n",
       "      <td>1136.707075</td>\n",
       "    </tr>\n",
       "    <tr>\n",
       "      <th>2</th>\n",
       "      <td>3</td>\n",
       "      <td>1088.412453</td>\n",
       "    </tr>\n",
       "    <tr>\n",
       "      <th>3</th>\n",
       "      <td>4</td>\n",
       "      <td>1061.225159</td>\n",
       "    </tr>\n",
       "    <tr>\n",
       "      <th>4</th>\n",
       "      <td>5</td>\n",
       "      <td>1034.660845</td>\n",
       "    </tr>\n",
       "  </tbody>\n",
       "</table>\n",
       "</div>"
      ],
      "text/plain": [
       "   k          wss\n",
       "0  1  1232.314087\n",
       "1  2  1136.707075\n",
       "2  3  1088.412453\n",
       "3  4  1061.225159\n",
       "4  5  1034.660845"
      ]
     },
     "execution_count": 192,
     "metadata": {},
     "output_type": "execute_result"
    }
   ],
   "source": [
    "from sklearn.cluster import KMeans\n",
    "n_clusters =range(1,51)\n",
    "wss = []\n",
    "\n",
    "for k in n_clusters:\n",
    "    clust = KMeans(n_clusters = k)\n",
    "    clust.fit(arr_embed)\n",
    "    wss.append(clust.inertia_)\n",
    "\n",
    "smr_k_means = pd.DataFrame({'k':n_clusters, 'wss':wss})\n",
    "\n",
    "smr_k_means.head()\n",
    "\n",
    "    "
   ]
  },
  {
   "cell_type": "markdown",
   "metadata": {},
   "source": [
    "Shown below is an attempt to determine optimal clusters for K-means. It seems that decrease of withing cluster residuals just keeps on decreasing with increasing k."
   ]
  },
  {
   "cell_type": "code",
   "execution_count": 271,
   "metadata": {},
   "outputs": [
    {
     "data": {
      "text/plain": [
       "Text(0.5, 1.0, 'Within Cluster Residuals vs. Cluster size')"
      ]
     },
     "execution_count": 271,
     "metadata": {},
     "output_type": "execute_result"
    },
    {
     "data": {
      "image/png": "[encoded data removed]",
      "text/plain": [
       "<Figure size 1080x576 with 1 Axes>"
      ]
     },
     "metadata": {
      "needs_background": "light"
     },
     "output_type": "display_data"
    }
   ],
   "source": [
    "import matplotlib.pyplot as plt\n",
    "fig, ax = plt.subplots(figsize = (15, 8))\n",
    "lp = sns.lineplot(x = 'k', y = 'wss', data = smr_k_means)\n",
    "lp.set_title('Within Cluster Residuals vs. Cluster size', fontsize = 15)\n"
   ]
  },
  {
   "cell_type": "markdown",
   "metadata": {},
   "source": [
    "### Setting it by hand"
   ]
  },
  {
   "cell_type": "markdown",
   "metadata": {},
   "source": [
    "Since the elbow method does not make sense in this case, I will try to iteratively determine clusters starting with $k = 5$ and see what makes sense. To help in determination, I will do PCA to reduce dimensionality to two."
   ]
  },
  {
   "cell_type": "code",
   "execution_count": 208,
   "metadata": {},
   "outputs": [
    {
     "data": {
      "text/plain": [
       "array([0.10071039, 0.05674446, 0.04542281, 0.03826414, 0.03288147],\n",
       "      dtype=float32)"
      ]
     },
     "execution_count": 208,
     "metadata": {},
     "output_type": "execute_result"
    }
   ],
   "source": [
    "from sklearn.decomposition import PCA\n",
    "\n",
    "pc_decmp = PCA(n_components = 5)\n",
    "pca_result = pc_decmp.fit_transform(arr_embed)\n",
    "\n",
    "df_unique_venue = pd.DataFrame({'venue_category':venue_cat_unique})\n",
    "\n",
    "df_unique_venue['pc_one'] = pca_result[:,0]\n",
    "df_unique_venue['pc_two'] = pca_result[:,1]\n",
    "\n",
    "pc_decmp.explained_variance_ratio_\n"
   ]
  },
  {
   "cell_type": "code",
   "execution_count": 254,
   "metadata": {},
   "outputs": [
    {
     "data": {
      "application/vnd.plotly.v1+json": {
       "config": {
        "plotlyServerURL": "https://plot.ly"
       },
       "data": [
        {
         "hovertext": [
          "African Restaurant",
          "Airport",
          "Airport Lounge",
          "American Restaurant",
          "Arcade",
          "Art Gallery",
          "Art Museum",
          "Arts & Crafts Store",
          "Asian Restaurant",
          "Athletics & Sports",
          "Australian Restaurant",
          "BBQ Joint",
          "Bakery",
          "Bar",
          "Bay",
          "Beach",
          "Beach Bar",
          "Bed & Breakfast",
          "Beer Garden",
          "Bistro",
          "Boat or Ferry",
          "Bookstore",
          "Botanical Garden",
          "Bowling Alley",
          "Boxing Gym",
          "Breakfast Spot",
          "Brewery",
          "Bridge",
          "Bubble Tea Shop",
          "Buffet",
          "Building",
          "Burger Joint",
          "Burrito Place",
          "Bus Station",
          "Cafeteria",
          "Café",
          "Cajun Creole Restaurant",
          "Campground",
          "Candy Store",
          "Capitol Building",
          "Cave",
          "Chinese Restaurant",
          "Church",
          "City Hall",
          "Clothing Store",
          "Cocktail Bar",
          "Coffee Shop",
          "College Quad",
          "Comfort Food Restaurant",
          "Convenience Store",
          "Convention Center",
          "Cosmetics Shop",
          "Creperie",
          "Cupcake Shop",
          "Deli Bodega",
          "Department Store",
          "Dessert Shop",
          "Dim Sum Restaurant",
          "Diner",
          "Dive Bar",
          "Dive Shop",
          "Dive Spot",
          "Donut Shop",
          "Eastern European Restaurant",
          "Electronics Store",
          "Empanada Restaurant",
          "English Restaurant",
          "Farm",
          "Farmers Market",
          "Fast Food Restaurant",
          "Field",
          "Filipino Restaurant",
          "Fish & Chips Shop",
          "Flea Market",
          "Food",
          "Food & Drink Shop",
          "Food Court",
          "Fountain",
          "Fraternity House",
          "French Restaurant",
          "Fried Chicken Joint",
          "Frozen Yogurt Shop",
          "Fruit & Vegetable Store",
          "Garden",
          "Gas Station",
          "Gastropub",
          "General Entertainment",
          "German Restaurant",
          "Gift Shop",
          "Golf Course",
          "Greek Restaurant",
          "Grocery Store",
          "Gym",
          "Gym Fitness Center",
          "Harbor Marina",
          "Health Food Store",
          "Historic Site",
          "History Museum",
          "Hobby Shop",
          "Hookah Bar",
          "Hostel",
          "Hot Dog Joint",
          "Hot Spring",
          "Hotel",
          "Hotel Bar",
          "Hotel Pool",
          "Ice Cream Shop",
          "Indian Restaurant",
          "Indonesian Restaurant",
          "Island",
          "Italian Restaurant",
          "Japanese Restaurant",
          "Juice Bar",
          "Karaoke Bar",
          "Kebab Restaurant",
          "Korean Restaurant",
          "Lake",
          "Lighthouse",
          "Lounge",
          "Malay Restaurant",
          "Market",
          "Massage Studio",
          "Mediterranean Restaurant",
          "Mexican Restaurant",
          "Middle Eastern Restaurant",
          "Miscellaneous Shop",
          "Mobile Phone Shop",
          "Modern European Restaurant",
          "Monument Landmark",
          "Motel",
          "Mountain",
          "Movie Theater",
          "Multiplex",
          "Museum",
          "Music Venue",
          "Nail Salon",
          "National Park",
          "Nature Preserve",
          "Neighborhood",
          "New American Restaurant",
          "Nightclub",
          "Noodle House",
          "Office",
          "Organic Grocery",
          "Other Great Outdoors",
          "Other Nightlife",
          "Outdoor Event Space",
          "Outdoor Sculpture",
          "Outdoors & Recreation",
          "Park",
          "Performing Arts Venue",
          "Pharmacy",
          "Pier",
          "Pizza Place",
          "Plaza",
          "Pool",
          "Pub",
          "Public Art",
          "Racetrack",
          "Rafting",
          "Ramen Restaurant",
          "Residential Building Apartment Condo",
          "Resort",
          "Restaurant",
          "River",
          "Road",
          "Salad Place",
          "Salon Barbershop",
          "Sandwich Place",
          "Scenic Lookout",
          "School",
          "Sculpture Garden",
          "Seafood Restaurant",
          "Shoe Store",
          "Shopping Mall",
          "Shopping Plaza",
          "Snack Place",
          "Soup Place",
          "Spa",
          "Spanish Restaurant",
          "Speakeasy",
          "Spiritual Center",
          "Sporting Goods Shop",
          "Sports Bar",
          "Sports Club",
          "Steakhouse",
          "Street Fair",
          "Supermarket",
          "Surf Spot",
          "Sushi Restaurant",
          "Taco Place",
          "Tea Room",
          "TexMex Restaurant",
          "Thai Restaurant",
          "Theater",
          "Theme Park",
          "Toll Plaza",
          "Town",
          "Track Stadium",
          "Trail",
          "Tree",
          "Turkish Restaurant",
          "University",
          "Vegetarian Vegan Restaurant",
          "Vietnamese Restaurant",
          "Vineyard",
          "Volcano",
          "Warehouse Store",
          "Water Park",
          "Waterfall",
          "Windmill",
          "Wine Bar",
          "Wings Joint",
          "Yoga Studio",
          "Zoo"
         ],
         "mode": "markers",
         "type": "scatter",
         "x": [
          0.8705090880393982,
          -0.6058467626571655,
          0.16791149973869324,
          0.8714818358421326,
          -0.3222759962081909,
          -0.48359227180480957,
          -0.8815205097198486,
          -0.4798063039779663,
          1.0550721883773804,
          -0.7304227948188782,
          0.8580465316772461,
          0.10405069589614868,
          1.1449087858200073,
          0.7094948887825012,
          -0.9020723700523376,
          -0.5444964170455933,
          0.08249922841787338,
          -0.22634898126125336,
          -0.2110690176486969,
          1.936193585395813,
          -0.5545173287391663,
          0.33981457352638245,
          -0.6004793643951416,
          -0.31113484501838684,
          -0.30650755763053894,
          -0.06890804320573807,
          0.30835551023483276,
          -0.8604215979576111,
          -0.20118382573127747,
          1.081170678138733,
          -0.7650105953216553,
          -0.07050596177577972,
          0.47945404052734375,
          -0.5786373019218445,
          0.7394660115242004,
          1.433085322380066,
          0.997281014919281,
          -0.34868407249450684,
          -0.1628335565328598,
          -0.8047744631767273,
          -0.796838104724884,
          0.9863144159317017,
          -0.5276813507080078,
          -0.7867148518562317,
          -0.12352731823921204,
          0.6207073926925659,
          0.19374212622642517,
          -0.8822687864303589,
          0.5892144441604614,
          0.0016827909275889397,
          -0.8348253965377808,
          0.022586500272154808,
          0.8261731863021851,
          0.001978696323931217,
          0.9735812544822693,
          -0.4548938572406769,
          0.14776107668876648,
          0.6141726970672607,
          1.5480661392211914,
          0.09453416615724564,
          -0.278581440448761,
          -0.45921024680137634,
          0.14512555301189423,
          0.28976690769195557,
          -0.23658496141433716,
          1.401517629623413,
          0.9142718315124512,
          -0.5585048198699951,
          -0.27027106285095215,
          0.716178834438324,
          -1.288575291633606,
          1.1964058876037598,
          -0.2027149200439453,
          -0.3196008503437042,
          0.0665455237030983,
          -0.1067468598484993,
          -0.3366442620754242,
          -0.8708860874176025,
          -0.4725755453109741,
          1.0880919694900513,
          0.0014034840278327465,
          0.14203907549381256,
          -0.17717120051383972,
          -0.5995329022407532,
          -0.4924406111240387,
          0.8960033059120178,
          -0.5025671124458313,
          0.8783373236656189,
          -0.41074395179748535,
          -0.60028475522995,
          1.1705104112625122,
          0.3266385793685913,
          -0.36320143938064575,
          -0.5410509705543518,
          -0.6200381517410278,
          -0.204973965883255,
          -0.9036730527877808,
          -0.9534546136856079,
          -0.3202968239784241,
          0.7216660976409912,
          -0.347636342048645,
          -0.39922159910202026,
          -0.6156249642372131,
          0.6737157106399536,
          0.6916054487228394,
          -0.05038011074066162,
          -0.3318133056163788,
          0.8923298716545105,
          1.104070782661438,
          -1.0129870176315308,
          1.309131145477295,
          1.0113807916641235,
          0.306888222694397,
          0.8013701438903809,
          1.813974380493164,
          0.9943917393684387,
          -1.1897075176239014,
          -0.6209477782249451,
          0.9416703581809998,
          1.0933688879013062,
          -0.10873118042945862,
          -0.16300265491008759,
          1.1533485651016235,
          1.1533626317977905,
          0.23869436979293823,
          -0.3912985920906067,
          -0.36898648738861084,
          0.3639282286167145,
          -0.9243394732475281,
          0.6504727005958557,
          -0.95388263463974,
          -0.14215616881847382,
          -0.5416868925094604,
          -1.0348570346832275,
          -0.238851398229599,
          -0.07659390568733215,
          -1.0495641231536865,
          -0.9479379057884216,
          -0.38763096928596497,
          0.36839792132377625,
          1.00860595703125,
          0.17165526747703552,
          -0.6710102558135986,
          0.3025425970554352,
          -0.7408047914505005,
          -0.06513098627328873,
          -0.8649969100952148,
          -1.0930445194244385,
          -0.8284439444541931,
          -1.1581565141677856,
          -0.47023141384124756,
          0.019521700218319893,
          -0.3923432230949402,
          0.5940848588943481,
          -0.14646415412425995,
          -0.7744757533073425,
          1.2523868083953857,
          -0.7565352916717529,
          -0.4968321621417999,
          -0.2970810830593109,
          1.402518391609192,
          -0.3530997335910797,
          0.04739248380064964,
          2.176386594772339,
          -1.2536797523498535,
          -0.6823261380195618,
          0.3803347647190094,
          0.373556524515152,
          -0.0718020498752594,
          -0.7633492946624756,
          -0.7134323120117188,
          -0.8809735178947449,
          1.667466402053833,
          -0.2910975217819214,
          -0.49121224880218506,
          -0.33452922105789185,
          0.03234058618545532,
          -0.014850769191980362,
          0.14589405059814453,
          0.9817632436752319,
          0.3826941251754761,
          -0.8905919790267944,
          -0.3724658191204071,
          -0.005438083782792091,
          -0.4288958013057709,
          2.1805152893066406,
          -0.6734336018562317,
          0.8184121251106262,
          -0.4276442229747772,
          1.7658108472824097,
          0.29676809906959534,
          -0.048432186245918274,
          1.165769338607788,
          1.2987732887268066,
          -0.08422189950942993,
          -0.8948999643325806,
          -0.40650442242622375,
          -0.6601548790931702,
          -0.8942096829414368,
          -0.9506586790084839,
          -0.7975934147834778,
          1.0470716953277588,
          -0.8544310331344604,
          1.1719413995742798,
          1.1257221698760986,
          -0.33326631784439087,
          -0.3926762640476227,
          -0.22227711975574493,
          -1.0187816619873047,
          -0.834669291973114,
          -0.5510583519935608,
          0.5100935697555542,
          -0.6010409593582153,
          -0.3943922817707062,
          -0.8763304948806763
         ],
         "y": [
          -0.40860483050346375,
          -0.2815819978713989,
          -0.21781198680400848,
          -0.41667646169662476,
          0.4744921624660492,
          0.5104634761810303,
          0.38124725222587585,
          0.7465343475341797,
          -0.37719765305519104,
          0.17073126137256622,
          -0.48559272289276123,
          -0.17355696856975555,
          0.943769633769989,
          -0.41750258207321167,
          -1.0186774730682373,
          -1.1317476034164429,
          -0.7746251821517944,
          0.005208608228713274,
          0.11479688435792923,
          0.031136156991124153,
          -0.40125706791877747,
          1.3051857948303223,
          0.1078084260225296,
          -0.016992583870887756,
          0.23689846694469452,
          0.11357095092535019,
          -0.22880111634731293,
          -0.715406596660614,
          0.6680328845977783,
          -0.10165010392665863,
          0.1312870979309082,
          -0.20021288096904755,
          0.18841814994812012,
          0.10860998928546906,
          0.2470422238111496,
          0.25769340991973877,
          -0.495673805475235,
          -0.9650130271911621,
          1.1781070232391357,
          -0.10327261686325073,
          -0.5651862621307373,
          -0.39322394132614136,
          -0.12445523589849472,
          -0.22007903456687927,
          1.456299066543579,
          -0.3237546384334564,
          1.0090659856796265,
          -0.1802944540977478,
          0.2067888230085373,
          1.313713788986206,
          -0.0816696435213089,
          1.3819228410720825,
          0.23832939565181732,
          1.147933840751648,
          0.3727545738220215,
          0.8770671486854553,
          0.9775972962379456,
          -0.188348650932312,
          0.2446872442960739,
          -0.3512234389781952,
          0.699295163154602,
          0.024949971586465836,
          1.2068052291870117,
          -0.44088298082351685,
          1.1697062253952026,
          -0.03611842542886734,
          -0.400057315826416,
          0.14772053062915802,
          0.41945624351501465,
          0.18765847384929657,
          -0.13405461609363556,
          -0.4847677946090698,
          0.41368359327316284,
          0.49884265661239624,
          0.7015379071235657,
          0.6510564684867859,
          0.267453134059906,
          -0.593288779258728,
          -0.36533528566360474,
          -0.3910803198814392,
          -0.0795215368270874,
          0.785083532333374,
          0.799959659576416,
          0.09423588216304779,
          0.01265521626919508,
          0.30805692076683044,
          0.08162426948547363,
          -0.37565362453460693,
          1.2499374151229858,
          -0.413588285446167,
          -0.46057814359664917,
          1.5044629573822021,
          0.3919229805469513,
          0.3751065731048584,
          -0.956141471862793,
          0.9135118126869202,
          -0.15227657556533813,
          0.2804151475429535,
          1.1879355907440186,
          -0.21790574491024017,
          -0.3332675099372864,
          -0.17518629133701324,
          -0.10633961111307144,
          -0.7302638292312622,
          -0.5738832950592041,
          -0.5800571441650391,
          0.6604193449020386,
          -0.5069633722305298,
          -0.522652804851532,
          -1.0106287002563477,
          -0.4612559974193573,
          -0.48865970969200134,
          -0.013983574695885181,
          -0.17326262593269348,
          0.011683819815516472,
          -0.5719831585884094,
          -1.1980738639831543,
          -0.6696472764015198,
          -0.1540411114692688,
          -0.5821323394775391,
          0.573522686958313,
          0.3767271637916565,
          -0.5426563024520874,
          -0.5088479518890381,
          -0.3962888717651367,
          0.9651303291320801,
          0.7648740410804749,
          -0.23825514316558838,
          -0.48758432269096375,
          -0.33601874113082886,
          -0.9036776423454285,
          0.2749304473400116,
          -0.4796992540359497,
          0.3016638159751892,
          0.10529323667287827,
          0.39083102345466614,
          -0.6120592355728149,
          -0.3381095826625824,
          0.1100686565041542,
          -0.34416499733924866,
          -0.19539283215999603,
          -0.03289882466197014,
          0.23355633020401,
          0.9547973871231079,
          -0.07516518980264664,
          -0.17525319755077362,
          0.05118800327181816,
          -0.0014864971162751317,
          0.19949768483638763,
          -0.7403365969657898,
          0.007588363252580166,
          1.1887487173080444,
          -0.5690709948539734,
          0.2174915373325348,
          0.066492460668087,
          -0.42985033988952637,
          -0.33590996265411377,
          0.07789435237646103,
          -0.39468976855278015,
          -0.7279999256134033,
          -0.049373991787433624,
          -0.13382786512374878,
          -1.0395607948303223,
          -0.3228718936443329,
          -1.286842942237854,
          -0.2304275631904602,
          0.10517992824316025,
          0.5866448283195496,
          -0.0386076457798481,
          -0.7825547456741333,
          -0.10100811719894409,
          0.042213328182697296,
          -0.05375804379582405,
          1.281857967376709,
          0.8055682182312012,
          0.6102249026298523,
          0.38033565878868103,
          0.24608822166919708,
          -0.2250199317932129,
          -0.44157522916793823,
          0.0039689019322395325,
          0.08736564964056015,
          0.8102530241012573,
          -0.12059652805328369,
          0.0015031516086310148,
          -0.41026630997657776,
          0.119293712079525,
          1.2391424179077148,
          0.05717436224222183,
          -0.07993535697460175,
          0.07766438275575638,
          -0.009379001334309578,
          -0.3079850375652313,
          -0.5190852880477905,
          0.21838636696338654,
          -0.40518760681152344,
          -0.2630624771118164,
          -0.01984587498009205,
          -0.14010553061962128,
          -0.9206289649009705,
          0.005123913753777742,
          -0.49739277362823486,
          -0.3279423415660858,
          0.14987029135227203,
          -0.5054361820220947,
          -0.5158910751342773,
          -0.7400684356689453,
          1.3383694887161255,
          -0.5892465114593506,
          -0.8776223063468933,
          -0.42104634642601013,
          -0.16314829885959625,
          -0.21799437701702118,
          0.30031391978263855,
          -0.1828749030828476
         ]
        }
       ],
       "layout": {
        "autosize": false,
        "height": 800,
        "template": {
         "data": {
          "bar": [
           {
            "error_x": {
             "color": "#2a3f5f"
            },
            "error_y": {
             "color": "#2a3f5f"
            },
            "marker": {
             "line": {
              "color": "white",
              "width": 0.5
             }
            },
            "type": "bar"
           }
          ],
          "barpolar": [
           {
            "marker": {
             "line": {
              "color": "white",
              "width": 0.5
             }
            },
            "type": "barpolar"
           }
          ],
          "carpet": [
           {
            "aaxis": {
             "endlinecolor": "#2a3f5f",
             "gridcolor": "#C8D4E3",
             "linecolor": "#C8D4E3",
             "minorgridcolor": "#C8D4E3",
             "startlinecolor": "#2a3f5f"
            },
            "baxis": {
             "endlinecolor": "#2a3f5f",
             "gridcolor": "#C8D4E3",
             "linecolor": "#C8D4E3",
             "minorgridcolor": "#C8D4E3",
             "startlinecolor": "#2a3f5f"
            },
            "type": "carpet"
           }
          ],
          "choropleth": [
           {
            "colorbar": {
             "outlinewidth": 0,
             "ticks": ""
            },
            "type": "choropleth"
           }
          ],
          "contour": [
           {
            "colorbar": {
             "outlinewidth": 0,
             "ticks": ""
            },
            "colorscale": [
             [
              0,
              "#0d0887"
             ],
             [
              0.1111111111111111,
              "#46039f"
             ],
             [
              0.2222222222222222,
              "#7201a8"
             ],
             [
              0.3333333333333333,
              "#9c179e"
             ],
             [
              0.4444444444444444,
              "#bd3786"
             ],
             [
              0.5555555555555556,
              "#d8576b"
             ],
             [
              0.6666666666666666,
              "#ed7953"
             ],
             [
              0.7777777777777778,
              "#fb9f3a"
             ],
             [
              0.8888888888888888,
              "#fdca26"
             ],
             [
              1,
              "#f0f921"
             ]
            ],
            "type": "contour"
           }
          ],
          "contourcarpet": [
           {
            "colorbar": {
             "outlinewidth": 0,
             "ticks": ""
            },
            "type": "contourcarpet"
           }
          ],
          "heatmap": [
           {
            "colorbar": {
             "outlinewidth": 0,
             "ticks": ""
            },
            "colorscale": [
             [
              0,
              "#0d0887"
             ],
             [
              0.1111111111111111,
              "#46039f"
             ],
             [
              0.2222222222222222,
              "#7201a8"
             ],
             [
              0.3333333333333333,
              "#9c179e"
             ],
             [
              0.4444444444444444,
              "#bd3786"
             ],
             [
              0.5555555555555556,
              "#d8576b"
             ],
             [
              0.6666666666666666,
              "#ed7953"
             ],
             [
              0.7777777777777778,
              "#fb9f3a"
             ],
             [
              0.8888888888888888,
              "#fdca26"
             ],
             [
              1,
              "#f0f921"
             ]
            ],
            "type": "heatmap"
           }
          ],
          "heatmapgl": [
           {
            "colorbar": {
             "outlinewidth": 0,
             "ticks": ""
            },
            "colorscale": [
             [
              0,
              "#0d0887"
             ],
             [
              0.1111111111111111,
              "#46039f"
             ],
             [
              0.2222222222222222,
              "#7201a8"
             ],
             [
              0.3333333333333333,
              "#9c179e"
             ],
             [
              0.4444444444444444,
              "#bd3786"
             ],
             [
              0.5555555555555556,
              "#d8576b"
             ],
             [
              0.6666666666666666,
              "#ed7953"
             ],
             [
              0.7777777777777778,
              "#fb9f3a"
             ],
             [
              0.8888888888888888,
              "#fdca26"
             ],
             [
              1,
              "#f0f921"
             ]
            ],
            "type": "heatmapgl"
           }
          ],
          "histogram": [
           {
            "marker": {
             "colorbar": {
              "outlinewidth": 0,
              "ticks": ""
             }
            },
            "type": "histogram"
           }
          ],
          "histogram2d": [
           {
            "colorbar": {
             "outlinewidth": 0,
             "ticks": ""
            },
            "colorscale": [
             [
              0,
              "#0d0887"
             ],
             [
              0.1111111111111111,
              "#46039f"
             ],
             [
              0.2222222222222222,
              "#7201a8"
             ],
             [
              0.3333333333333333,
              "#9c179e"
             ],
             [
              0.4444444444444444,
              "#bd3786"
             ],
             [
              0.5555555555555556,
              "#d8576b"
             ],
             [
              0.6666666666666666,
              "#ed7953"
             ],
             [
              0.7777777777777778,
              "#fb9f3a"
             ],
             [
              0.8888888888888888,
              "#fdca26"
             ],
             [
              1,
              "#f0f921"
             ]
            ],
            "type": "histogram2d"
           }
          ],
          "histogram2dcontour": [
           {
            "colorbar": {
             "outlinewidth": 0,
             "ticks": ""
            },
            "colorscale": [
             [
              0,
              "#0d0887"
             ],
             [
              0.1111111111111111,
              "#46039f"
             ],
             [
              0.2222222222222222,
              "#7201a8"
             ],
             [
              0.3333333333333333,
              "#9c179e"
             ],
             [
              0.4444444444444444,
              "#bd3786"
             ],
             [
              0.5555555555555556,
              "#d8576b"
             ],
             [
              0.6666666666666666,
              "#ed7953"
             ],
             [
              0.7777777777777778,
              "#fb9f3a"
             ],
             [
              0.8888888888888888,
              "#fdca26"
             ],
             [
              1,
              "#f0f921"
             ]
            ],
            "type": "histogram2dcontour"
           }
          ],
          "mesh3d": [
           {
            "colorbar": {
             "outlinewidth": 0,
             "ticks": ""
            },
            "type": "mesh3d"
           }
          ],
          "parcoords": [
           {
            "line": {
             "colorbar": {
              "outlinewidth": 0,
              "ticks": ""
             }
            },
            "type": "parcoords"
           }
          ],
          "pie": [
           {
            "automargin": true,
            "type": "pie"
           }
          ],
          "scatter": [
           {
            "marker": {
             "colorbar": {
              "outlinewidth": 0,
              "ticks": ""
             }
            },
            "type": "scatter"
           }
          ],
          "scatter3d": [
           {
            "line": {
             "colorbar": {
              "outlinewidth": 0,
              "ticks": ""
             }
            },
            "marker": {
             "colorbar": {
              "outlinewidth": 0,
              "ticks": ""
             }
            },
            "type": "scatter3d"
           }
          ],
          "scattercarpet": [
           {
            "marker": {
             "colorbar": {
              "outlinewidth": 0,
              "ticks": ""
             }
            },
            "type": "scattercarpet"
           }
          ],
          "scattergeo": [
           {
            "marker": {
             "colorbar": {
              "outlinewidth": 0,
              "ticks": ""
             }
            },
            "type": "scattergeo"
           }
          ],
          "scattergl": [
           {
            "marker": {
             "colorbar": {
              "outlinewidth": 0,
              "ticks": ""
             }
            },
            "type": "scattergl"
           }
          ],
          "scattermapbox": [
           {
            "marker": {
             "colorbar": {
              "outlinewidth": 0,
              "ticks": ""
             }
            },
            "type": "scattermapbox"
           }
          ],
          "scatterpolar": [
           {
            "marker": {
             "colorbar": {
              "outlinewidth": 0,
              "ticks": ""
             }
            },
            "type": "scatterpolar"
           }
          ],
          "scatterpolargl": [
           {
            "marker": {
             "colorbar": {
              "outlinewidth": 0,
              "ticks": ""
             }
            },
            "type": "scatterpolargl"
           }
          ],
          "scatterternary": [
           {
            "marker": {
             "colorbar": {
              "outlinewidth": 0,
              "ticks": ""
             }
            },
            "type": "scatterternary"
           }
          ],
          "surface": [
           {
            "colorbar": {
             "outlinewidth": 0,
             "ticks": ""
            },
            "colorscale": [
             [
              0,
              "#0d0887"
             ],
             [
              0.1111111111111111,
              "#46039f"
             ],
             [
              0.2222222222222222,
              "#7201a8"
             ],
             [
              0.3333333333333333,
              "#9c179e"
             ],
             [
              0.4444444444444444,
              "#bd3786"
             ],
             [
              0.5555555555555556,
              "#d8576b"
             ],
             [
              0.6666666666666666,
              "#ed7953"
             ],
             [
              0.7777777777777778,
              "#fb9f3a"
             ],
             [
              0.8888888888888888,
              "#fdca26"
             ],
             [
              1,
              "#f0f921"
             ]
            ],
            "type": "surface"
           }
          ],
          "table": [
           {
            "cells": {
             "fill": {
              "color": "#EBF0F8"
             },
             "line": {
              "color": "white"
             }
            },
            "header": {
             "fill": {
              "color": "#C8D4E3"
             },
             "line": {
              "color": "white"
             }
            },
            "type": "table"
           }
          ]
         },
         "layout": {
          "annotationdefaults": {
           "arrowcolor": "#2a3f5f",
           "arrowhead": 0,
           "arrowwidth": 1
          },
          "coloraxis": {
           "colorbar": {
            "outlinewidth": 0,
            "ticks": ""
           }
          },
          "colorscale": {
           "diverging": [
            [
             0,
             "#8e0152"
            ],
            [
             0.1,
             "#c51b7d"
            ],
            [
             0.2,
             "#de77ae"
            ],
            [
             0.3,
             "#f1b6da"
            ],
            [
             0.4,
             "#fde0ef"
            ],
            [
             0.5,
             "#f7f7f7"
            ],
            [
             0.6,
             "#e6f5d0"
            ],
            [
             0.7,
             "#b8e186"
            ],
            [
             0.8,
             "#7fbc41"
            ],
            [
             0.9,
             "#4d9221"
            ],
            [
             1,
             "#276419"
            ]
           ],
           "sequential": [
            [
             0,
             "#0d0887"
            ],
            [
             0.1111111111111111,
             "#46039f"
            ],
            [
             0.2222222222222222,
             "#7201a8"
            ],
            [
             0.3333333333333333,
             "#9c179e"
            ],
            [
             0.4444444444444444,
             "#bd3786"
            ],
            [
             0.5555555555555556,
             "#d8576b"
            ],
            [
             0.6666666666666666,
             "#ed7953"
            ],
            [
             0.7777777777777778,
             "#fb9f3a"
            ],
            [
             0.8888888888888888,
             "#fdca26"
            ],
            [
             1,
             "#f0f921"
            ]
           ],
           "sequentialminus": [
            [
             0,
             "#0d0887"
            ],
            [
             0.1111111111111111,
             "#46039f"
            ],
            [
             0.2222222222222222,
             "#7201a8"
            ],
            [
             0.3333333333333333,
             "#9c179e"
            ],
            [
             0.4444444444444444,
             "#bd3786"
            ],
            [
             0.5555555555555556,
             "#d8576b"
            ],
            [
             0.6666666666666666,
             "#ed7953"
            ],
            [
             0.7777777777777778,
             "#fb9f3a"
            ],
            [
             0.8888888888888888,
             "#fdca26"
            ],
            [
             1,
             "#f0f921"
            ]
           ]
          },
          "colorway": [
           "#636efa",
           "#EF553B",
           "#00cc96",
           "#ab63fa",
           "#FFA15A",
           "#19d3f3",
           "#FF6692",
           "#B6E880",
           "#FF97FF",
           "#FECB52"
          ],
          "font": {
           "color": "#2a3f5f"
          },
          "geo": {
           "bgcolor": "white",
           "lakecolor": "white",
           "landcolor": "white",
           "showlakes": true,
           "showland": true,
           "subunitcolor": "#C8D4E3"
          },
          "hoverlabel": {
           "align": "left"
          },
          "hovermode": "closest",
          "mapbox": {
           "style": "light"
          },
          "paper_bgcolor": "white",
          "plot_bgcolor": "white",
          "polar": {
           "angularaxis": {
            "gridcolor": "#EBF0F8",
            "linecolor": "#EBF0F8",
            "ticks": ""
           },
           "bgcolor": "white",
           "radialaxis": {
            "gridcolor": "#EBF0F8",
            "linecolor": "#EBF0F8",
            "ticks": ""
           }
          },
          "scene": {
           "xaxis": {
            "backgroundcolor": "white",
            "gridcolor": "#DFE8F3",
            "gridwidth": 2,
            "linecolor": "#EBF0F8",
            "showbackground": true,
            "ticks": "",
            "zerolinecolor": "#EBF0F8"
           },
           "yaxis": {
            "backgroundcolor": "white",
            "gridcolor": "#DFE8F3",
            "gridwidth": 2,
            "linecolor": "#EBF0F8",
            "showbackground": true,
            "ticks": "",
            "zerolinecolor": "#EBF0F8"
           },
           "zaxis": {
            "backgroundcolor": "white",
            "gridcolor": "#DFE8F3",
            "gridwidth": 2,
            "linecolor": "#EBF0F8",
            "showbackground": true,
            "ticks": "",
            "zerolinecolor": "#EBF0F8"
           }
          },
          "shapedefaults": {
           "line": {
            "color": "#2a3f5f"
           }
          },
          "ternary": {
           "aaxis": {
            "gridcolor": "#DFE8F3",
            "linecolor": "#A2B1C6",
            "ticks": ""
           },
           "baxis": {
            "gridcolor": "#DFE8F3",
            "linecolor": "#A2B1C6",
            "ticks": ""
           },
           "bgcolor": "white",
           "caxis": {
            "gridcolor": "#DFE8F3",
            "linecolor": "#A2B1C6",
            "ticks": ""
           }
          },
          "title": {
           "x": 0.05
          },
          "xaxis": {
           "automargin": true,
           "gridcolor": "#EBF0F8",
           "linecolor": "#EBF0F8",
           "ticks": "",
           "title": {
            "standoff": 15
           },
           "zerolinecolor": "#EBF0F8",
           "zerolinewidth": 2
          },
          "yaxis": {
           "automargin": true,
           "gridcolor": "#EBF0F8",
           "linecolor": "#EBF0F8",
           "ticks": "",
           "title": {
            "standoff": 15
           },
           "zerolinecolor": "#EBF0F8",
           "zerolinewidth": 2
          }
         }
        },
        "title": {
         "text": "Principal Component Visualization of Venue Categories"
        },
        "width": 1000
       }
      },
      "text/html": [
       "<div>\n",
       "        \n",
       "        \n",
       "            <div id=\"e0565db8-2145-45a6-abe6-4a4f476474ac\" class=\"plotly-graph-div\" style=\"height:800px; width:1000px;\"></div>\n",
       "            <script type=\"text/javascript\">\n",
       "                require([\"plotly\"], function(Plotly) {\n",
       "                    window.PLOTLYENV=window.PLOTLYENV || {};\n",
       "                    \n",
       "                if (document.getElementById(\"e0565db8-2145-45a6-abe6-4a4f476474ac\")) {\n",
       "                    Plotly.newPlot(\n",
       "                        'e0565db8-2145-45a6-abe6-4a4f476474ac',\n",
       "                        [{\"hovertext\": [\"African Restaurant\", \"Airport\", \"Airport Lounge\", \"American Restaurant\", \"Arcade\", \"Art Gallery\", \"Art Museum\", \"Arts & Crafts Store\", \"Asian Restaurant\", \"Athletics & Sports\", \"Australian Restaurant\", \"BBQ Joint\", \"Bakery\", \"Bar\", \"Bay\", \"Beach\", \"Beach Bar\", \"Bed & Breakfast\", \"Beer Garden\", \"Bistro\", \"Boat or Ferry\", \"Bookstore\", \"Botanical Garden\", \"Bowling Alley\", \"Boxing Gym\", \"Breakfast Spot\", \"Brewery\", \"Bridge\", \"Bubble Tea Shop\", \"Buffet\", \"Building\", \"Burger Joint\", \"Burrito Place\", \"Bus Station\", \"Cafeteria\", \"Caf\\u00e9\", \"Cajun Creole Restaurant\", \"Campground\", \"Candy Store\", \"Capitol Building\", \"Cave\", \"Chinese Restaurant\", \"Church\", \"City Hall\", \"Clothing Store\", \"Cocktail Bar\", \"Coffee Shop\", \"College Quad\", \"Comfort Food Restaurant\", \"Convenience Store\", \"Convention Center\", \"Cosmetics Shop\", \"Creperie\", \"Cupcake Shop\", \"Deli Bodega\", \"Department Store\", \"Dessert Shop\", \"Dim Sum Restaurant\", \"Diner\", \"Dive Bar\", \"Dive Shop\", \"Dive Spot\", \"Donut Shop\", \"Eastern European Restaurant\", \"Electronics Store\", \"Empanada Restaurant\", \"English Restaurant\", \"Farm\", \"Farmers Market\", \"Fast Food Restaurant\", \"Field\", \"Filipino Restaurant\", \"Fish & Chips Shop\", \"Flea Market\", \"Food\", \"Food & Drink Shop\", \"Food Court\", \"Fountain\", \"Fraternity House\", \"French Restaurant\", \"Fried Chicken Joint\", \"Frozen Yogurt Shop\", \"Fruit & Vegetable Store\", \"Garden\", \"Gas Station\", \"Gastropub\", \"General Entertainment\", \"German Restaurant\", \"Gift Shop\", \"Golf Course\", \"Greek Restaurant\", \"Grocery Store\", \"Gym\", \"Gym Fitness Center\", \"Harbor Marina\", \"Health Food Store\", \"Historic Site\", \"History Museum\", \"Hobby Shop\", \"Hookah Bar\", \"Hostel\", \"Hot Dog Joint\", \"Hot Spring\", \"Hotel\", \"Hotel Bar\", \"Hotel Pool\", \"Ice Cream Shop\", \"Indian Restaurant\", \"Indonesian Restaurant\", \"Island\", \"Italian Restaurant\", \"Japanese Restaurant\", \"Juice Bar\", \"Karaoke Bar\", \"Kebab Restaurant\", \"Korean Restaurant\", \"Lake\", \"Lighthouse\", \"Lounge\", \"Malay Restaurant\", \"Market\", \"Massage Studio\", \"Mediterranean Restaurant\", \"Mexican Restaurant\", \"Middle Eastern Restaurant\", \"Miscellaneous Shop\", \"Mobile Phone Shop\", \"Modern European Restaurant\", \"Monument Landmark\", \"Motel\", \"Mountain\", \"Movie Theater\", \"Multiplex\", \"Museum\", \"Music Venue\", \"Nail Salon\", \"National Park\", \"Nature Preserve\", \"Neighborhood\", \"New American Restaurant\", \"Nightclub\", \"Noodle House\", \"Office\", \"Organic Grocery\", \"Other Great Outdoors\", \"Other Nightlife\", \"Outdoor Event Space\", \"Outdoor Sculpture\", \"Outdoors & Recreation\", \"Park\", \"Performing Arts Venue\", \"Pharmacy\", \"Pier\", \"Pizza Place\", \"Plaza\", \"Pool\", \"Pub\", \"Public Art\", \"Racetrack\", \"Rafting\", \"Ramen Restaurant\", \"Residential Building Apartment Condo\", \"Resort\", \"Restaurant\", \"River\", \"Road\", \"Salad Place\", \"Salon Barbershop\", \"Sandwich Place\", \"Scenic Lookout\", \"School\", \"Sculpture Garden\", \"Seafood Restaurant\", \"Shoe Store\", \"Shopping Mall\", \"Shopping Plaza\", \"Snack Place\", \"Soup Place\", \"Spa\", \"Spanish Restaurant\", \"Speakeasy\", \"Spiritual Center\", \"Sporting Goods Shop\", \"Sports Bar\", \"Sports Club\", \"Steakhouse\", \"Street Fair\", \"Supermarket\", \"Surf Spot\", \"Sushi Restaurant\", \"Taco Place\", \"Tea Room\", \"TexMex Restaurant\", \"Thai Restaurant\", \"Theater\", \"Theme Park\", \"Toll Plaza\", \"Town\", \"Track Stadium\", \"Trail\", \"Tree\", \"Turkish Restaurant\", \"University\", \"Vegetarian Vegan Restaurant\", \"Vietnamese Restaurant\", \"Vineyard\", \"Volcano\", \"Warehouse Store\", \"Water Park\", \"Waterfall\", \"Windmill\", \"Wine Bar\", \"Wings Joint\", \"Yoga Studio\", \"Zoo\"], \"mode\": \"markers\", \"type\": \"scatter\", \"x\": [0.8705090880393982, -0.6058467626571655, 0.16791149973869324, 0.8714818358421326, -0.3222759962081909, -0.48359227180480957, -0.8815205097198486, -0.4798063039779663, 1.0550721883773804, -0.7304227948188782, 0.8580465316772461, 0.10405069589614868, 1.1449087858200073, 0.7094948887825012, -0.9020723700523376, -0.5444964170455933, 0.08249922841787338, -0.22634898126125336, -0.2110690176486969, 1.936193585395813, -0.5545173287391663, 0.33981457352638245, -0.6004793643951416, -0.31113484501838684, -0.30650755763053894, -0.06890804320573807, 0.30835551023483276, -0.8604215979576111, -0.20118382573127747, 1.081170678138733, -0.7650105953216553, -0.07050596177577972, 0.47945404052734375, -0.5786373019218445, 0.7394660115242004, 1.433085322380066, 0.997281014919281, -0.34868407249450684, -0.1628335565328598, -0.8047744631767273, -0.796838104724884, 0.9863144159317017, -0.5276813507080078, -0.7867148518562317, -0.12352731823921204, 0.6207073926925659, 0.19374212622642517, -0.8822687864303589, 0.5892144441604614, 0.0016827909275889397, -0.8348253965377808, 0.022586500272154808, 0.8261731863021851, 0.001978696323931217, 0.9735812544822693, -0.4548938572406769, 0.14776107668876648, 0.6141726970672607, 1.5480661392211914, 0.09453416615724564, -0.278581440448761, -0.45921024680137634, 0.14512555301189423, 0.28976690769195557, -0.23658496141433716, 1.401517629623413, 0.9142718315124512, -0.5585048198699951, -0.27027106285095215, 0.716178834438324, -1.288575291633606, 1.1964058876037598, -0.2027149200439453, -0.3196008503437042, 0.0665455237030983, -0.1067468598484993, -0.3366442620754242, -0.8708860874176025, -0.4725755453109741, 1.0880919694900513, 0.0014034840278327465, 0.14203907549381256, -0.17717120051383972, -0.5995329022407532, -0.4924406111240387, 0.8960033059120178, -0.5025671124458313, 0.8783373236656189, -0.41074395179748535, -0.60028475522995, 1.1705104112625122, 0.3266385793685913, -0.36320143938064575, -0.5410509705543518, -0.6200381517410278, -0.204973965883255, -0.9036730527877808, -0.9534546136856079, -0.3202968239784241, 0.7216660976409912, -0.347636342048645, -0.39922159910202026, -0.6156249642372131, 0.6737157106399536, 0.6916054487228394, -0.05038011074066162, -0.3318133056163788, 0.8923298716545105, 1.104070782661438, -1.0129870176315308, 1.309131145477295, 1.0113807916641235, 0.306888222694397, 0.8013701438903809, 1.813974380493164, 0.9943917393684387, -1.1897075176239014, -0.6209477782249451, 0.9416703581809998, 1.0933688879013062, -0.10873118042945862, -0.16300265491008759, 1.1533485651016235, 1.1533626317977905, 0.23869436979293823, -0.3912985920906067, -0.36898648738861084, 0.3639282286167145, -0.9243394732475281, 0.6504727005958557, -0.95388263463974, -0.14215616881847382, -0.5416868925094604, -1.0348570346832275, -0.238851398229599, -0.07659390568733215, -1.0495641231536865, -0.9479379057884216, -0.38763096928596497, 0.36839792132377625, 1.00860595703125, 0.17165526747703552, -0.6710102558135986, 0.3025425970554352, -0.7408047914505005, -0.06513098627328873, -0.8649969100952148, -1.0930445194244385, -0.8284439444541931, -1.1581565141677856, -0.47023141384124756, 0.019521700218319893, -0.3923432230949402, 0.5940848588943481, -0.14646415412425995, -0.7744757533073425, 1.2523868083953857, -0.7565352916717529, -0.4968321621417999, -0.2970810830593109, 1.402518391609192, -0.3530997335910797, 0.04739248380064964, 2.176386594772339, -1.2536797523498535, -0.6823261380195618, 0.3803347647190094, 0.373556524515152, -0.0718020498752594, -0.7633492946624756, -0.7134323120117188, -0.8809735178947449, 1.667466402053833, -0.2910975217819214, -0.49121224880218506, -0.33452922105789185, 0.03234058618545532, -0.014850769191980362, 0.14589405059814453, 0.9817632436752319, 0.3826941251754761, -0.8905919790267944, -0.3724658191204071, -0.005438083782792091, -0.4288958013057709, 2.1805152893066406, -0.6734336018562317, 0.8184121251106262, -0.4276442229747772, 1.7658108472824097, 0.29676809906959534, -0.048432186245918274, 1.165769338607788, 1.2987732887268066, -0.08422189950942993, -0.8948999643325806, -0.40650442242622375, -0.6601548790931702, -0.8942096829414368, -0.9506586790084839, -0.7975934147834778, 1.0470716953277588, -0.8544310331344604, 1.1719413995742798, 1.1257221698760986, -0.33326631784439087, -0.3926762640476227, -0.22227711975574493, -1.0187816619873047, -0.834669291973114, -0.5510583519935608, 0.5100935697555542, -0.6010409593582153, -0.3943922817707062, -0.8763304948806763], \"y\": [-0.40860483050346375, -0.2815819978713989, -0.21781198680400848, -0.41667646169662476, 0.4744921624660492, 0.5104634761810303, 0.38124725222587585, 0.7465343475341797, -0.37719765305519104, 0.17073126137256622, -0.48559272289276123, -0.17355696856975555, 0.943769633769989, -0.41750258207321167, -1.0186774730682373, -1.1317476034164429, -0.7746251821517944, 0.005208608228713274, 0.11479688435792923, 0.031136156991124153, -0.40125706791877747, 1.3051857948303223, 0.1078084260225296, -0.016992583870887756, 0.23689846694469452, 0.11357095092535019, -0.22880111634731293, -0.715406596660614, 0.6680328845977783, -0.10165010392665863, 0.1312870979309082, -0.20021288096904755, 0.18841814994812012, 0.10860998928546906, 0.2470422238111496, 0.25769340991973877, -0.495673805475235, -0.9650130271911621, 1.1781070232391357, -0.10327261686325073, -0.5651862621307373, -0.39322394132614136, -0.12445523589849472, -0.22007903456687927, 1.456299066543579, -0.3237546384334564, 1.0090659856796265, -0.1802944540977478, 0.2067888230085373, 1.313713788986206, -0.0816696435213089, 1.3819228410720825, 0.23832939565181732, 1.147933840751648, 0.3727545738220215, 0.8770671486854553, 0.9775972962379456, -0.188348650932312, 0.2446872442960739, -0.3512234389781952, 0.699295163154602, 0.024949971586465836, 1.2068052291870117, -0.44088298082351685, 1.1697062253952026, -0.03611842542886734, -0.400057315826416, 0.14772053062915802, 0.41945624351501465, 0.18765847384929657, -0.13405461609363556, -0.4847677946090698, 0.41368359327316284, 0.49884265661239624, 0.7015379071235657, 0.6510564684867859, 0.267453134059906, -0.593288779258728, -0.36533528566360474, -0.3910803198814392, -0.0795215368270874, 0.785083532333374, 0.799959659576416, 0.09423588216304779, 0.01265521626919508, 0.30805692076683044, 0.08162426948547363, -0.37565362453460693, 1.2499374151229858, -0.413588285446167, -0.46057814359664917, 1.5044629573822021, 0.3919229805469513, 0.3751065731048584, -0.956141471862793, 0.9135118126869202, -0.15227657556533813, 0.2804151475429535, 1.1879355907440186, -0.21790574491024017, -0.3332675099372864, -0.17518629133701324, -0.10633961111307144, -0.7302638292312622, -0.5738832950592041, -0.5800571441650391, 0.6604193449020386, -0.5069633722305298, -0.522652804851532, -1.0106287002563477, -0.4612559974193573, -0.48865970969200134, -0.013983574695885181, -0.17326262593269348, 0.011683819815516472, -0.5719831585884094, -1.1980738639831543, -0.6696472764015198, -0.1540411114692688, -0.5821323394775391, 0.573522686958313, 0.3767271637916565, -0.5426563024520874, -0.5088479518890381, -0.3962888717651367, 0.9651303291320801, 0.7648740410804749, -0.23825514316558838, -0.48758432269096375, -0.33601874113082886, -0.9036776423454285, 0.2749304473400116, -0.4796992540359497, 0.3016638159751892, 0.10529323667287827, 0.39083102345466614, -0.6120592355728149, -0.3381095826625824, 0.1100686565041542, -0.34416499733924866, -0.19539283215999603, -0.03289882466197014, 0.23355633020401, 0.9547973871231079, -0.07516518980264664, -0.17525319755077362, 0.05118800327181816, -0.0014864971162751317, 0.19949768483638763, -0.7403365969657898, 0.007588363252580166, 1.1887487173080444, -0.5690709948539734, 0.2174915373325348, 0.066492460668087, -0.42985033988952637, -0.33590996265411377, 0.07789435237646103, -0.39468976855278015, -0.7279999256134033, -0.049373991787433624, -0.13382786512374878, -1.0395607948303223, -0.3228718936443329, -1.286842942237854, -0.2304275631904602, 0.10517992824316025, 0.5866448283195496, -0.0386076457798481, -0.7825547456741333, -0.10100811719894409, 0.042213328182697296, -0.05375804379582405, 1.281857967376709, 0.8055682182312012, 0.6102249026298523, 0.38033565878868103, 0.24608822166919708, -0.2250199317932129, -0.44157522916793823, 0.0039689019322395325, 0.08736564964056015, 0.8102530241012573, -0.12059652805328369, 0.0015031516086310148, -0.41026630997657776, 0.119293712079525, 1.2391424179077148, 0.05717436224222183, -0.07993535697460175, 0.07766438275575638, -0.009379001334309578, -0.3079850375652313, -0.5190852880477905, 0.21838636696338654, -0.40518760681152344, -0.2630624771118164, -0.01984587498009205, -0.14010553061962128, -0.9206289649009705, 0.005123913753777742, -0.49739277362823486, -0.3279423415660858, 0.14987029135227203, -0.5054361820220947, -0.5158910751342773, -0.7400684356689453, 1.3383694887161255, -0.5892465114593506, -0.8776223063468933, -0.42104634642601013, -0.16314829885959625, -0.21799437701702118, 0.30031391978263855, -0.1828749030828476]}],\n",
       "                        {\"autosize\": false, \"height\": 800, \"template\": {\"data\": {\"bar\": [{\"error_x\": {\"color\": \"#2a3f5f\"}, \"error_y\": {\"color\": \"#2a3f5f\"}, \"marker\": {\"line\": {\"color\": \"white\", \"width\": 0.5}}, \"type\": \"bar\"}], \"barpolar\": [{\"marker\": {\"line\": {\"color\": \"white\", \"width\": 0.5}}, \"type\": \"barpolar\"}], \"carpet\": [{\"aaxis\": {\"endlinecolor\": \"#2a3f5f\", \"gridcolor\": \"#C8D4E3\", \"linecolor\": \"#C8D4E3\", \"minorgridcolor\": \"#C8D4E3\", \"startlinecolor\": \"#2a3f5f\"}, \"baxis\": {\"endlinecolor\": \"#2a3f5f\", \"gridcolor\": \"#C8D4E3\", \"linecolor\": \"#C8D4E3\", \"minorgridcolor\": \"#C8D4E3\", \"startlinecolor\": \"#2a3f5f\"}, \"type\": \"carpet\"}], \"choropleth\": [{\"colorbar\": {\"outlinewidth\": 0, \"ticks\": \"\"}, \"type\": \"choropleth\"}], \"contour\": [{\"colorbar\": {\"outlinewidth\": 0, \"ticks\": \"\"}, \"colorscale\": [[0.0, \"#0d0887\"], [0.1111111111111111, \"#46039f\"], [0.2222222222222222, \"#7201a8\"], [0.3333333333333333, \"#9c179e\"], [0.4444444444444444, \"#bd3786\"], [0.5555555555555556, \"#d8576b\"], [0.6666666666666666, \"#ed7953\"], [0.7777777777777778, \"#fb9f3a\"], [0.8888888888888888, \"#fdca26\"], [1.0, \"#f0f921\"]], \"type\": \"contour\"}], \"contourcarpet\": [{\"colorbar\": {\"outlinewidth\": 0, \"ticks\": \"\"}, \"type\": \"contourcarpet\"}], \"heatmap\": [{\"colorbar\": {\"outlinewidth\": 0, \"ticks\": \"\"}, \"colorscale\": [[0.0, \"#0d0887\"], [0.1111111111111111, \"#46039f\"], [0.2222222222222222, \"#7201a8\"], [0.3333333333333333, \"#9c179e\"], [0.4444444444444444, \"#bd3786\"], [0.5555555555555556, \"#d8576b\"], [0.6666666666666666, \"#ed7953\"], [0.7777777777777778, \"#fb9f3a\"], [0.8888888888888888, \"#fdca26\"], [1.0, \"#f0f921\"]], \"type\": \"heatmap\"}], \"heatmapgl\": [{\"colorbar\": {\"outlinewidth\": 0, \"ticks\": \"\"}, \"colorscale\": [[0.0, \"#0d0887\"], [0.1111111111111111, \"#46039f\"], [0.2222222222222222, \"#7201a8\"], [0.3333333333333333, \"#9c179e\"], [0.4444444444444444, \"#bd3786\"], [0.5555555555555556, \"#d8576b\"], [0.6666666666666666, \"#ed7953\"], [0.7777777777777778, \"#fb9f3a\"], [0.8888888888888888, \"#fdca26\"], [1.0, \"#f0f921\"]], \"type\": \"heatmapgl\"}], \"histogram\": [{\"marker\": {\"colorbar\": {\"outlinewidth\": 0, \"ticks\": \"\"}}, \"type\": \"histogram\"}], \"histogram2d\": [{\"colorbar\": {\"outlinewidth\": 0, \"ticks\": \"\"}, \"colorscale\": [[0.0, \"#0d0887\"], [0.1111111111111111, \"#46039f\"], [0.2222222222222222, \"#7201a8\"], [0.3333333333333333, \"#9c179e\"], [0.4444444444444444, \"#bd3786\"], [0.5555555555555556, \"#d8576b\"], [0.6666666666666666, \"#ed7953\"], [0.7777777777777778, \"#fb9f3a\"], [0.8888888888888888, \"#fdca26\"], [1.0, \"#f0f921\"]], \"type\": \"histogram2d\"}], \"histogram2dcontour\": [{\"colorbar\": {\"outlinewidth\": 0, \"ticks\": \"\"}, \"colorscale\": [[0.0, \"#0d0887\"], [0.1111111111111111, \"#46039f\"], [0.2222222222222222, \"#7201a8\"], [0.3333333333333333, \"#9c179e\"], [0.4444444444444444, \"#bd3786\"], [0.5555555555555556, \"#d8576b\"], [0.6666666666666666, \"#ed7953\"], [0.7777777777777778, \"#fb9f3a\"], [0.8888888888888888, \"#fdca26\"], [1.0, \"#f0f921\"]], \"type\": \"histogram2dcontour\"}], \"mesh3d\": [{\"colorbar\": {\"outlinewidth\": 0, \"ticks\": \"\"}, \"type\": \"mesh3d\"}], \"parcoords\": [{\"line\": {\"colorbar\": {\"outlinewidth\": 0, \"ticks\": \"\"}}, \"type\": \"parcoords\"}], \"pie\": [{\"automargin\": true, \"type\": \"pie\"}], \"scatter\": [{\"marker\": {\"colorbar\": {\"outlinewidth\": 0, \"ticks\": \"\"}}, \"type\": \"scatter\"}], \"scatter3d\": [{\"line\": {\"colorbar\": {\"outlinewidth\": 0, \"ticks\": \"\"}}, \"marker\": {\"colorbar\": {\"outlinewidth\": 0, \"ticks\": \"\"}}, \"type\": \"scatter3d\"}], \"scattercarpet\": [{\"marker\": {\"colorbar\": {\"outlinewidth\": 0, \"ticks\": \"\"}}, \"type\": \"scattercarpet\"}], \"scattergeo\": [{\"marker\": {\"colorbar\": {\"outlinewidth\": 0, \"ticks\": \"\"}}, \"type\": \"scattergeo\"}], \"scattergl\": [{\"marker\": {\"colorbar\": {\"outlinewidth\": 0, \"ticks\": \"\"}}, \"type\": \"scattergl\"}], \"scattermapbox\": [{\"marker\": {\"colorbar\": {\"outlinewidth\": 0, \"ticks\": \"\"}}, \"type\": \"scattermapbox\"}], \"scatterpolar\": [{\"marker\": {\"colorbar\": {\"outlinewidth\": 0, \"ticks\": \"\"}}, \"type\": \"scatterpolar\"}], \"scatterpolargl\": [{\"marker\": {\"colorbar\": {\"outlinewidth\": 0, \"ticks\": \"\"}}, \"type\": \"scatterpolargl\"}], \"scatterternary\": [{\"marker\": {\"colorbar\": {\"outlinewidth\": 0, \"ticks\": \"\"}}, \"type\": \"scatterternary\"}], \"surface\": [{\"colorbar\": {\"outlinewidth\": 0, \"ticks\": \"\"}, \"colorscale\": [[0.0, \"#0d0887\"], [0.1111111111111111, \"#46039f\"], [0.2222222222222222, \"#7201a8\"], [0.3333333333333333, \"#9c179e\"], [0.4444444444444444, \"#bd3786\"], [0.5555555555555556, \"#d8576b\"], [0.6666666666666666, \"#ed7953\"], [0.7777777777777778, \"#fb9f3a\"], [0.8888888888888888, \"#fdca26\"], [1.0, \"#f0f921\"]], \"type\": \"surface\"}], \"table\": [{\"cells\": {\"fill\": {\"color\": \"#EBF0F8\"}, \"line\": {\"color\": \"white\"}}, \"header\": {\"fill\": {\"color\": \"#C8D4E3\"}, \"line\": {\"color\": \"white\"}}, \"type\": \"table\"}]}, \"layout\": {\"annotationdefaults\": {\"arrowcolor\": \"#2a3f5f\", \"arrowhead\": 0, \"arrowwidth\": 1}, \"coloraxis\": {\"colorbar\": {\"outlinewidth\": 0, \"ticks\": \"\"}}, \"colorscale\": {\"diverging\": [[0, \"#8e0152\"], [0.1, \"#c51b7d\"], [0.2, \"#de77ae\"], [0.3, \"#f1b6da\"], [0.4, \"#fde0ef\"], [0.5, \"#f7f7f7\"], [0.6, \"#e6f5d0\"], [0.7, \"#b8e186\"], [0.8, \"#7fbc41\"], [0.9, \"#4d9221\"], [1, \"#276419\"]], \"sequential\": [[0.0, \"#0d0887\"], [0.1111111111111111, \"#46039f\"], [0.2222222222222222, \"#7201a8\"], [0.3333333333333333, \"#9c179e\"], [0.4444444444444444, \"#bd3786\"], [0.5555555555555556, \"#d8576b\"], [0.6666666666666666, \"#ed7953\"], [0.7777777777777778, \"#fb9f3a\"], [0.8888888888888888, \"#fdca26\"], [1.0, \"#f0f921\"]], \"sequentialminus\": [[0.0, \"#0d0887\"], [0.1111111111111111, \"#46039f\"], [0.2222222222222222, \"#7201a8\"], [0.3333333333333333, \"#9c179e\"], [0.4444444444444444, \"#bd3786\"], [0.5555555555555556, \"#d8576b\"], [0.6666666666666666, \"#ed7953\"], [0.7777777777777778, \"#fb9f3a\"], [0.8888888888888888, \"#fdca26\"], [1.0, \"#f0f921\"]]}, \"colorway\": [\"#636efa\", \"#EF553B\", \"#00cc96\", \"#ab63fa\", \"#FFA15A\", \"#19d3f3\", \"#FF6692\", \"#B6E880\", \"#FF97FF\", \"#FECB52\"], \"font\": {\"color\": \"#2a3f5f\"}, \"geo\": {\"bgcolor\": \"white\", \"lakecolor\": \"white\", \"landcolor\": \"white\", \"showlakes\": true, \"showland\": true, \"subunitcolor\": \"#C8D4E3\"}, \"hoverlabel\": {\"align\": \"left\"}, \"hovermode\": \"closest\", \"mapbox\": {\"style\": \"light\"}, \"paper_bgcolor\": \"white\", \"plot_bgcolor\": \"white\", \"polar\": {\"angularaxis\": {\"gridcolor\": \"#EBF0F8\", \"linecolor\": \"#EBF0F8\", \"ticks\": \"\"}, \"bgcolor\": \"white\", \"radialaxis\": {\"gridcolor\": \"#EBF0F8\", \"linecolor\": \"#EBF0F8\", \"ticks\": \"\"}}, \"scene\": {\"xaxis\": {\"backgroundcolor\": \"white\", \"gridcolor\": \"#DFE8F3\", \"gridwidth\": 2, \"linecolor\": \"#EBF0F8\", \"showbackground\": true, \"ticks\": \"\", \"zerolinecolor\": \"#EBF0F8\"}, \"yaxis\": {\"backgroundcolor\": \"white\", \"gridcolor\": \"#DFE8F3\", \"gridwidth\": 2, \"linecolor\": \"#EBF0F8\", \"showbackground\": true, \"ticks\": \"\", \"zerolinecolor\": \"#EBF0F8\"}, \"zaxis\": {\"backgroundcolor\": \"white\", \"gridcolor\": \"#DFE8F3\", \"gridwidth\": 2, \"linecolor\": \"#EBF0F8\", \"showbackground\": true, \"ticks\": \"\", \"zerolinecolor\": \"#EBF0F8\"}}, \"shapedefaults\": {\"line\": {\"color\": \"#2a3f5f\"}}, \"ternary\": {\"aaxis\": {\"gridcolor\": \"#DFE8F3\", \"linecolor\": \"#A2B1C6\", \"ticks\": \"\"}, \"baxis\": {\"gridcolor\": \"#DFE8F3\", \"linecolor\": \"#A2B1C6\", \"ticks\": \"\"}, \"bgcolor\": \"white\", \"caxis\": {\"gridcolor\": \"#DFE8F3\", \"linecolor\": \"#A2B1C6\", \"ticks\": \"\"}}, \"title\": {\"x\": 0.05}, \"xaxis\": {\"automargin\": true, \"gridcolor\": \"#EBF0F8\", \"linecolor\": \"#EBF0F8\", \"ticks\": \"\", \"title\": {\"standoff\": 15}, \"zerolinecolor\": \"#EBF0F8\", \"zerolinewidth\": 2}, \"yaxis\": {\"automargin\": true, \"gridcolor\": \"#EBF0F8\", \"linecolor\": \"#EBF0F8\", \"ticks\": \"\", \"title\": {\"standoff\": 15}, \"zerolinecolor\": \"#EBF0F8\", \"zerolinewidth\": 2}}}, \"title\": {\"text\": \"Principal Component Visualization of Venue Categories\"}, \"width\": 1000},\n",
       "                        {\"responsive\": true}\n",
       "                    ).then(function(){\n",
       "                            \n",
       "var gd = document.getElementById('e0565db8-2145-45a6-abe6-4a4f476474ac');\n",
       "var x = new MutationObserver(function (mutations, observer) {{\n",
       "        var display = window.getComputedStyle(gd).display;\n",
       "        if (!display || display === 'none') {{\n",
       "            console.log([gd, 'removed!']);\n",
       "            Plotly.purge(gd);\n",
       "            observer.disconnect();\n",
       "        }}\n",
       "}});\n",
       "\n",
       "// Listen for the removal of the full notebook cells\n",
       "var notebookContainer = gd.closest('#notebook-container');\n",
       "if (notebookContainer) {{\n",
       "    x.observe(notebookContainer, {childList: true});\n",
       "}}\n",
       "\n",
       "// Listen for the clearing of the current output cell\n",
       "var outputEl = gd.closest('.output');\n",
       "if (outputEl) {{\n",
       "    x.observe(outputEl, {childList: true});\n",
       "}}\n",
       "\n",
       "                        })\n",
       "                };\n",
       "                });\n",
       "            </script>\n",
       "        </div>"
      ]
     },
     "metadata": {},
     "output_type": "display_data"
    }
   ],
   "source": [
    "import plotly.graph_objects as go\n",
    "fig = go.Figure()\n",
    "\n",
    "fig.add_trace(\n",
    "    go.Scatter(\n",
    "        x = df_unique_venue.pc_one,\n",
    "        y = df_unique_venue.pc_two,\n",
    "        hovertext = df_unique_venue.venue_category,\n",
    "        mode ='markers'\n",
    "    )\n",
    ")\n",
    "\n",
    "fig.update_layout(\n",
    "    autosize =False,\n",
    "    width = 1000,\n",
    "    height = 800,\n",
    "    template = 'plotly_white',\n",
    "    title = 'Principal Component Visualization of Venue Categories'\n",
    ")\n",
    "\n",
    "fig.show()"
   ]
  },
  {
   "cell_type": "code",
   "execution_count": 219,
   "metadata": {},
   "outputs": [
    {
     "data": {
      "text/plain": [
       "array([2, 4, 1, 2, 4, 4, 4, 3, 2, 4, 2, 0, 2, 1, 0, 0, 1, 0, 0, 2, 0, 3,\n",
       "       4, 4, 4, 0, 1, 0, 3, 2, 4, 0, 2, 4, 2, 2, 2, 1, 3, 4, 0, 2, 4, 4,\n",
       "       3, 1, 3, 4, 2, 3, 4, 3, 2, 3, 2, 3, 3, 2, 2, 1, 3, 0, 3, 2, 3, 2,\n",
       "       2, 0, 3, 2, 4, 2, 3, 3, 3, 3, 4, 0, 4, 2, 0, 3, 3, 0, 4, 2, 4, 2,\n",
       "       3, 4, 2, 3, 4, 4, 0, 3, 4, 4, 3, 1, 1, 0, 0, 1, 1, 1, 3, 2, 2, 0,\n",
       "       2, 2, 1, 1, 2, 2, 0, 0, 1, 2, 3, 4, 2, 2, 2, 3, 3, 2, 4, 1, 0, 4,\n",
       "       4, 4, 4, 3, 4, 4, 4, 2, 1, 0, 4, 3, 0, 4, 4, 4, 4, 4, 4, 3, 0, 2,\n",
       "       4, 4, 1, 4, 4, 0, 2, 4, 1, 2, 0, 4, 2, 3, 0, 0, 4, 4, 2, 3, 3, 3,\n",
       "       0, 0, 1, 2, 0, 4, 3, 1, 4, 2, 4, 3, 0, 2, 2, 0, 2, 2, 4, 4, 4, 4,\n",
       "       4, 0, 0, 2, 4, 2, 2, 0, 0, 3, 4, 0, 0, 1, 0, 4, 4], dtype=int32)"
      ]
     },
     "execution_count": 219,
     "metadata": {},
     "output_type": "execute_result"
    }
   ],
   "source": [
    "kClust5 = KMeans(n_clusters = 5)\n",
    "kClust5.fit(arr_embed)\n",
    "cl = kClust5.predict(arr_embed)\n",
    "df_unique_venue['cl'] = cl\n",
    "cl"
   ]
  },
  {
   "cell_type": "code",
   "execution_count": 275,
   "metadata": {},
   "outputs": [
    {
     "data": {
      "application/vnd.plotly.v1+json": {
       "config": {
        "plotlyServerURL": "https://plot.ly"
       },
       "data": [
        {
         "hoverlabel": {
          "namelength": 0
         },
         "hovertemplate": "<b>%{hovertext}</b><br><br>cl_str=2<br>pc_one=%{x}<br>pc_two=%{y}",
         "hovertext": [
          "African Restaurant",
          "American Restaurant",
          "Asian Restaurant",
          "Australian Restaurant",
          "Bakery",
          "Bistro",
          "Buffet",
          "Burrito Place",
          "Cafeteria",
          "Café",
          "Cajun Creole Restaurant",
          "Chinese Restaurant",
          "Comfort Food Restaurant",
          "Creperie",
          "Deli Bodega",
          "Dim Sum Restaurant",
          "Diner",
          "Eastern European Restaurant",
          "Empanada Restaurant",
          "English Restaurant",
          "Fast Food Restaurant",
          "Filipino Restaurant",
          "French Restaurant",
          "Gastropub",
          "German Restaurant",
          "Greek Restaurant",
          "Indian Restaurant",
          "Indonesian Restaurant",
          "Italian Restaurant",
          "Japanese Restaurant",
          "Kebab Restaurant",
          "Korean Restaurant",
          "Malay Restaurant",
          "Mediterranean Restaurant",
          "Mexican Restaurant",
          "Middle Eastern Restaurant",
          "Modern European Restaurant",
          "New American Restaurant",
          "Pizza Place",
          "Ramen Restaurant",
          "Restaurant",
          "Salad Place",
          "Seafood Restaurant",
          "Spanish Restaurant",
          "Steakhouse",
          "Sushi Restaurant",
          "Taco Place",
          "TexMex Restaurant",
          "Thai Restaurant",
          "Turkish Restaurant",
          "Vegetarian Vegan Restaurant",
          "Vietnamese Restaurant"
         ],
         "legendgroup": "2",
         "marker": {
          "color": "rgb(228,26,28)",
          "symbol": "circle"
         },
         "mode": "markers",
         "name": "2",
         "showlegend": true,
         "type": "scatter",
         "x": [
          0.8705090880393982,
          0.8714818358421326,
          1.0550721883773804,
          0.8580465316772461,
          1.1449087858200073,
          1.936193585395813,
          1.081170678138733,
          0.47945404052734375,
          0.7394660115242004,
          1.433085322380066,
          0.997281014919281,
          0.9863144159317017,
          0.5892144441604614,
          0.8261731863021851,
          0.9735812544822693,
          0.6141726970672607,
          1.5480661392211914,
          0.28976690769195557,
          1.401517629623413,
          0.9142718315124512,
          0.716178834438324,
          1.1964058876037598,
          1.0880919694900513,
          0.8960033059120178,
          0.8783373236656189,
          1.1705104112625122,
          0.8923298716545105,
          1.104070782661438,
          1.309131145477295,
          1.0113807916641235,
          1.813974380493164,
          0.9943917393684387,
          1.0933688879013062,
          1.1533485651016235,
          1.1533626317977905,
          0.23869436979293823,
          0.3639282286167145,
          0.36839792132377625,
          0.5940848588943481,
          1.402518391609192,
          2.176386594772339,
          0.3803347647190094,
          1.667466402053833,
          0.9817632436752319,
          2.1805152893066406,
          1.7658108472824097,
          0.29676809906959534,
          1.165769338607788,
          1.2987732887268066,
          1.0470716953277588,
          1.1719413995742798,
          1.1257221698760986
         ],
         "xaxis": "x",
         "y": [
          -0.40860483050346375,
          -0.41667646169662476,
          -0.37719765305519104,
          -0.48559272289276123,
          0.943769633769989,
          0.031136156991124153,
          -0.10165010392665863,
          0.18841814994812012,
          0.2470422238111496,
          0.25769340991973877,
          -0.495673805475235,
          -0.39322394132614136,
          0.2067888230085373,
          0.23832939565181732,
          0.3727545738220215,
          -0.188348650932312,
          0.2446872442960739,
          -0.44088298082351685,
          -0.03611842542886734,
          -0.400057315826416,
          0.18765847384929657,
          -0.4847677946090698,
          -0.3910803198814392,
          0.30805692076683044,
          -0.37565362453460693,
          -0.46057814359664917,
          -0.5069633722305298,
          -0.522652804851532,
          -0.4612559974193573,
          -0.48865970969200134,
          0.011683819815516472,
          -0.5719831585884094,
          -0.5821323394775391,
          -0.5426563024520874,
          -0.5088479518890381,
          -0.3962888717651367,
          -0.23825514316558838,
          -0.34416499733924866,
          0.2174915373325348,
          -0.049373991787433624,
          -0.3228718936443329,
          0.10517992824316025,
          -0.05375804379582405,
          -0.44157522916793823,
          -0.41026630997657776,
          -0.07993535697460175,
          0.07766438275575638,
          -0.3079850375652313,
          -0.5190852880477905,
          -0.49739277362823486,
          0.14987029135227203,
          -0.5054361820220947
         ],
         "yaxis": "y"
        },
        {
         "hoverlabel": {
          "namelength": 0
         },
         "hovertemplate": "<b>%{hovertext}</b><br><br>cl_str=4<br>pc_one=%{x}<br>pc_two=%{y}",
         "hovertext": [
          "Airport",
          "Arcade",
          "Art Gallery",
          "Art Museum",
          "Athletics & Sports",
          "Botanical Garden",
          "Bowling Alley",
          "Boxing Gym",
          "Building",
          "Bus Station",
          "Capitol Building",
          "Church",
          "City Hall",
          "College Quad",
          "Convention Center",
          "Field",
          "Food Court",
          "Fraternity House",
          "Gas Station",
          "General Entertainment",
          "Golf Course",
          "Gym",
          "Gym Fitness Center",
          "Historic Site",
          "History Museum",
          "Massage Studio",
          "Monument Landmark",
          "Movie Theater",
          "Multiplex",
          "Museum",
          "Music Venue",
          "National Park",
          "Nature Preserve",
          "Neighborhood",
          "Office",
          "Other Nightlife",
          "Outdoor Event Space",
          "Outdoor Sculpture",
          "Outdoors & Recreation",
          "Park",
          "Performing Arts Venue",
          "Plaza",
          "Pool",
          "Public Art",
          "Racetrack",
          "Residential Building Apartment Condo",
          "Road",
          "School",
          "Sculpture Garden",
          "Spiritual Center",
          "Sports Club",
          "Street Fair",
          "Theater",
          "Theme Park",
          "Toll Plaza",
          "Town",
          "Track Stadium",
          "University",
          "Water Park",
          "Yoga Studio",
          "Zoo"
         ],
         "legendgroup": "4",
         "marker": {
          "color": "rgb(55,126,184)",
          "symbol": "circle"
         },
         "mode": "markers",
         "name": "4",
         "showlegend": true,
         "type": "scatter",
         "x": [
          -0.6058467626571655,
          -0.3222759962081909,
          -0.48359227180480957,
          -0.8815205097198486,
          -0.7304227948188782,
          -0.6004793643951416,
          -0.31113484501838684,
          -0.30650755763053894,
          -0.7650105953216553,
          -0.5786373019218445,
          -0.8047744631767273,
          -0.5276813507080078,
          -0.7867148518562317,
          -0.8822687864303589,
          -0.8348253965377808,
          -1.288575291633606,
          -0.3366442620754242,
          -0.4725755453109741,
          -0.4924406111240387,
          -0.5025671124458313,
          -0.60028475522995,
          -0.36320143938064575,
          -0.5410509705543518,
          -0.9036730527877808,
          -0.9534546136856079,
          -0.16300265491008759,
          -0.9243394732475281,
          -0.14215616881847382,
          -0.5416868925094604,
          -1.0348570346832275,
          -0.238851398229599,
          -1.0495641231536865,
          -0.9479379057884216,
          -0.38763096928596497,
          -0.6710102558135986,
          -0.06513098627328873,
          -0.8649969100952148,
          -1.0930445194244385,
          -0.8284439444541931,
          -1.1581565141677856,
          -0.47023141384124756,
          -0.14646415412425995,
          -0.7744757533073425,
          -0.7565352916717529,
          -0.4968321621417999,
          -0.3530997335910797,
          -0.6823261380195618,
          -0.7134323120117188,
          -0.8809735178947449,
          -0.8905919790267944,
          -0.4288958013057709,
          -0.6734336018562317,
          -0.08422189950942993,
          -0.8948999643325806,
          -0.40650442242622375,
          -0.6601548790931702,
          -0.8942096829414368,
          -0.8544310331344604,
          -1.0187816619873047,
          -0.3943922817707062,
          -0.8763304948806763
         ],
         "xaxis": "x",
         "y": [
          -0.2815819978713989,
          0.4744921624660492,
          0.5104634761810303,
          0.38124725222587585,
          0.17073126137256622,
          0.1078084260225296,
          -0.016992583870887756,
          0.23689846694469452,
          0.1312870979309082,
          0.10860998928546906,
          -0.10327261686325073,
          -0.12445523589849472,
          -0.22007903456687927,
          -0.1802944540977478,
          -0.0816696435213089,
          -0.13405461609363556,
          0.267453134059906,
          -0.36533528566360474,
          0.01265521626919508,
          0.08162426948547363,
          -0.413588285446167,
          0.3919229805469513,
          0.3751065731048584,
          -0.15227657556533813,
          0.2804151475429535,
          0.3767271637916565,
          -0.48758432269096375,
          0.2749304473400116,
          -0.4796992540359497,
          0.3016638159751892,
          0.10529323667287827,
          -0.6120592355728149,
          -0.3381095826625824,
          0.1100686565041542,
          0.23355633020401,
          -0.17525319755077362,
          0.05118800327181816,
          -0.0014864971162751317,
          0.19949768483638763,
          -0.7403365969657898,
          0.007588363252580166,
          0.066492460668087,
          -0.42985033988952637,
          0.07789435237646103,
          -0.39468976855278015,
          -0.13382786512374878,
          -0.2304275631904602,
          -0.10100811719894409,
          0.042213328182697296,
          0.08736564964056015,
          0.0015031516086310148,
          0.119293712079525,
          0.21838636696338654,
          -0.40518760681152344,
          -0.2630624771118164,
          -0.01984587498009205,
          -0.14010553061962128,
          -0.3279423415660858,
          -0.5892465114593506,
          0.30031391978263855,
          -0.1828749030828476
         ],
         "yaxis": "y"
        },
        {
         "hoverlabel": {
          "namelength": 0
         },
         "hovertemplate": "<b>%{hovertext}</b><br><br>cl_str=1<br>pc_one=%{x}<br>pc_two=%{y}",
         "hovertext": [
          "Airport Lounge",
          "Bar",
          "Beach Bar",
          "Brewery",
          "Campground",
          "Cocktail Bar",
          "Dive Bar",
          "Hookah Bar",
          "Hostel",
          "Hotel",
          "Hotel Bar",
          "Hotel Pool",
          "Juice Bar",
          "Karaoke Bar",
          "Lounge",
          "Motel",
          "Nightclub",
          "Pub",
          "Resort",
          "Spa",
          "Sports Bar",
          "Wine Bar"
         ],
         "legendgroup": "1",
         "marker": {
          "color": "rgb(77,175,74)",
          "symbol": "circle"
         },
         "mode": "markers",
         "name": "1",
         "showlegend": true,
         "type": "scatter",
         "x": [
          0.16791149973869324,
          0.7094948887825012,
          0.08249922841787338,
          0.30835551023483276,
          -0.34868407249450684,
          0.6207073926925659,
          0.09453416615724564,
          0.7216660976409912,
          -0.347636342048645,
          0.6737157106399536,
          0.6916054487228394,
          -0.05038011074066162,
          0.306888222694397,
          0.8013701438903809,
          0.9416703581809998,
          0.6504727005958557,
          1.00860595703125,
          1.2523868083953857,
          0.04739248380064964,
          0.14589405059814453,
          -0.005438083782792091,
          0.5100935697555542
         ],
         "xaxis": "x",
         "y": [
          -0.21781198680400848,
          -0.41750258207321167,
          -0.7746251821517944,
          -0.22880111634731293,
          -0.9650130271911621,
          -0.3237546384334564,
          -0.3512234389781952,
          -0.21790574491024017,
          -0.3332675099372864,
          -0.7302638292312622,
          -0.5738832950592041,
          -0.5800571441650391,
          -0.013983574695885181,
          -0.17326262593269348,
          -0.1540411114692688,
          -0.33601874113082886,
          -0.19539283215999603,
          -0.33590996265411377,
          -1.0395607948303223,
          -0.2250199317932129,
          -0.12059652805328369,
          -0.16314829885959625
         ],
         "yaxis": "y"
        },
        {
         "hoverlabel": {
          "namelength": 0
         },
         "hovertemplate": "<b>%{hovertext}</b><br><br>cl_str=3<br>pc_one=%{x}<br>pc_two=%{y}",
         "hovertext": [
          "Arts & Crafts Store",
          "Bookstore",
          "Bubble Tea Shop",
          "Candy Store",
          "Clothing Store",
          "Coffee Shop",
          "Convenience Store",
          "Cosmetics Shop",
          "Cupcake Shop",
          "Department Store",
          "Dessert Shop",
          "Dive Shop",
          "Donut Shop",
          "Electronics Store",
          "Farmers Market",
          "Fish & Chips Shop",
          "Flea Market",
          "Food",
          "Food & Drink Shop",
          "Frozen Yogurt Shop",
          "Fruit & Vegetable Store",
          "Gift Shop",
          "Grocery Store",
          "Health Food Store",
          "Hobby Shop",
          "Ice Cream Shop",
          "Market",
          "Miscellaneous Shop",
          "Mobile Phone Shop",
          "Nail Salon",
          "Organic Grocery",
          "Pharmacy",
          "Salon Barbershop",
          "Shoe Store",
          "Shopping Mall",
          "Shopping Plaza",
          "Sporting Goods Shop",
          "Supermarket",
          "Warehouse Store"
         ],
         "legendgroup": "3",
         "marker": {
          "color": "rgb(152,78,163)",
          "symbol": "circle"
         },
         "mode": "markers",
         "name": "3",
         "showlegend": true,
         "type": "scatter",
         "x": [
          -0.4798063039779663,
          0.33981457352638245,
          -0.20118382573127747,
          -0.1628335565328598,
          -0.12352731823921204,
          0.19374212622642517,
          0.0016827909275889397,
          0.022586500272154808,
          0.001978696323931217,
          -0.4548938572406769,
          0.14776107668876648,
          -0.278581440448761,
          0.14512555301189423,
          -0.23658496141433716,
          -0.27027106285095215,
          -0.2027149200439453,
          -0.3196008503437042,
          0.0665455237030983,
          -0.1067468598484993,
          0.14203907549381256,
          -0.17717120051383972,
          -0.41074395179748535,
          0.3266385793685913,
          -0.204973965883255,
          -0.3202968239784241,
          -0.3318133056163788,
          -0.10873118042945862,
          -0.3912985920906067,
          -0.36898648738861084,
          -0.07659390568733215,
          0.3025425970554352,
          0.019521700218319893,
          0.373556524515152,
          -0.2910975217819214,
          -0.49121224880218506,
          -0.33452922105789185,
          -0.3724658191204071,
          0.8184121251106262,
          -0.22227711975574493
         ],
         "xaxis": "x",
         "y": [
          0.7465343475341797,
          1.3051857948303223,
          0.6680328845977783,
          1.1781070232391357,
          1.456299066543579,
          1.0090659856796265,
          1.313713788986206,
          1.3819228410720825,
          1.147933840751648,
          0.8770671486854553,
          0.9775972962379456,
          0.699295163154602,
          1.2068052291870117,
          1.1697062253952026,
          0.41945624351501465,
          0.41368359327316284,
          0.49884265661239624,
          0.7015379071235657,
          0.6510564684867859,
          0.785083532333374,
          0.799959659576416,
          1.2499374151229858,
          1.5044629573822021,
          0.9135118126869202,
          1.1879355907440186,
          0.6604193449020386,
          0.573522686958313,
          0.9651303291320801,
          0.7648740410804749,
          0.39083102345466614,
          0.9547973871231079,
          1.1887487173080444,
          0.5866448283195496,
          1.281857967376709,
          0.8055682182312012,
          0.6102249026298523,
          0.8102530241012573,
          1.2391424179077148,
          1.3383694887161255
         ],
         "yaxis": "y"
        },
        {
         "hoverlabel": {
          "namelength": 0
         },
         "hovertemplate": "<b>%{hovertext}</b><br><br>cl_str=0<br>pc_one=%{x}<br>pc_two=%{y}",
         "hovertext": [
          "BBQ Joint",
          "Bay",
          "Beach",
          "Bed & Breakfast",
          "Beer Garden",
          "Boat or Ferry",
          "Breakfast Spot",
          "Bridge",
          "Burger Joint",
          "Cave",
          "Dive Spot",
          "Farm",
          "Fountain",
          "Fried Chicken Joint",
          "Garden",
          "Harbor Marina",
          "Hot Dog Joint",
          "Hot Spring",
          "Island",
          "Lake",
          "Lighthouse",
          "Mountain",
          "Noodle House",
          "Other Great Outdoors",
          "Pier",
          "Rafting",
          "River",
          "Sandwich Place",
          "Scenic Lookout",
          "Snack Place",
          "Soup Place",
          "Speakeasy",
          "Surf Spot",
          "Tea Room",
          "Trail",
          "Tree",
          "Vineyard",
          "Volcano",
          "Waterfall",
          "Windmill",
          "Wings Joint"
         ],
         "legendgroup": "0",
         "marker": {
          "color": "rgb(255,127,0)",
          "symbol": "circle"
         },
         "mode": "markers",
         "name": "0",
         "showlegend": true,
         "type": "scatter",
         "x": [
          0.10405069589614868,
          -0.9020723700523376,
          -0.5444964170455933,
          -0.22634898126125336,
          -0.2110690176486969,
          -0.5545173287391663,
          -0.06890804320573807,
          -0.8604215979576111,
          -0.07050596177577972,
          -0.796838104724884,
          -0.45921024680137634,
          -0.5585048198699951,
          -0.8708860874176025,
          0.0014034840278327465,
          -0.5995329022407532,
          -0.6200381517410278,
          -0.39922159910202026,
          -0.6156249642372131,
          -1.0129870176315308,
          -1.1897075176239014,
          -0.6209477782249451,
          -0.95388263463974,
          0.17165526747703552,
          -0.7408047914505005,
          -0.3923432230949402,
          -0.2970810830593109,
          -1.2536797523498535,
          -0.0718020498752594,
          -0.7633492946624756,
          0.03234058618545532,
          -0.014850769191980362,
          0.3826941251754761,
          -0.4276442229747772,
          -0.048432186245918274,
          -0.9506586790084839,
          -0.7975934147834778,
          -0.33326631784439087,
          -0.3926762640476227,
          -0.834669291973114,
          -0.5510583519935608,
          -0.6010409593582153
         ],
         "xaxis": "x",
         "y": [
          -0.17355696856975555,
          -1.0186774730682373,
          -1.1317476034164429,
          0.005208608228713274,
          0.11479688435792923,
          -0.40125706791877747,
          0.11357095092535019,
          -0.715406596660614,
          -0.20021288096904755,
          -0.5651862621307373,
          0.024949971586465836,
          0.14772053062915802,
          -0.593288779258728,
          -0.0795215368270874,
          0.09423588216304779,
          -0.956141471862793,
          -0.17518629133701324,
          -0.10633961111307144,
          -1.0106287002563477,
          -1.1980738639831543,
          -0.6696472764015198,
          -0.9036776423454285,
          -0.03289882466197014,
          -0.07516518980264664,
          -0.5690709948539734,
          -0.7279999256134033,
          -1.286842942237854,
          -0.0386076457798481,
          -0.7825547456741333,
          0.38033565878868103,
          0.24608822166919708,
          0.0039689019322395325,
          0.05717436224222183,
          -0.009379001334309578,
          -0.9206289649009705,
          0.005123913753777742,
          -0.5158910751342773,
          -0.7400684356689453,
          -0.8776223063468933,
          -0.42104634642601013,
          -0.21799437701702118
         ],
         "yaxis": "y"
        }
       ],
       "layout": {
        "height": 800,
        "legend": {
         "title": {
          "text": "cl_str"
         },
         "tracegroupgap": 0
        },
        "template": {
         "data": {
          "bar": [
           {
            "error_x": {
             "color": "#2a3f5f"
            },
            "error_y": {
             "color": "#2a3f5f"
            },
            "marker": {
             "line": {
              "color": "white",
              "width": 0.5
             }
            },
            "type": "bar"
           }
          ],
          "barpolar": [
           {
            "marker": {
             "line": {
              "color": "white",
              "width": 0.5
             }
            },
            "type": "barpolar"
           }
          ],
          "carpet": [
           {
            "aaxis": {
             "endlinecolor": "#2a3f5f",
             "gridcolor": "#C8D4E3",
             "linecolor": "#C8D4E3",
             "minorgridcolor": "#C8D4E3",
             "startlinecolor": "#2a3f5f"
            },
            "baxis": {
             "endlinecolor": "#2a3f5f",
             "gridcolor": "#C8D4E3",
             "linecolor": "#C8D4E3",
             "minorgridcolor": "#C8D4E3",
             "startlinecolor": "#2a3f5f"
            },
            "type": "carpet"
           }
          ],
          "choropleth": [
           {
            "colorbar": {
             "outlinewidth": 0,
             "ticks": ""
            },
            "type": "choropleth"
           }
          ],
          "contour": [
           {
            "colorbar": {
             "outlinewidth": 0,
             "ticks": ""
            },
            "colorscale": [
             [
              0,
              "#0d0887"
             ],
             [
              0.1111111111111111,
              "#46039f"
             ],
             [
              0.2222222222222222,
              "#7201a8"
             ],
             [
              0.3333333333333333,
              "#9c179e"
             ],
             [
              0.4444444444444444,
              "#bd3786"
             ],
             [
              0.5555555555555556,
              "#d8576b"
             ],
             [
              0.6666666666666666,
              "#ed7953"
             ],
             [
              0.7777777777777778,
              "#fb9f3a"
             ],
             [
              0.8888888888888888,
              "#fdca26"
             ],
             [
              1,
              "#f0f921"
             ]
            ],
            "type": "contour"
           }
          ],
          "contourcarpet": [
           {
            "colorbar": {
             "outlinewidth": 0,
             "ticks": ""
            },
            "type": "contourcarpet"
           }
          ],
          "heatmap": [
           {
            "colorbar": {
             "outlinewidth": 0,
             "ticks": ""
            },
            "colorscale": [
             [
              0,
              "#0d0887"
             ],
             [
              0.1111111111111111,
              "#46039f"
             ],
             [
              0.2222222222222222,
              "#7201a8"
             ],
             [
              0.3333333333333333,
              "#9c179e"
             ],
             [
              0.4444444444444444,
              "#bd3786"
             ],
             [
              0.5555555555555556,
              "#d8576b"
             ],
             [
              0.6666666666666666,
              "#ed7953"
             ],
             [
              0.7777777777777778,
              "#fb9f3a"
             ],
             [
              0.8888888888888888,
              "#fdca26"
             ],
             [
              1,
              "#f0f921"
             ]
            ],
            "type": "heatmap"
           }
          ],
          "heatmapgl": [
           {
            "colorbar": {
             "outlinewidth": 0,
             "ticks": ""
            },
            "colorscale": [
             [
              0,
              "#0d0887"
             ],
             [
              0.1111111111111111,
              "#46039f"
             ],
             [
              0.2222222222222222,
              "#7201a8"
             ],
             [
              0.3333333333333333,
              "#9c179e"
             ],
             [
              0.4444444444444444,
              "#bd3786"
             ],
             [
              0.5555555555555556,
              "#d8576b"
             ],
             [
              0.6666666666666666,
              "#ed7953"
             ],
             [
              0.7777777777777778,
              "#fb9f3a"
             ],
             [
              0.8888888888888888,
              "#fdca26"
             ],
             [
              1,
              "#f0f921"
             ]
            ],
            "type": "heatmapgl"
           }
          ],
          "histogram": [
           {
            "marker": {
             "colorbar": {
              "outlinewidth": 0,
              "ticks": ""
             }
            },
            "type": "histogram"
           }
          ],
          "histogram2d": [
           {
            "colorbar": {
             "outlinewidth": 0,
             "ticks": ""
            },
            "colorscale": [
             [
              0,
              "#0d0887"
             ],
             [
              0.1111111111111111,
              "#46039f"
             ],
             [
              0.2222222222222222,
              "#7201a8"
             ],
             [
              0.3333333333333333,
              "#9c179e"
             ],
             [
              0.4444444444444444,
              "#bd3786"
             ],
             [
              0.5555555555555556,
              "#d8576b"
             ],
             [
              0.6666666666666666,
              "#ed7953"
             ],
             [
              0.7777777777777778,
              "#fb9f3a"
             ],
             [
              0.8888888888888888,
              "#fdca26"
             ],
             [
              1,
              "#f0f921"
             ]
            ],
            "type": "histogram2d"
           }
          ],
          "histogram2dcontour": [
           {
            "colorbar": {
             "outlinewidth": 0,
             "ticks": ""
            },
            "colorscale": [
             [
              0,
              "#0d0887"
             ],
             [
              0.1111111111111111,
              "#46039f"
             ],
             [
              0.2222222222222222,
              "#7201a8"
             ],
             [
              0.3333333333333333,
              "#9c179e"
             ],
             [
              0.4444444444444444,
              "#bd3786"
             ],
             [
              0.5555555555555556,
              "#d8576b"
             ],
             [
              0.6666666666666666,
              "#ed7953"
             ],
             [
              0.7777777777777778,
              "#fb9f3a"
             ],
             [
              0.8888888888888888,
              "#fdca26"
             ],
             [
              1,
              "#f0f921"
             ]
            ],
            "type": "histogram2dcontour"
           }
          ],
          "mesh3d": [
           {
            "colorbar": {
             "outlinewidth": 0,
             "ticks": ""
            },
            "type": "mesh3d"
           }
          ],
          "parcoords": [
           {
            "line": {
             "colorbar": {
              "outlinewidth": 0,
              "ticks": ""
             }
            },
            "type": "parcoords"
           }
          ],
          "pie": [
           {
            "automargin": true,
            "type": "pie"
           }
          ],
          "scatter": [
           {
            "marker": {
             "colorbar": {
              "outlinewidth": 0,
              "ticks": ""
             }
            },
            "type": "scatter"
           }
          ],
          "scatter3d": [
           {
            "line": {
             "colorbar": {
              "outlinewidth": 0,
              "ticks": ""
             }
            },
            "marker": {
             "colorbar": {
              "outlinewidth": 0,
              "ticks": ""
             }
            },
            "type": "scatter3d"
           }
          ],
          "scattercarpet": [
           {
            "marker": {
             "colorbar": {
              "outlinewidth": 0,
              "ticks": ""
             }
            },
            "type": "scattercarpet"
           }
          ],
          "scattergeo": [
           {
            "marker": {
             "colorbar": {
              "outlinewidth": 0,
              "ticks": ""
             }
            },
            "type": "scattergeo"
           }
          ],
          "scattergl": [
           {
            "marker": {
             "colorbar": {
              "outlinewidth": 0,
              "ticks": ""
             }
            },
            "type": "scattergl"
           }
          ],
          "scattermapbox": [
           {
            "marker": {
             "colorbar": {
              "outlinewidth": 0,
              "ticks": ""
             }
            },
            "type": "scattermapbox"
           }
          ],
          "scatterpolar": [
           {
            "marker": {
             "colorbar": {
              "outlinewidth": 0,
              "ticks": ""
             }
            },
            "type": "scatterpolar"
           }
          ],
          "scatterpolargl": [
           {
            "marker": {
             "colorbar": {
              "outlinewidth": 0,
              "ticks": ""
             }
            },
            "type": "scatterpolargl"
           }
          ],
          "scatterternary": [
           {
            "marker": {
             "colorbar": {
              "outlinewidth": 0,
              "ticks": ""
             }
            },
            "type": "scatterternary"
           }
          ],
          "surface": [
           {
            "colorbar": {
             "outlinewidth": 0,
             "ticks": ""
            },
            "colorscale": [
             [
              0,
              "#0d0887"
             ],
             [
              0.1111111111111111,
              "#46039f"
             ],
             [
              0.2222222222222222,
              "#7201a8"
             ],
             [
              0.3333333333333333,
              "#9c179e"
             ],
             [
              0.4444444444444444,
              "#bd3786"
             ],
             [
              0.5555555555555556,
              "#d8576b"
             ],
             [
              0.6666666666666666,
              "#ed7953"
             ],
             [
              0.7777777777777778,
              "#fb9f3a"
             ],
             [
              0.8888888888888888,
              "#fdca26"
             ],
             [
              1,
              "#f0f921"
             ]
            ],
            "type": "surface"
           }
          ],
          "table": [
           {
            "cells": {
             "fill": {
              "color": "#EBF0F8"
             },
             "line": {
              "color": "white"
             }
            },
            "header": {
             "fill": {
              "color": "#C8D4E3"
             },
             "line": {
              "color": "white"
             }
            },
            "type": "table"
           }
          ]
         },
         "layout": {
          "annotationdefaults": {
           "arrowcolor": "#2a3f5f",
           "arrowhead": 0,
           "arrowwidth": 1
          },
          "coloraxis": {
           "colorbar": {
            "outlinewidth": 0,
            "ticks": ""
           }
          },
          "colorscale": {
           "diverging": [
            [
             0,
             "#8e0152"
            ],
            [
             0.1,
             "#c51b7d"
            ],
            [
             0.2,
             "#de77ae"
            ],
            [
             0.3,
             "#f1b6da"
            ],
            [
             0.4,
             "#fde0ef"
            ],
            [
             0.5,
             "#f7f7f7"
            ],
            [
             0.6,
             "#e6f5d0"
            ],
            [
             0.7,
             "#b8e186"
            ],
            [
             0.8,
             "#7fbc41"
            ],
            [
             0.9,
             "#4d9221"
            ],
            [
             1,
             "#276419"
            ]
           ],
           "sequential": [
            [
             0,
             "#0d0887"
            ],
            [
             0.1111111111111111,
             "#46039f"
            ],
            [
             0.2222222222222222,
             "#7201a8"
            ],
            [
             0.3333333333333333,
             "#9c179e"
            ],
            [
             0.4444444444444444,
             "#bd3786"
            ],
            [
             0.5555555555555556,
             "#d8576b"
            ],
            [
             0.6666666666666666,
             "#ed7953"
            ],
            [
             0.7777777777777778,
             "#fb9f3a"
            ],
            [
             0.8888888888888888,
             "#fdca26"
            ],
            [
             1,
             "#f0f921"
            ]
           ],
           "sequentialminus": [
            [
             0,
             "#0d0887"
            ],
            [
             0.1111111111111111,
             "#46039f"
            ],
            [
             0.2222222222222222,
             "#7201a8"
            ],
            [
             0.3333333333333333,
             "#9c179e"
            ],
            [
             0.4444444444444444,
             "#bd3786"
            ],
            [
             0.5555555555555556,
             "#d8576b"
            ],
            [
             0.6666666666666666,
             "#ed7953"
            ],
            [
             0.7777777777777778,
             "#fb9f3a"
            ],
            [
             0.8888888888888888,
             "#fdca26"
            ],
            [
             1,
             "#f0f921"
            ]
           ]
          },
          "colorway": [
           "#636efa",
           "#EF553B",
           "#00cc96",
           "#ab63fa",
           "#FFA15A",
           "#19d3f3",
           "#FF6692",
           "#B6E880",
           "#FF97FF",
           "#FECB52"
          ],
          "font": {
           "color": "#2a3f5f"
          },
          "geo": {
           "bgcolor": "white",
           "lakecolor": "white",
           "landcolor": "white",
           "showlakes": true,
           "showland": true,
           "subunitcolor": "#C8D4E3"
          },
          "hoverlabel": {
           "align": "left"
          },
          "hovermode": "closest",
          "mapbox": {
           "style": "light"
          },
          "paper_bgcolor": "white",
          "plot_bgcolor": "white",
          "polar": {
           "angularaxis": {
            "gridcolor": "#EBF0F8",
            "linecolor": "#EBF0F8",
            "ticks": ""
           },
           "bgcolor": "white",
           "radialaxis": {
            "gridcolor": "#EBF0F8",
            "linecolor": "#EBF0F8",
            "ticks": ""
           }
          },
          "scene": {
           "xaxis": {
            "backgroundcolor": "white",
            "gridcolor": "#DFE8F3",
            "gridwidth": 2,
            "linecolor": "#EBF0F8",
            "showbackground": true,
            "ticks": "",
            "zerolinecolor": "#EBF0F8"
           },
           "yaxis": {
            "backgroundcolor": "white",
            "gridcolor": "#DFE8F3",
            "gridwidth": 2,
            "linecolor": "#EBF0F8",
            "showbackground": true,
            "ticks": "",
            "zerolinecolor": "#EBF0F8"
           },
           "zaxis": {
            "backgroundcolor": "white",
            "gridcolor": "#DFE8F3",
            "gridwidth": 2,
            "linecolor": "#EBF0F8",
            "showbackground": true,
            "ticks": "",
            "zerolinecolor": "#EBF0F8"
           }
          },
          "shapedefaults": {
           "line": {
            "color": "#2a3f5f"
           }
          },
          "ternary": {
           "aaxis": {
            "gridcolor": "#DFE8F3",
            "linecolor": "#A2B1C6",
            "ticks": ""
           },
           "baxis": {
            "gridcolor": "#DFE8F3",
            "linecolor": "#A2B1C6",
            "ticks": ""
           },
           "bgcolor": "white",
           "caxis": {
            "gridcolor": "#DFE8F3",
            "linecolor": "#A2B1C6",
            "ticks": ""
           }
          },
          "title": {
           "x": 0.05
          },
          "xaxis": {
           "automargin": true,
           "gridcolor": "#EBF0F8",
           "linecolor": "#EBF0F8",
           "ticks": "",
           "title": {
            "standoff": 15
           },
           "zerolinecolor": "#EBF0F8",
           "zerolinewidth": 2
          },
          "yaxis": {
           "automargin": true,
           "gridcolor": "#EBF0F8",
           "linecolor": "#EBF0F8",
           "ticks": "",
           "title": {
            "standoff": 15
           },
           "zerolinecolor": "#EBF0F8",
           "zerolinewidth": 2
          }
         }
        },
        "title": {
         "text": "Principal Components Visualization with Cluster Labels"
        },
        "width": 900,
        "xaxis": {
         "anchor": "y",
         "domain": [
          0,
          1
         ],
         "title": {
          "text": "1st Principal Component"
         }
        },
        "yaxis": {
         "anchor": "x",
         "domain": [
          0,
          1
         ],
         "title": {
          "text": "2nd Principal Component"
         }
        }
       }
      },
      "text/html": [
       "<div>\n",
       "        \n",
       "        \n",
       "            <div id=\"9526e648-08a2-473f-8f9c-1457044a5173\" class=\"plotly-graph-div\" style=\"height:800px; width:900px;\"></div>\n",
       "            <script type=\"text/javascript\">\n",
       "                require([\"plotly\"], function(Plotly) {\n",
       "                    window.PLOTLYENV=window.PLOTLYENV || {};\n",
       "                    \n",
       "                if (document.getElementById(\"9526e648-08a2-473f-8f9c-1457044a5173\")) {\n",
       "                    Plotly.newPlot(\n",
       "                        '9526e648-08a2-473f-8f9c-1457044a5173',\n",
       "                        [{\"hoverlabel\": {\"namelength\": 0}, \"hovertemplate\": \"<b>%{hovertext}</b><br><br>cl_str=2<br>pc_one=%{x}<br>pc_two=%{y}\", \"hovertext\": [\"African Restaurant\", \"American Restaurant\", \"Asian Restaurant\", \"Australian Restaurant\", \"Bakery\", \"Bistro\", \"Buffet\", \"Burrito Place\", \"Cafeteria\", \"Caf\\u00e9\", \"Cajun Creole Restaurant\", \"Chinese Restaurant\", \"Comfort Food Restaurant\", \"Creperie\", \"Deli Bodega\", \"Dim Sum Restaurant\", \"Diner\", \"Eastern European Restaurant\", \"Empanada Restaurant\", \"English Restaurant\", \"Fast Food Restaurant\", \"Filipino Restaurant\", \"French Restaurant\", \"Gastropub\", \"German Restaurant\", \"Greek Restaurant\", \"Indian Restaurant\", \"Indonesian Restaurant\", \"Italian Restaurant\", \"Japanese Restaurant\", \"Kebab Restaurant\", \"Korean Restaurant\", \"Malay Restaurant\", \"Mediterranean Restaurant\", \"Mexican Restaurant\", \"Middle Eastern Restaurant\", \"Modern European Restaurant\", \"New American Restaurant\", \"Pizza Place\", \"Ramen Restaurant\", \"Restaurant\", \"Salad Place\", \"Seafood Restaurant\", \"Spanish Restaurant\", \"Steakhouse\", \"Sushi Restaurant\", \"Taco Place\", \"TexMex Restaurant\", \"Thai Restaurant\", \"Turkish Restaurant\", \"Vegetarian Vegan Restaurant\", \"Vietnamese Restaurant\"], \"legendgroup\": \"2\", \"marker\": {\"color\": \"rgb(228,26,28)\", \"symbol\": \"circle\"}, \"mode\": \"markers\", \"name\": \"2\", \"showlegend\": true, \"type\": \"scatter\", \"x\": [0.8705090880393982, 0.8714818358421326, 1.0550721883773804, 0.8580465316772461, 1.1449087858200073, 1.936193585395813, 1.081170678138733, 0.47945404052734375, 0.7394660115242004, 1.433085322380066, 0.997281014919281, 0.9863144159317017, 0.5892144441604614, 0.8261731863021851, 0.9735812544822693, 0.6141726970672607, 1.5480661392211914, 0.28976690769195557, 1.401517629623413, 0.9142718315124512, 0.716178834438324, 1.1964058876037598, 1.0880919694900513, 0.8960033059120178, 0.8783373236656189, 1.1705104112625122, 0.8923298716545105, 1.104070782661438, 1.309131145477295, 1.0113807916641235, 1.813974380493164, 0.9943917393684387, 1.0933688879013062, 1.1533485651016235, 1.1533626317977905, 0.23869436979293823, 0.3639282286167145, 0.36839792132377625, 0.5940848588943481, 1.402518391609192, 2.176386594772339, 0.3803347647190094, 1.667466402053833, 0.9817632436752319, 2.1805152893066406, 1.7658108472824097, 0.29676809906959534, 1.165769338607788, 1.2987732887268066, 1.0470716953277588, 1.1719413995742798, 1.1257221698760986], \"xaxis\": \"x\", \"y\": [-0.40860483050346375, -0.41667646169662476, -0.37719765305519104, -0.48559272289276123, 0.943769633769989, 0.031136156991124153, -0.10165010392665863, 0.18841814994812012, 0.2470422238111496, 0.25769340991973877, -0.495673805475235, -0.39322394132614136, 0.2067888230085373, 0.23832939565181732, 0.3727545738220215, -0.188348650932312, 0.2446872442960739, -0.44088298082351685, -0.03611842542886734, -0.400057315826416, 0.18765847384929657, -0.4847677946090698, -0.3910803198814392, 0.30805692076683044, -0.37565362453460693, -0.46057814359664917, -0.5069633722305298, -0.522652804851532, -0.4612559974193573, -0.48865970969200134, 0.011683819815516472, -0.5719831585884094, -0.5821323394775391, -0.5426563024520874, -0.5088479518890381, -0.3962888717651367, -0.23825514316558838, -0.34416499733924866, 0.2174915373325348, -0.049373991787433624, -0.3228718936443329, 0.10517992824316025, -0.05375804379582405, -0.44157522916793823, -0.41026630997657776, -0.07993535697460175, 0.07766438275575638, -0.3079850375652313, -0.5190852880477905, -0.49739277362823486, 0.14987029135227203, -0.5054361820220947], \"yaxis\": \"y\"}, {\"hoverlabel\": {\"namelength\": 0}, \"hovertemplate\": \"<b>%{hovertext}</b><br><br>cl_str=4<br>pc_one=%{x}<br>pc_two=%{y}\", \"hovertext\": [\"Airport\", \"Arcade\", \"Art Gallery\", \"Art Museum\", \"Athletics & Sports\", \"Botanical Garden\", \"Bowling Alley\", \"Boxing Gym\", \"Building\", \"Bus Station\", \"Capitol Building\", \"Church\", \"City Hall\", \"College Quad\", \"Convention Center\", \"Field\", \"Food Court\", \"Fraternity House\", \"Gas Station\", \"General Entertainment\", \"Golf Course\", \"Gym\", \"Gym Fitness Center\", \"Historic Site\", \"History Museum\", \"Massage Studio\", \"Monument Landmark\", \"Movie Theater\", \"Multiplex\", \"Museum\", \"Music Venue\", \"National Park\", \"Nature Preserve\", \"Neighborhood\", \"Office\", \"Other Nightlife\", \"Outdoor Event Space\", \"Outdoor Sculpture\", \"Outdoors & Recreation\", \"Park\", \"Performing Arts Venue\", \"Plaza\", \"Pool\", \"Public Art\", \"Racetrack\", \"Residential Building Apartment Condo\", \"Road\", \"School\", \"Sculpture Garden\", \"Spiritual Center\", \"Sports Club\", \"Street Fair\", \"Theater\", \"Theme Park\", \"Toll Plaza\", \"Town\", \"Track Stadium\", \"University\", \"Water Park\", \"Yoga Studio\", \"Zoo\"], \"legendgroup\": \"4\", \"marker\": {\"color\": \"rgb(55,126,184)\", \"symbol\": \"circle\"}, \"mode\": \"markers\", \"name\": \"4\", \"showlegend\": true, \"type\": \"scatter\", \"x\": [-0.6058467626571655, -0.3222759962081909, -0.48359227180480957, -0.8815205097198486, -0.7304227948188782, -0.6004793643951416, -0.31113484501838684, -0.30650755763053894, -0.7650105953216553, -0.5786373019218445, -0.8047744631767273, -0.5276813507080078, -0.7867148518562317, -0.8822687864303589, -0.8348253965377808, -1.288575291633606, -0.3366442620754242, -0.4725755453109741, -0.4924406111240387, -0.5025671124458313, -0.60028475522995, -0.36320143938064575, -0.5410509705543518, -0.9036730527877808, -0.9534546136856079, -0.16300265491008759, -0.9243394732475281, -0.14215616881847382, -0.5416868925094604, -1.0348570346832275, -0.238851398229599, -1.0495641231536865, -0.9479379057884216, -0.38763096928596497, -0.6710102558135986, -0.06513098627328873, -0.8649969100952148, -1.0930445194244385, -0.8284439444541931, -1.1581565141677856, -0.47023141384124756, -0.14646415412425995, -0.7744757533073425, -0.7565352916717529, -0.4968321621417999, -0.3530997335910797, -0.6823261380195618, -0.7134323120117188, -0.8809735178947449, -0.8905919790267944, -0.4288958013057709, -0.6734336018562317, -0.08422189950942993, -0.8948999643325806, -0.40650442242622375, -0.6601548790931702, -0.8942096829414368, -0.8544310331344604, -1.0187816619873047, -0.3943922817707062, -0.8763304948806763], \"xaxis\": \"x\", \"y\": [-0.2815819978713989, 0.4744921624660492, 0.5104634761810303, 0.38124725222587585, 0.17073126137256622, 0.1078084260225296, -0.016992583870887756, 0.23689846694469452, 0.1312870979309082, 0.10860998928546906, -0.10327261686325073, -0.12445523589849472, -0.22007903456687927, -0.1802944540977478, -0.0816696435213089, -0.13405461609363556, 0.267453134059906, -0.36533528566360474, 0.01265521626919508, 0.08162426948547363, -0.413588285446167, 0.3919229805469513, 0.3751065731048584, -0.15227657556533813, 0.2804151475429535, 0.3767271637916565, -0.48758432269096375, 0.2749304473400116, -0.4796992540359497, 0.3016638159751892, 0.10529323667287827, -0.6120592355728149, -0.3381095826625824, 0.1100686565041542, 0.23355633020401, -0.17525319755077362, 0.05118800327181816, -0.0014864971162751317, 0.19949768483638763, -0.7403365969657898, 0.007588363252580166, 0.066492460668087, -0.42985033988952637, 0.07789435237646103, -0.39468976855278015, -0.13382786512374878, -0.2304275631904602, -0.10100811719894409, 0.042213328182697296, 0.08736564964056015, 0.0015031516086310148, 0.119293712079525, 0.21838636696338654, -0.40518760681152344, -0.2630624771118164, -0.01984587498009205, -0.14010553061962128, -0.3279423415660858, -0.5892465114593506, 0.30031391978263855, -0.1828749030828476], \"yaxis\": \"y\"}, {\"hoverlabel\": {\"namelength\": 0}, \"hovertemplate\": \"<b>%{hovertext}</b><br><br>cl_str=1<br>pc_one=%{x}<br>pc_two=%{y}\", \"hovertext\": [\"Airport Lounge\", \"Bar\", \"Beach Bar\", \"Brewery\", \"Campground\", \"Cocktail Bar\", \"Dive Bar\", \"Hookah Bar\", \"Hostel\", \"Hotel\", \"Hotel Bar\", \"Hotel Pool\", \"Juice Bar\", \"Karaoke Bar\", \"Lounge\", \"Motel\", \"Nightclub\", \"Pub\", \"Resort\", \"Spa\", \"Sports Bar\", \"Wine Bar\"], \"legendgroup\": \"1\", \"marker\": {\"color\": \"rgb(77,175,74)\", \"symbol\": \"circle\"}, \"mode\": \"markers\", \"name\": \"1\", \"showlegend\": true, \"type\": \"scatter\", \"x\": [0.16791149973869324, 0.7094948887825012, 0.08249922841787338, 0.30835551023483276, -0.34868407249450684, 0.6207073926925659, 0.09453416615724564, 0.7216660976409912, -0.347636342048645, 0.6737157106399536, 0.6916054487228394, -0.05038011074066162, 0.306888222694397, 0.8013701438903809, 0.9416703581809998, 0.6504727005958557, 1.00860595703125, 1.2523868083953857, 0.04739248380064964, 0.14589405059814453, -0.005438083782792091, 0.5100935697555542], \"xaxis\": \"x\", \"y\": [-0.21781198680400848, -0.41750258207321167, -0.7746251821517944, -0.22880111634731293, -0.9650130271911621, -0.3237546384334564, -0.3512234389781952, -0.21790574491024017, -0.3332675099372864, -0.7302638292312622, -0.5738832950592041, -0.5800571441650391, -0.013983574695885181, -0.17326262593269348, -0.1540411114692688, -0.33601874113082886, -0.19539283215999603, -0.33590996265411377, -1.0395607948303223, -0.2250199317932129, -0.12059652805328369, -0.16314829885959625], \"yaxis\": \"y\"}, {\"hoverlabel\": {\"namelength\": 0}, \"hovertemplate\": \"<b>%{hovertext}</b><br><br>cl_str=3<br>pc_one=%{x}<br>pc_two=%{y}\", \"hovertext\": [\"Arts & Crafts Store\", \"Bookstore\", \"Bubble Tea Shop\", \"Candy Store\", \"Clothing Store\", \"Coffee Shop\", \"Convenience Store\", \"Cosmetics Shop\", \"Cupcake Shop\", \"Department Store\", \"Dessert Shop\", \"Dive Shop\", \"Donut Shop\", \"Electronics Store\", \"Farmers Market\", \"Fish & Chips Shop\", \"Flea Market\", \"Food\", \"Food & Drink Shop\", \"Frozen Yogurt Shop\", \"Fruit & Vegetable Store\", \"Gift Shop\", \"Grocery Store\", \"Health Food Store\", \"Hobby Shop\", \"Ice Cream Shop\", \"Market\", \"Miscellaneous Shop\", \"Mobile Phone Shop\", \"Nail Salon\", \"Organic Grocery\", \"Pharmacy\", \"Salon Barbershop\", \"Shoe Store\", \"Shopping Mall\", \"Shopping Plaza\", \"Sporting Goods Shop\", \"Supermarket\", \"Warehouse Store\"], \"legendgroup\": \"3\", \"marker\": {\"color\": \"rgb(152,78,163)\", \"symbol\": \"circle\"}, \"mode\": \"markers\", \"name\": \"3\", \"showlegend\": true, \"type\": \"scatter\", \"x\": [-0.4798063039779663, 0.33981457352638245, -0.20118382573127747, -0.1628335565328598, -0.12352731823921204, 0.19374212622642517, 0.0016827909275889397, 0.022586500272154808, 0.001978696323931217, -0.4548938572406769, 0.14776107668876648, -0.278581440448761, 0.14512555301189423, -0.23658496141433716, -0.27027106285095215, -0.2027149200439453, -0.3196008503437042, 0.0665455237030983, -0.1067468598484993, 0.14203907549381256, -0.17717120051383972, -0.41074395179748535, 0.3266385793685913, -0.204973965883255, -0.3202968239784241, -0.3318133056163788, -0.10873118042945862, -0.3912985920906067, -0.36898648738861084, -0.07659390568733215, 0.3025425970554352, 0.019521700218319893, 0.373556524515152, -0.2910975217819214, -0.49121224880218506, -0.33452922105789185, -0.3724658191204071, 0.8184121251106262, -0.22227711975574493], \"xaxis\": \"x\", \"y\": [0.7465343475341797, 1.3051857948303223, 0.6680328845977783, 1.1781070232391357, 1.456299066543579, 1.0090659856796265, 1.313713788986206, 1.3819228410720825, 1.147933840751648, 0.8770671486854553, 0.9775972962379456, 0.699295163154602, 1.2068052291870117, 1.1697062253952026, 0.41945624351501465, 0.41368359327316284, 0.49884265661239624, 0.7015379071235657, 0.6510564684867859, 0.785083532333374, 0.799959659576416, 1.2499374151229858, 1.5044629573822021, 0.9135118126869202, 1.1879355907440186, 0.6604193449020386, 0.573522686958313, 0.9651303291320801, 0.7648740410804749, 0.39083102345466614, 0.9547973871231079, 1.1887487173080444, 0.5866448283195496, 1.281857967376709, 0.8055682182312012, 0.6102249026298523, 0.8102530241012573, 1.2391424179077148, 1.3383694887161255], \"yaxis\": \"y\"}, {\"hoverlabel\": {\"namelength\": 0}, \"hovertemplate\": \"<b>%{hovertext}</b><br><br>cl_str=0<br>pc_one=%{x}<br>pc_two=%{y}\", \"hovertext\": [\"BBQ Joint\", \"Bay\", \"Beach\", \"Bed & Breakfast\", \"Beer Garden\", \"Boat or Ferry\", \"Breakfast Spot\", \"Bridge\", \"Burger Joint\", \"Cave\", \"Dive Spot\", \"Farm\", \"Fountain\", \"Fried Chicken Joint\", \"Garden\", \"Harbor Marina\", \"Hot Dog Joint\", \"Hot Spring\", \"Island\", \"Lake\", \"Lighthouse\", \"Mountain\", \"Noodle House\", \"Other Great Outdoors\", \"Pier\", \"Rafting\", \"River\", \"Sandwich Place\", \"Scenic Lookout\", \"Snack Place\", \"Soup Place\", \"Speakeasy\", \"Surf Spot\", \"Tea Room\", \"Trail\", \"Tree\", \"Vineyard\", \"Volcano\", \"Waterfall\", \"Windmill\", \"Wings Joint\"], \"legendgroup\": \"0\", \"marker\": {\"color\": \"rgb(255,127,0)\", \"symbol\": \"circle\"}, \"mode\": \"markers\", \"name\": \"0\", \"showlegend\": true, \"type\": \"scatter\", \"x\": [0.10405069589614868, -0.9020723700523376, -0.5444964170455933, -0.22634898126125336, -0.2110690176486969, -0.5545173287391663, -0.06890804320573807, -0.8604215979576111, -0.07050596177577972, -0.796838104724884, -0.45921024680137634, -0.5585048198699951, -0.8708860874176025, 0.0014034840278327465, -0.5995329022407532, -0.6200381517410278, -0.39922159910202026, -0.6156249642372131, -1.0129870176315308, -1.1897075176239014, -0.6209477782249451, -0.95388263463974, 0.17165526747703552, -0.7408047914505005, -0.3923432230949402, -0.2970810830593109, -1.2536797523498535, -0.0718020498752594, -0.7633492946624756, 0.03234058618545532, -0.014850769191980362, 0.3826941251754761, -0.4276442229747772, -0.048432186245918274, -0.9506586790084839, -0.7975934147834778, -0.33326631784439087, -0.3926762640476227, -0.834669291973114, -0.5510583519935608, -0.6010409593582153], \"xaxis\": \"x\", \"y\": [-0.17355696856975555, -1.0186774730682373, -1.1317476034164429, 0.005208608228713274, 0.11479688435792923, -0.40125706791877747, 0.11357095092535019, -0.715406596660614, -0.20021288096904755, -0.5651862621307373, 0.024949971586465836, 0.14772053062915802, -0.593288779258728, -0.0795215368270874, 0.09423588216304779, -0.956141471862793, -0.17518629133701324, -0.10633961111307144, -1.0106287002563477, -1.1980738639831543, -0.6696472764015198, -0.9036776423454285, -0.03289882466197014, -0.07516518980264664, -0.5690709948539734, -0.7279999256134033, -1.286842942237854, -0.0386076457798481, -0.7825547456741333, 0.38033565878868103, 0.24608822166919708, 0.0039689019322395325, 0.05717436224222183, -0.009379001334309578, -0.9206289649009705, 0.005123913753777742, -0.5158910751342773, -0.7400684356689453, -0.8776223063468933, -0.42104634642601013, -0.21799437701702118], \"yaxis\": \"y\"}],\n",
       "                        {\"height\": 800, \"legend\": {\"title\": {\"text\": \"cl_str\"}, \"tracegroupgap\": 0}, \"template\": {\"data\": {\"bar\": [{\"error_x\": {\"color\": \"#2a3f5f\"}, \"error_y\": {\"color\": \"#2a3f5f\"}, \"marker\": {\"line\": {\"color\": \"white\", \"width\": 0.5}}, \"type\": \"bar\"}], \"barpolar\": [{\"marker\": {\"line\": {\"color\": \"white\", \"width\": 0.5}}, \"type\": \"barpolar\"}], \"carpet\": [{\"aaxis\": {\"endlinecolor\": \"#2a3f5f\", \"gridcolor\": \"#C8D4E3\", \"linecolor\": \"#C8D4E3\", \"minorgridcolor\": \"#C8D4E3\", \"startlinecolor\": \"#2a3f5f\"}, \"baxis\": {\"endlinecolor\": \"#2a3f5f\", \"gridcolor\": \"#C8D4E3\", \"linecolor\": \"#C8D4E3\", \"minorgridcolor\": \"#C8D4E3\", \"startlinecolor\": \"#2a3f5f\"}, \"type\": \"carpet\"}], \"choropleth\": [{\"colorbar\": {\"outlinewidth\": 0, \"ticks\": \"\"}, \"type\": \"choropleth\"}], \"contour\": [{\"colorbar\": {\"outlinewidth\": 0, \"ticks\": \"\"}, \"colorscale\": [[0.0, \"#0d0887\"], [0.1111111111111111, \"#46039f\"], [0.2222222222222222, \"#7201a8\"], [0.3333333333333333, \"#9c179e\"], [0.4444444444444444, \"#bd3786\"], [0.5555555555555556, \"#d8576b\"], [0.6666666666666666, \"#ed7953\"], [0.7777777777777778, \"#fb9f3a\"], [0.8888888888888888, \"#fdca26\"], [1.0, \"#f0f921\"]], \"type\": \"contour\"}], \"contourcarpet\": [{\"colorbar\": {\"outlinewidth\": 0, \"ticks\": \"\"}, \"type\": \"contourcarpet\"}], \"heatmap\": [{\"colorbar\": {\"outlinewidth\": 0, \"ticks\": \"\"}, \"colorscale\": [[0.0, \"#0d0887\"], [0.1111111111111111, \"#46039f\"], [0.2222222222222222, \"#7201a8\"], [0.3333333333333333, \"#9c179e\"], [0.4444444444444444, \"#bd3786\"], [0.5555555555555556, \"#d8576b\"], [0.6666666666666666, \"#ed7953\"], [0.7777777777777778, \"#fb9f3a\"], [0.8888888888888888, \"#fdca26\"], [1.0, \"#f0f921\"]], \"type\": \"heatmap\"}], \"heatmapgl\": [{\"colorbar\": {\"outlinewidth\": 0, \"ticks\": \"\"}, \"colorscale\": [[0.0, \"#0d0887\"], [0.1111111111111111, \"#46039f\"], [0.2222222222222222, \"#7201a8\"], [0.3333333333333333, \"#9c179e\"], [0.4444444444444444, \"#bd3786\"], [0.5555555555555556, \"#d8576b\"], [0.6666666666666666, \"#ed7953\"], [0.7777777777777778, \"#fb9f3a\"], [0.8888888888888888, \"#fdca26\"], [1.0, \"#f0f921\"]], \"type\": \"heatmapgl\"}], \"histogram\": [{\"marker\": {\"colorbar\": {\"outlinewidth\": 0, \"ticks\": \"\"}}, \"type\": \"histogram\"}], \"histogram2d\": [{\"colorbar\": {\"outlinewidth\": 0, \"ticks\": \"\"}, \"colorscale\": [[0.0, \"#0d0887\"], [0.1111111111111111, \"#46039f\"], [0.2222222222222222, \"#7201a8\"], [0.3333333333333333, \"#9c179e\"], [0.4444444444444444, \"#bd3786\"], [0.5555555555555556, \"#d8576b\"], [0.6666666666666666, \"#ed7953\"], [0.7777777777777778, \"#fb9f3a\"], [0.8888888888888888, \"#fdca26\"], [1.0, \"#f0f921\"]], \"type\": \"histogram2d\"}], \"histogram2dcontour\": [{\"colorbar\": {\"outlinewidth\": 0, \"ticks\": \"\"}, \"colorscale\": [[0.0, \"#0d0887\"], [0.1111111111111111, \"#46039f\"], [0.2222222222222222, \"#7201a8\"], [0.3333333333333333, \"#9c179e\"], [0.4444444444444444, \"#bd3786\"], [0.5555555555555556, \"#d8576b\"], [0.6666666666666666, \"#ed7953\"], [0.7777777777777778, \"#fb9f3a\"], [0.8888888888888888, \"#fdca26\"], [1.0, \"#f0f921\"]], \"type\": \"histogram2dcontour\"}], \"mesh3d\": [{\"colorbar\": {\"outlinewidth\": 0, \"ticks\": \"\"}, \"type\": \"mesh3d\"}], \"parcoords\": [{\"line\": {\"colorbar\": {\"outlinewidth\": 0, \"ticks\": \"\"}}, \"type\": \"parcoords\"}], \"pie\": [{\"automargin\": true, \"type\": \"pie\"}], \"scatter\": [{\"marker\": {\"colorbar\": {\"outlinewidth\": 0, \"ticks\": \"\"}}, \"type\": \"scatter\"}], \"scatter3d\": [{\"line\": {\"colorbar\": {\"outlinewidth\": 0, \"ticks\": \"\"}}, \"marker\": {\"colorbar\": {\"outlinewidth\": 0, \"ticks\": \"\"}}, \"type\": \"scatter3d\"}], \"scattercarpet\": [{\"marker\": {\"colorbar\": {\"outlinewidth\": 0, \"ticks\": \"\"}}, \"type\": \"scattercarpet\"}], \"scattergeo\": [{\"marker\": {\"colorbar\": {\"outlinewidth\": 0, \"ticks\": \"\"}}, \"type\": \"scattergeo\"}], \"scattergl\": [{\"marker\": {\"colorbar\": {\"outlinewidth\": 0, \"ticks\": \"\"}}, \"type\": \"scattergl\"}], \"scattermapbox\": [{\"marker\": {\"colorbar\": {\"outlinewidth\": 0, \"ticks\": \"\"}}, \"type\": \"scattermapbox\"}], \"scatterpolar\": [{\"marker\": {\"colorbar\": {\"outlinewidth\": 0, \"ticks\": \"\"}}, \"type\": \"scatterpolar\"}], \"scatterpolargl\": [{\"marker\": {\"colorbar\": {\"outlinewidth\": 0, \"ticks\": \"\"}}, \"type\": \"scatterpolargl\"}], \"scatterternary\": [{\"marker\": {\"colorbar\": {\"outlinewidth\": 0, \"ticks\": \"\"}}, \"type\": \"scatterternary\"}], \"surface\": [{\"colorbar\": {\"outlinewidth\": 0, \"ticks\": \"\"}, \"colorscale\": [[0.0, \"#0d0887\"], [0.1111111111111111, \"#46039f\"], [0.2222222222222222, \"#7201a8\"], [0.3333333333333333, \"#9c179e\"], [0.4444444444444444, \"#bd3786\"], [0.5555555555555556, \"#d8576b\"], [0.6666666666666666, \"#ed7953\"], [0.7777777777777778, \"#fb9f3a\"], [0.8888888888888888, \"#fdca26\"], [1.0, \"#f0f921\"]], \"type\": \"surface\"}], \"table\": [{\"cells\": {\"fill\": {\"color\": \"#EBF0F8\"}, \"line\": {\"color\": \"white\"}}, \"header\": {\"fill\": {\"color\": \"#C8D4E3\"}, \"line\": {\"color\": \"white\"}}, \"type\": \"table\"}]}, \"layout\": {\"annotationdefaults\": {\"arrowcolor\": \"#2a3f5f\", \"arrowhead\": 0, \"arrowwidth\": 1}, \"coloraxis\": {\"colorbar\": {\"outlinewidth\": 0, \"ticks\": \"\"}}, \"colorscale\": {\"diverging\": [[0, \"#8e0152\"], [0.1, \"#c51b7d\"], [0.2, \"#de77ae\"], [0.3, \"#f1b6da\"], [0.4, \"#fde0ef\"], [0.5, \"#f7f7f7\"], [0.6, \"#e6f5d0\"], [0.7, \"#b8e186\"], [0.8, \"#7fbc41\"], [0.9, \"#4d9221\"], [1, \"#276419\"]], \"sequential\": [[0.0, \"#0d0887\"], [0.1111111111111111, \"#46039f\"], [0.2222222222222222, \"#7201a8\"], [0.3333333333333333, \"#9c179e\"], [0.4444444444444444, \"#bd3786\"], [0.5555555555555556, \"#d8576b\"], [0.6666666666666666, \"#ed7953\"], [0.7777777777777778, \"#fb9f3a\"], [0.8888888888888888, \"#fdca26\"], [1.0, \"#f0f921\"]], \"sequentialminus\": [[0.0, \"#0d0887\"], [0.1111111111111111, \"#46039f\"], [0.2222222222222222, \"#7201a8\"], [0.3333333333333333, \"#9c179e\"], [0.4444444444444444, \"#bd3786\"], [0.5555555555555556, \"#d8576b\"], [0.6666666666666666, \"#ed7953\"], [0.7777777777777778, \"#fb9f3a\"], [0.8888888888888888, \"#fdca26\"], [1.0, \"#f0f921\"]]}, \"colorway\": [\"#636efa\", \"#EF553B\", \"#00cc96\", \"#ab63fa\", \"#FFA15A\", \"#19d3f3\", \"#FF6692\", \"#B6E880\", \"#FF97FF\", \"#FECB52\"], \"font\": {\"color\": \"#2a3f5f\"}, \"geo\": {\"bgcolor\": \"white\", \"lakecolor\": \"white\", \"landcolor\": \"white\", \"showlakes\": true, \"showland\": true, \"subunitcolor\": \"#C8D4E3\"}, \"hoverlabel\": {\"align\": \"left\"}, \"hovermode\": \"closest\", \"mapbox\": {\"style\": \"light\"}, \"paper_bgcolor\": \"white\", \"plot_bgcolor\": \"white\", \"polar\": {\"angularaxis\": {\"gridcolor\": \"#EBF0F8\", \"linecolor\": \"#EBF0F8\", \"ticks\": \"\"}, \"bgcolor\": \"white\", \"radialaxis\": {\"gridcolor\": \"#EBF0F8\", \"linecolor\": \"#EBF0F8\", \"ticks\": \"\"}}, \"scene\": {\"xaxis\": {\"backgroundcolor\": \"white\", \"gridcolor\": \"#DFE8F3\", \"gridwidth\": 2, \"linecolor\": \"#EBF0F8\", \"showbackground\": true, \"ticks\": \"\", \"zerolinecolor\": \"#EBF0F8\"}, \"yaxis\": {\"backgroundcolor\": \"white\", \"gridcolor\": \"#DFE8F3\", \"gridwidth\": 2, \"linecolor\": \"#EBF0F8\", \"showbackground\": true, \"ticks\": \"\", \"zerolinecolor\": \"#EBF0F8\"}, \"zaxis\": {\"backgroundcolor\": \"white\", \"gridcolor\": \"#DFE8F3\", \"gridwidth\": 2, \"linecolor\": \"#EBF0F8\", \"showbackground\": true, \"ticks\": \"\", \"zerolinecolor\": \"#EBF0F8\"}}, \"shapedefaults\": {\"line\": {\"color\": \"#2a3f5f\"}}, \"ternary\": {\"aaxis\": {\"gridcolor\": \"#DFE8F3\", \"linecolor\": \"#A2B1C6\", \"ticks\": \"\"}, \"baxis\": {\"gridcolor\": \"#DFE8F3\", \"linecolor\": \"#A2B1C6\", \"ticks\": \"\"}, \"bgcolor\": \"white\", \"caxis\": {\"gridcolor\": \"#DFE8F3\", \"linecolor\": \"#A2B1C6\", \"ticks\": \"\"}}, \"title\": {\"x\": 0.05}, \"xaxis\": {\"automargin\": true, \"gridcolor\": \"#EBF0F8\", \"linecolor\": \"#EBF0F8\", \"ticks\": \"\", \"title\": {\"standoff\": 15}, \"zerolinecolor\": \"#EBF0F8\", \"zerolinewidth\": 2}, \"yaxis\": {\"automargin\": true, \"gridcolor\": \"#EBF0F8\", \"linecolor\": \"#EBF0F8\", \"ticks\": \"\", \"title\": {\"standoff\": 15}, \"zerolinecolor\": \"#EBF0F8\", \"zerolinewidth\": 2}}}, \"title\": {\"text\": \"Principal Components Visualization with Cluster Labels\"}, \"width\": 900, \"xaxis\": {\"anchor\": \"y\", \"domain\": [0.0, 1.0], \"title\": {\"text\": \"1st Principal Component\"}}, \"yaxis\": {\"anchor\": \"x\", \"domain\": [0.0, 1.0], \"title\": {\"text\": \"2nd Principal Component\"}}},\n",
       "                        {\"responsive\": true}\n",
       "                    ).then(function(){\n",
       "                            \n",
       "var gd = document.getElementById('9526e648-08a2-473f-8f9c-1457044a5173');\n",
       "var x = new MutationObserver(function (mutations, observer) {{\n",
       "        var display = window.getComputedStyle(gd).display;\n",
       "        if (!display || display === 'none') {{\n",
       "            console.log([gd, 'removed!']);\n",
       "            Plotly.purge(gd);\n",
       "            observer.disconnect();\n",
       "        }}\n",
       "}});\n",
       "\n",
       "// Listen for the removal of the full notebook cells\n",
       "var notebookContainer = gd.closest('#notebook-container');\n",
       "if (notebookContainer) {{\n",
       "    x.observe(notebookContainer, {childList: true});\n",
       "}}\n",
       "\n",
       "// Listen for the clearing of the current output cell\n",
       "var outputEl = gd.closest('.output');\n",
       "if (outputEl) {{\n",
       "    x.observe(outputEl, {childList: true});\n",
       "}}\n",
       "\n",
       "                        })\n",
       "                };\n",
       "                });\n",
       "            </script>\n",
       "        </div>"
      ]
     },
     "metadata": {},
     "output_type": "display_data"
    }
   ],
   "source": [
    "import plotly.express as px\n",
    "df_unique_venue['cl_str'] = df_unique_venue.cl.apply(str)\n",
    "fig = px.scatter(df_unique_venue, x = 'pc_one', y = 'pc_two', color = 'cl_str', width = 900,\n",
    "                height = 800, hover_name = 'venue_category', template = 'plotly_white',\n",
    "                color_discrete_sequence = px.colors.qualitative.Set1,\n",
    "                title = 'Principal Components Visualization with Cluster Labels')\n",
    "fig.update_layout(xaxis_title = '1st Principal Component', yaxis_title = '2nd Principal Component')\n",
    "fig.show()"
   ]
  },
  {
   "cell_type": "markdown",
   "metadata": {},
   "source": [
    "It can be observed in the plot above that there are still overlap in some clusters but there seems to be some evident topic for each cluster:\n",
    " + Cluster 0 - Nature-related venues (Volcano, Lake, river etc.)\n",
    " + Cluster 1 - Tourist/Vacation amenities (Hotel, Airport Lounge, Bar, Hostel)\n",
    " + Cluster 2 - Restaurants\n",
    " + Cluster 3 - Lifestyle venues\n",
    " + Cluster 4 - City-Related Venues \n",
    " \n",
    " But again, there are still some overlaps in these clusters and ambiguities on how you would classifiy a specific venue."
   ]
  },
  {
   "cell_type": "markdown",
   "metadata": {},
   "source": [
    "## Clustering using DBSCAN"
   ]
  },
  {
   "cell_type": "code",
   "execution_count": 330,
   "metadata": {},
   "outputs": [
    {
     "data": {
      "text/plain": [
       "DBSCAN(algorithm='auto', eps=2, leaf_size=30, metric='euclidean',\n",
       "       metric_params=None, min_samples=2, n_jobs=None, p=None)"
      ]
     },
     "execution_count": 330,
     "metadata": {},
     "output_type": "execute_result"
    }
   ],
   "source": [
    "from sklearn.cluster import DBSCAN\n",
    "from sklearn.cluster import dbscan\n",
    "\n",
    "dbscan = DBSCAN(eps = 2, min_samples = 2) # for now use the default settings\n",
    "dbscan.fit(arr_embed)\n"
   ]
  },
  {
   "cell_type": "code",
   "execution_count": 331,
   "metadata": {},
   "outputs": [
    {
     "data": {
      "text/plain": [
       "array([ 0, -1, -1,  0, -1,  1,  1,  0,  0,  2,  0,  3, -1,  2, -1,  2,  2,\n",
       "        4,  5, -1, -1, -1,  5, -1, -1,  4, -1, -1,  0, -1,  6,  3,  7, -1,\n",
       "       -1, -1, -1, -1,  0,  6, -1,  0, -1, -1,  0,  2,  0, -1,  0,  0, -1,\n",
       "       -1, -1,  0,  0,  0,  0,  0, -1,  2,  2,  2,  0,  0,  0,  0,  0, -1,\n",
       "       -1,  0, -1,  0,  0, -1,  0,  0,  0, -1, -1,  0,  3,  0,  0,  5, -1,\n",
       "       -1, -1,  0,  0, -1,  0,  0,  8,  8, -1,  0, -1,  1,  0,  2, -1,  3,\n",
       "        3,  2,  2,  2,  0,  0,  0, -1,  0,  0,  2, -1,  0,  0, -1, -1, -1,\n",
       "        0, -1,  9,  0,  0,  0, -1, -1,  0, -1, -1, -1, -1, -1,  1, 10, 11,\n",
       "       12, -1, -1,  0, -1, -1, -1, -1,  0, -1,  0,  5,  0, 12, 10, -1, -1,\n",
       "        7, 13, -1, -1, -1, -1, -1,  0, -1, -1,  0, -1, -1,  7, 11,  7, -1,\n",
       "       -1,  5,  0,  0, 13, 13,  7,  7, -1,  0, -1, -1, -1,  2,  2, -1, -1,\n",
       "       -1,  2,  0,  7, -1,  0,  0, -1, 12, -1, -1, -1, -1, -1,  0, -1, -1,\n",
       "        0, -1, -1,  0, 12, -1, -1,  2,  3,  9, -1])"
      ]
     },
     "execution_count": 331,
     "metadata": {},
     "output_type": "execute_result"
    }
   ],
   "source": [
    "dbscan.labels_"
   ]
  },
  {
   "cell_type": "code",
   "execution_count": 332,
   "metadata": {},
   "outputs": [],
   "source": [
    "df_unique_venue['cl_db'] = [str(cl) for cl in dbscan.labels_]"
   ]
  },
  {
   "cell_type": "code",
   "execution_count": 333,
   "metadata": {},
   "outputs": [
    {
     "data": {
      "text/html": [
       "<div>\n",
       "<style scoped>\n",
       "    .dataframe tbody tr th:only-of-type {\n",
       "        vertical-align: middle;\n",
       "    }\n",
       "\n",
       "    .dataframe tbody tr th {\n",
       "        vertical-align: top;\n",
       "    }\n",
       "\n",
       "    .dataframe thead th {\n",
       "        text-align: right;\n",
       "    }\n",
       "</style>\n",
       "<table border=\"1\" class=\"dataframe\">\n",
       "  <thead>\n",
       "    <tr style=\"text-align: right;\">\n",
       "      <th></th>\n",
       "      <th>venue_category</th>\n",
       "      <th>pc_one</th>\n",
       "      <th>pc_two</th>\n",
       "      <th>cl</th>\n",
       "      <th>cl_str</th>\n",
       "      <th>cl_db</th>\n",
       "    </tr>\n",
       "  </thead>\n",
       "  <tbody>\n",
       "    <tr>\n",
       "      <th>0</th>\n",
       "      <td>African Restaurant</td>\n",
       "      <td>0.870509</td>\n",
       "      <td>-0.408605</td>\n",
       "      <td>2</td>\n",
       "      <td>2</td>\n",
       "      <td>0</td>\n",
       "    </tr>\n",
       "    <tr>\n",
       "      <th>1</th>\n",
       "      <td>Airport</td>\n",
       "      <td>-0.605847</td>\n",
       "      <td>-0.281582</td>\n",
       "      <td>4</td>\n",
       "      <td>4</td>\n",
       "      <td>-1</td>\n",
       "    </tr>\n",
       "    <tr>\n",
       "      <th>2</th>\n",
       "      <td>Airport Lounge</td>\n",
       "      <td>0.167911</td>\n",
       "      <td>-0.217812</td>\n",
       "      <td>1</td>\n",
       "      <td>1</td>\n",
       "      <td>-1</td>\n",
       "    </tr>\n",
       "    <tr>\n",
       "      <th>3</th>\n",
       "      <td>American Restaurant</td>\n",
       "      <td>0.871482</td>\n",
       "      <td>-0.416676</td>\n",
       "      <td>2</td>\n",
       "      <td>2</td>\n",
       "      <td>0</td>\n",
       "    </tr>\n",
       "    <tr>\n",
       "      <th>4</th>\n",
       "      <td>Arcade</td>\n",
       "      <td>-0.322276</td>\n",
       "      <td>0.474492</td>\n",
       "      <td>4</td>\n",
       "      <td>4</td>\n",
       "      <td>-1</td>\n",
       "    </tr>\n",
       "  </tbody>\n",
       "</table>\n",
       "</div>"
      ],
      "text/plain": [
       "        venue_category    pc_one    pc_two  cl cl_str cl_db\n",
       "0   African Restaurant  0.870509 -0.408605   2      2     0\n",
       "1              Airport -0.605847 -0.281582   4      4    -1\n",
       "2       Airport Lounge  0.167911 -0.217812   1      1    -1\n",
       "3  American Restaurant  0.871482 -0.416676   2      2     0\n",
       "4               Arcade -0.322276  0.474492   4      4    -1"
      ]
     },
     "execution_count": 333,
     "metadata": {},
     "output_type": "execute_result"
    }
   ],
   "source": [
    "df_unique_venue.head()"
   ]
  },
  {
   "cell_type": "code",
   "execution_count": 334,
   "metadata": {},
   "outputs": [
    {
     "data": {
      "application/vnd.plotly.v1+json": {
       "config": {
        "plotlyServerURL": "https://plot.ly"
       },
       "data": [
        {
         "hoverlabel": {
          "namelength": 0
         },
         "hovertemplate": "<b>%{hovertext}</b><br><br>cl_db=0<br>pc_one=%{x}<br>pc_two=%{y}",
         "hovertext": [
          "African Restaurant",
          "American Restaurant",
          "Arts & Crafts Store",
          "Asian Restaurant",
          "Australian Restaurant",
          "Bubble Tea Shop",
          "Candy Store",
          "Chinese Restaurant",
          "Clothing Store",
          "Coffee Shop",
          "Comfort Food Restaurant",
          "Convenience Store",
          "Cupcake Shop",
          "Deli Bodega",
          "Department Store",
          "Dessert Shop",
          "Dim Sum Restaurant",
          "Donut Shop",
          "Eastern European Restaurant",
          "Electronics Store",
          "Empanada Restaurant",
          "English Restaurant",
          "Fast Food Restaurant",
          "Filipino Restaurant",
          "Fish & Chips Shop",
          "Food",
          "Food & Drink Shop",
          "Food Court",
          "French Restaurant",
          "Frozen Yogurt Shop",
          "Fruit & Vegetable Store",
          "German Restaurant",
          "Gift Shop",
          "Greek Restaurant",
          "Grocery Store",
          "Health Food Store",
          "Hobby Shop",
          "Ice Cream Shop",
          "Indian Restaurant",
          "Indonesian Restaurant",
          "Italian Restaurant",
          "Japanese Restaurant",
          "Kebab Restaurant",
          "Korean Restaurant",
          "Malay Restaurant",
          "Mediterranean Restaurant",
          "Mexican Restaurant",
          "Middle Eastern Restaurant",
          "Modern European Restaurant",
          "New American Restaurant",
          "Other Great Outdoors",
          "Outdoor Event Space",
          "Outdoors & Recreation",
          "Ramen Restaurant",
          "Restaurant",
          "Seafood Restaurant",
          "Shoe Store",
          "Spanish Restaurant",
          "Sushi Restaurant",
          "TexMex Restaurant",
          "Thai Restaurant",
          "Turkish Restaurant",
          "Vietnamese Restaurant",
          "Warehouse Store"
         ],
         "legendgroup": "0",
         "marker": {
          "color": "rgb(228,26,28)",
          "symbol": "circle"
         },
         "mode": "markers",
         "name": "0",
         "showlegend": true,
         "type": "scatter",
         "x": [
          0.8705090880393982,
          0.8714818358421326,
          -0.4798063039779663,
          1.0550721883773804,
          0.8580465316772461,
          -0.20118382573127747,
          -0.1628335565328598,
          0.9863144159317017,
          -0.12352731823921204,
          0.19374212622642517,
          0.5892144441604614,
          0.0016827909275889397,
          0.001978696323931217,
          0.9735812544822693,
          -0.4548938572406769,
          0.14776107668876648,
          0.6141726970672607,
          0.14512555301189423,
          0.28976690769195557,
          -0.23658496141433716,
          1.401517629623413,
          0.9142718315124512,
          0.716178834438324,
          1.1964058876037598,
          -0.2027149200439453,
          0.0665455237030983,
          -0.1067468598484993,
          -0.3366442620754242,
          1.0880919694900513,
          0.14203907549381256,
          -0.17717120051383972,
          0.8783373236656189,
          -0.41074395179748535,
          1.1705104112625122,
          0.3266385793685913,
          -0.204973965883255,
          -0.3202968239784241,
          -0.3318133056163788,
          0.8923298716545105,
          1.104070782661438,
          1.309131145477295,
          1.0113807916641235,
          1.813974380493164,
          0.9943917393684387,
          1.0933688879013062,
          1.1533485651016235,
          1.1533626317977905,
          0.23869436979293823,
          0.3639282286167145,
          0.36839792132377625,
          -0.7408047914505005,
          -0.8649969100952148,
          -0.8284439444541931,
          1.402518391609192,
          2.176386594772339,
          1.667466402053833,
          -0.2910975217819214,
          0.9817632436752319,
          1.7658108472824097,
          1.165769338607788,
          1.2987732887268066,
          1.0470716953277588,
          1.1257221698760986,
          -0.22227711975574493
         ],
         "xaxis": "x",
         "y": [
          -0.40860483050346375,
          -0.41667646169662476,
          0.7465343475341797,
          -0.37719765305519104,
          -0.48559272289276123,
          0.6680328845977783,
          1.1781070232391357,
          -0.39322394132614136,
          1.456299066543579,
          1.0090659856796265,
          0.2067888230085373,
          1.313713788986206,
          1.147933840751648,
          0.3727545738220215,
          0.8770671486854553,
          0.9775972962379456,
          -0.188348650932312,
          1.2068052291870117,
          -0.44088298082351685,
          1.1697062253952026,
          -0.03611842542886734,
          -0.400057315826416,
          0.18765847384929657,
          -0.4847677946090698,
          0.41368359327316284,
          0.7015379071235657,
          0.6510564684867859,
          0.267453134059906,
          -0.3910803198814392,
          0.785083532333374,
          0.799959659576416,
          -0.37565362453460693,
          1.2499374151229858,
          -0.46057814359664917,
          1.5044629573822021,
          0.9135118126869202,
          1.1879355907440186,
          0.6604193449020386,
          -0.5069633722305298,
          -0.522652804851532,
          -0.4612559974193573,
          -0.48865970969200134,
          0.011683819815516472,
          -0.5719831585884094,
          -0.5821323394775391,
          -0.5426563024520874,
          -0.5088479518890381,
          -0.3962888717651367,
          -0.23825514316558838,
          -0.34416499733924866,
          -0.07516518980264664,
          0.05118800327181816,
          0.19949768483638763,
          -0.049373991787433624,
          -0.3228718936443329,
          -0.05375804379582405,
          1.281857967376709,
          -0.44157522916793823,
          -0.07993535697460175,
          -0.3079850375652313,
          -0.5190852880477905,
          -0.49739277362823486,
          -0.5054361820220947,
          1.3383694887161255
         ],
         "yaxis": "y"
        },
        {
         "hoverlabel": {
          "namelength": 0
         },
         "hovertemplate": "<b>%{hovertext}</b><br><br>cl_db=-1<br>pc_one=%{x}<br>pc_two=%{y}",
         "hovertext": [
          "Airport",
          "Airport Lounge",
          "Arcade",
          "Bakery",
          "Bay",
          "Bistro",
          "Boat or Ferry",
          "Bookstore",
          "Bowling Alley",
          "Boxing Gym",
          "Brewery",
          "Bridge",
          "Buffet",
          "Bus Station",
          "Cafeteria",
          "Café",
          "Cajun Creole Restaurant",
          "Campground",
          "Cave",
          "Church",
          "City Hall",
          "College Quad",
          "Convention Center",
          "Cosmetics Shop",
          "Creperie",
          "Diner",
          "Farm",
          "Farmers Market",
          "Field",
          "Flea Market",
          "Fountain",
          "Fraternity House",
          "Gas Station",
          "Gastropub",
          "General Entertainment",
          "Golf Course",
          "Harbor Marina",
          "Historic Site",
          "Hostel",
          "Island",
          "Karaoke Bar",
          "Lake",
          "Lighthouse",
          "Lounge",
          "Market",
          "Miscellaneous Shop",
          "Mobile Phone Shop",
          "Monument Landmark",
          "Motel",
          "Mountain",
          "Movie Theater",
          "Multiplex",
          "Nature Preserve",
          "Neighborhood",
          "Nightclub",
          "Noodle House",
          "Office",
          "Organic Grocery",
          "Other Nightlife",
          "Pharmacy",
          "Pier",
          "Pool",
          "Pub",
          "Public Art",
          "Racetrack",
          "Rafting",
          "Residential Building Apartment Condo",
          "Resort",
          "River",
          "Road",
          "Scenic Lookout",
          "School",
          "Spa",
          "Speakeasy",
          "Spiritual Center",
          "Sporting Goods Shop",
          "Steakhouse",
          "Street Fair",
          "Supermarket",
          "Tea Room",
          "Theater",
          "Toll Plaza",
          "Town",
          "Track Stadium",
          "Trail",
          "Tree",
          "University",
          "Vegetarian Vegan Restaurant",
          "Vineyard",
          "Volcano",
          "Waterfall",
          "Windmill",
          "Zoo"
         ],
         "legendgroup": "-1",
         "marker": {
          "color": "rgb(55,126,184)",
          "symbol": "circle"
         },
         "mode": "markers",
         "name": "-1",
         "showlegend": true,
         "type": "scatter",
         "x": [
          -0.6058467626571655,
          0.16791149973869324,
          -0.3222759962081909,
          1.1449087858200073,
          -0.9020723700523376,
          1.936193585395813,
          -0.5545173287391663,
          0.33981457352638245,
          -0.31113484501838684,
          -0.30650755763053894,
          0.30835551023483276,
          -0.8604215979576111,
          1.081170678138733,
          -0.5786373019218445,
          0.7394660115242004,
          1.433085322380066,
          0.997281014919281,
          -0.34868407249450684,
          -0.796838104724884,
          -0.5276813507080078,
          -0.7867148518562317,
          -0.8822687864303589,
          -0.8348253965377808,
          0.022586500272154808,
          0.8261731863021851,
          1.5480661392211914,
          -0.5585048198699951,
          -0.27027106285095215,
          -1.288575291633606,
          -0.3196008503437042,
          -0.8708860874176025,
          -0.4725755453109741,
          -0.4924406111240387,
          0.8960033059120178,
          -0.5025671124458313,
          -0.60028475522995,
          -0.6200381517410278,
          -0.9036730527877808,
          -0.347636342048645,
          -1.0129870176315308,
          0.8013701438903809,
          -1.1897075176239014,
          -0.6209477782249451,
          0.9416703581809998,
          -0.10873118042945862,
          -0.3912985920906067,
          -0.36898648738861084,
          -0.9243394732475281,
          0.6504727005958557,
          -0.95388263463974,
          -0.14215616881847382,
          -0.5416868925094604,
          -0.9479379057884216,
          -0.38763096928596497,
          1.00860595703125,
          0.17165526747703552,
          -0.6710102558135986,
          0.3025425970554352,
          -0.06513098627328873,
          0.019521700218319893,
          -0.3923432230949402,
          -0.7744757533073425,
          1.2523868083953857,
          -0.7565352916717529,
          -0.4968321621417999,
          -0.2970810830593109,
          -0.3530997335910797,
          0.04739248380064964,
          -1.2536797523498535,
          -0.6823261380195618,
          -0.7633492946624756,
          -0.7134323120117188,
          0.14589405059814453,
          0.3826941251754761,
          -0.8905919790267944,
          -0.3724658191204071,
          2.1805152893066406,
          -0.6734336018562317,
          0.8184121251106262,
          -0.048432186245918274,
          -0.08422189950942993,
          -0.40650442242622375,
          -0.6601548790931702,
          -0.8942096829414368,
          -0.9506586790084839,
          -0.7975934147834778,
          -0.8544310331344604,
          1.1719413995742798,
          -0.33326631784439087,
          -0.3926762640476227,
          -0.834669291973114,
          -0.5510583519935608,
          -0.8763304948806763
         ],
         "xaxis": "x",
         "y": [
          -0.2815819978713989,
          -0.21781198680400848,
          0.4744921624660492,
          0.943769633769989,
          -1.0186774730682373,
          0.031136156991124153,
          -0.40125706791877747,
          1.3051857948303223,
          -0.016992583870887756,
          0.23689846694469452,
          -0.22880111634731293,
          -0.715406596660614,
          -0.10165010392665863,
          0.10860998928546906,
          0.2470422238111496,
          0.25769340991973877,
          -0.495673805475235,
          -0.9650130271911621,
          -0.5651862621307373,
          -0.12445523589849472,
          -0.22007903456687927,
          -0.1802944540977478,
          -0.0816696435213089,
          1.3819228410720825,
          0.23832939565181732,
          0.2446872442960739,
          0.14772053062915802,
          0.41945624351501465,
          -0.13405461609363556,
          0.49884265661239624,
          -0.593288779258728,
          -0.36533528566360474,
          0.01265521626919508,
          0.30805692076683044,
          0.08162426948547363,
          -0.413588285446167,
          -0.956141471862793,
          -0.15227657556533813,
          -0.3332675099372864,
          -1.0106287002563477,
          -0.17326262593269348,
          -1.1980738639831543,
          -0.6696472764015198,
          -0.1540411114692688,
          0.573522686958313,
          0.9651303291320801,
          0.7648740410804749,
          -0.48758432269096375,
          -0.33601874113082886,
          -0.9036776423454285,
          0.2749304473400116,
          -0.4796992540359497,
          -0.3381095826625824,
          0.1100686565041542,
          -0.19539283215999603,
          -0.03289882466197014,
          0.23355633020401,
          0.9547973871231079,
          -0.17525319755077362,
          1.1887487173080444,
          -0.5690709948539734,
          -0.42985033988952637,
          -0.33590996265411377,
          0.07789435237646103,
          -0.39468976855278015,
          -0.7279999256134033,
          -0.13382786512374878,
          -1.0395607948303223,
          -1.286842942237854,
          -0.2304275631904602,
          -0.7825547456741333,
          -0.10100811719894409,
          -0.2250199317932129,
          0.0039689019322395325,
          0.08736564964056015,
          0.8102530241012573,
          -0.41026630997657776,
          0.119293712079525,
          1.2391424179077148,
          -0.009379001334309578,
          0.21838636696338654,
          -0.2630624771118164,
          -0.01984587498009205,
          -0.14010553061962128,
          -0.9206289649009705,
          0.005123913753777742,
          -0.3279423415660858,
          0.14987029135227203,
          -0.5158910751342773,
          -0.7400684356689453,
          -0.8776223063468933,
          -0.42104634642601013,
          -0.1828749030828476
         ],
         "yaxis": "y"
        },
        {
         "hoverlabel": {
          "namelength": 0
         },
         "hovertemplate": "<b>%{hovertext}</b><br><br>cl_db=1<br>pc_one=%{x}<br>pc_two=%{y}",
         "hovertext": [
          "Art Gallery",
          "Art Museum",
          "History Museum",
          "Museum"
         ],
         "legendgroup": "1",
         "marker": {
          "color": "rgb(77,175,74)",
          "symbol": "circle"
         },
         "mode": "markers",
         "name": "1",
         "showlegend": true,
         "type": "scatter",
         "x": [
          -0.48359227180480957,
          -0.8815205097198486,
          -0.9534546136856079,
          -1.0348570346832275
         ],
         "xaxis": "x",
         "y": [
          0.5104634761810303,
          0.38124725222587585,
          0.2804151475429535,
          0.3016638159751892
         ],
         "yaxis": "y"
        },
        {
         "hoverlabel": {
          "namelength": 0
         },
         "hovertemplate": "<b>%{hovertext}</b><br><br>cl_db=2<br>pc_one=%{x}<br>pc_two=%{y}",
         "hovertext": [
          "Athletics & Sports",
          "Bar",
          "Beach",
          "Beach Bar",
          "Cocktail Bar",
          "Dive Bar",
          "Dive Shop",
          "Dive Spot",
          "Hookah Bar",
          "Hotel",
          "Hotel Bar",
          "Hotel Pool",
          "Juice Bar",
          "Sports Bar",
          "Sports Club",
          "Surf Spot",
          "Wine Bar"
         ],
         "legendgroup": "2",
         "marker": {
          "color": "rgb(152,78,163)",
          "symbol": "circle"
         },
         "mode": "markers",
         "name": "2",
         "showlegend": true,
         "type": "scatter",
         "x": [
          -0.7304227948188782,
          0.7094948887825012,
          -0.5444964170455933,
          0.08249922841787338,
          0.6207073926925659,
          0.09453416615724564,
          -0.278581440448761,
          -0.45921024680137634,
          0.7216660976409912,
          0.6737157106399536,
          0.6916054487228394,
          -0.05038011074066162,
          0.306888222694397,
          -0.005438083782792091,
          -0.4288958013057709,
          -0.4276442229747772,
          0.5100935697555542
         ],
         "xaxis": "x",
         "y": [
          0.17073126137256622,
          -0.41750258207321167,
          -1.1317476034164429,
          -0.7746251821517944,
          -0.3237546384334564,
          -0.3512234389781952,
          0.699295163154602,
          0.024949971586465836,
          -0.21790574491024017,
          -0.7302638292312622,
          -0.5738832950592041,
          -0.5800571441650391,
          -0.013983574695885181,
          -0.12059652805328369,
          0.0015031516086310148,
          0.05717436224222183,
          -0.16314829885959625
         ],
         "yaxis": "y"
        },
        {
         "hoverlabel": {
          "namelength": 0
         },
         "hovertemplate": "<b>%{hovertext}</b><br><br>cl_db=3<br>pc_one=%{x}<br>pc_two=%{y}",
         "hovertext": [
          "BBQ Joint",
          "Burger Joint",
          "Fried Chicken Joint",
          "Hot Dog Joint",
          "Hot Spring",
          "Wings Joint"
         ],
         "legendgroup": "3",
         "marker": {
          "color": "rgb(255,127,0)",
          "symbol": "circle"
         },
         "mode": "markers",
         "name": "3",
         "showlegend": true,
         "type": "scatter",
         "x": [
          0.10405069589614868,
          -0.07050596177577972,
          0.0014034840278327465,
          -0.39922159910202026,
          -0.6156249642372131,
          -0.6010409593582153
         ],
         "xaxis": "x",
         "y": [
          -0.17355696856975555,
          -0.20021288096904755,
          -0.0795215368270874,
          -0.17518629133701324,
          -0.10633961111307144,
          -0.21799437701702118
         ],
         "yaxis": "y"
        },
        {
         "hoverlabel": {
          "namelength": 0
         },
         "hovertemplate": "<b>%{hovertext}</b><br><br>cl_db=4<br>pc_one=%{x}<br>pc_two=%{y}",
         "hovertext": [
          "Bed & Breakfast",
          "Breakfast Spot"
         ],
         "legendgroup": "4",
         "marker": {
          "color": "rgb(255,255,51)",
          "symbol": "circle"
         },
         "mode": "markers",
         "name": "4",
         "showlegend": true,
         "type": "scatter",
         "x": [
          -0.22634898126125336,
          -0.06890804320573807
         ],
         "xaxis": "x",
         "y": [
          0.005208608228713274,
          0.11357095092535019
         ],
         "yaxis": "y"
        },
        {
         "hoverlabel": {
          "namelength": 0
         },
         "hovertemplate": "<b>%{hovertext}</b><br><br>cl_db=5<br>pc_one=%{x}<br>pc_two=%{y}",
         "hovertext": [
          "Beer Garden",
          "Botanical Garden",
          "Garden",
          "Outdoor Sculpture",
          "Sculpture Garden"
         ],
         "legendgroup": "5",
         "marker": {
          "color": "rgb(166,86,40)",
          "symbol": "circle"
         },
         "mode": "markers",
         "name": "5",
         "showlegend": true,
         "type": "scatter",
         "x": [
          -0.2110690176486969,
          -0.6004793643951416,
          -0.5995329022407532,
          -1.0930445194244385,
          -0.8809735178947449
         ],
         "xaxis": "x",
         "y": [
          0.11479688435792923,
          0.1078084260225296,
          0.09423588216304779,
          -0.0014864971162751317,
          0.042213328182697296
         ],
         "yaxis": "y"
        },
        {
         "hoverlabel": {
          "namelength": 0
         },
         "hovertemplate": "<b>%{hovertext}</b><br><br>cl_db=6<br>pc_one=%{x}<br>pc_two=%{y}",
         "hovertext": [
          "Building",
          "Capitol Building"
         ],
         "legendgroup": "6",
         "marker": {
          "color": "rgb(247,129,191)",
          "symbol": "circle"
         },
         "mode": "markers",
         "name": "6",
         "showlegend": true,
         "type": "scatter",
         "x": [
          -0.7650105953216553,
          -0.8047744631767273
         ],
         "xaxis": "x",
         "y": [
          0.1312870979309082,
          -0.10327261686325073
         ],
         "yaxis": "y"
        },
        {
         "hoverlabel": {
          "namelength": 0
         },
         "hovertemplate": "<b>%{hovertext}</b><br><br>cl_db=7<br>pc_one=%{x}<br>pc_two=%{y}",
         "hovertext": [
          "Burrito Place",
          "Pizza Place",
          "Salad Place",
          "Sandwich Place",
          "Snack Place",
          "Soup Place",
          "Taco Place"
         ],
         "legendgroup": "7",
         "marker": {
          "color": "rgb(153,153,153)",
          "symbol": "circle"
         },
         "mode": "markers",
         "name": "7",
         "showlegend": true,
         "type": "scatter",
         "x": [
          0.47945404052734375,
          0.5940848588943481,
          0.3803347647190094,
          -0.0718020498752594,
          0.03234058618545532,
          -0.014850769191980362,
          0.29676809906959534
         ],
         "xaxis": "x",
         "y": [
          0.18841814994812012,
          0.2174915373325348,
          0.10517992824316025,
          -0.0386076457798481,
          0.38033565878868103,
          0.24608822166919708,
          0.07766438275575638
         ],
         "yaxis": "y"
        },
        {
         "hoverlabel": {
          "namelength": 0
         },
         "hovertemplate": "<b>%{hovertext}</b><br><br>cl_db=8<br>pc_one=%{x}<br>pc_two=%{y}",
         "hovertext": [
          "Gym",
          "Gym Fitness Center"
         ],
         "legendgroup": "8",
         "marker": {
          "color": "rgb(228,26,28)",
          "symbol": "circle"
         },
         "mode": "markers",
         "name": "8",
         "showlegend": true,
         "type": "scatter",
         "x": [
          -0.36320143938064575,
          -0.5410509705543518
         ],
         "xaxis": "x",
         "y": [
          0.3919229805469513,
          0.3751065731048584
         ],
         "yaxis": "y"
        },
        {
         "hoverlabel": {
          "namelength": 0
         },
         "hovertemplate": "<b>%{hovertext}</b><br><br>cl_db=9<br>pc_one=%{x}<br>pc_two=%{y}",
         "hovertext": [
          "Massage Studio",
          "Yoga Studio"
         ],
         "legendgroup": "9",
         "marker": {
          "color": "rgb(55,126,184)",
          "symbol": "circle"
         },
         "mode": "markers",
         "name": "9",
         "showlegend": true,
         "type": "scatter",
         "x": [
          -0.16300265491008759,
          -0.3943922817707062
         ],
         "xaxis": "x",
         "y": [
          0.3767271637916565,
          0.30031391978263855
         ],
         "yaxis": "y"
        },
        {
         "hoverlabel": {
          "namelength": 0
         },
         "hovertemplate": "<b>%{hovertext}</b><br><br>cl_db=10<br>pc_one=%{x}<br>pc_two=%{y}",
         "hovertext": [
          "Music Venue",
          "Performing Arts Venue"
         ],
         "legendgroup": "10",
         "marker": {
          "color": "rgb(77,175,74)",
          "symbol": "circle"
         },
         "mode": "markers",
         "name": "10",
         "showlegend": true,
         "type": "scatter",
         "x": [
          -0.238851398229599,
          -0.47023141384124756
         ],
         "xaxis": "x",
         "y": [
          0.10529323667287827,
          0.007588363252580166
         ],
         "yaxis": "y"
        },
        {
         "hoverlabel": {
          "namelength": 0
         },
         "hovertemplate": "<b>%{hovertext}</b><br><br>cl_db=11<br>pc_one=%{x}<br>pc_two=%{y}",
         "hovertext": [
          "Nail Salon",
          "Salon Barbershop"
         ],
         "legendgroup": "11",
         "marker": {
          "color": "rgb(152,78,163)",
          "symbol": "circle"
         },
         "mode": "markers",
         "name": "11",
         "showlegend": true,
         "type": "scatter",
         "x": [
          -0.07659390568733215,
          0.373556524515152
         ],
         "xaxis": "x",
         "y": [
          0.39083102345466614,
          0.5866448283195496
         ],
         "yaxis": "y"
        },
        {
         "hoverlabel": {
          "namelength": 0
         },
         "hovertemplate": "<b>%{hovertext}</b><br><br>cl_db=12<br>pc_one=%{x}<br>pc_two=%{y}",
         "hovertext": [
          "National Park",
          "Park",
          "Theme Park",
          "Water Park"
         ],
         "legendgroup": "12",
         "marker": {
          "color": "rgb(255,127,0)",
          "symbol": "circle"
         },
         "mode": "markers",
         "name": "12",
         "showlegend": true,
         "type": "scatter",
         "x": [
          -1.0495641231536865,
          -1.1581565141677856,
          -0.8948999643325806,
          -1.0187816619873047
         ],
         "xaxis": "x",
         "y": [
          -0.6120592355728149,
          -0.7403365969657898,
          -0.40518760681152344,
          -0.5892465114593506
         ],
         "yaxis": "y"
        },
        {
         "hoverlabel": {
          "namelength": 0
         },
         "hovertemplate": "<b>%{hovertext}</b><br><br>cl_db=13<br>pc_one=%{x}<br>pc_two=%{y}",
         "hovertext": [
          "Plaza",
          "Shopping Mall",
          "Shopping Plaza"
         ],
         "legendgroup": "13",
         "marker": {
          "color": "rgb(255,255,51)",
          "symbol": "circle"
         },
         "mode": "markers",
         "name": "13",
         "showlegend": true,
         "type": "scatter",
         "x": [
          -0.14646415412425995,
          -0.49121224880218506,
          -0.33452922105789185
         ],
         "xaxis": "x",
         "y": [
          0.066492460668087,
          0.8055682182312012,
          0.6102249026298523
         ],
         "yaxis": "y"
        }
       ],
       "layout": {
        "height": 800,
        "legend": {
         "title": {
          "text": "cl_db"
         },
         "tracegroupgap": 0
        },
        "template": {
         "data": {
          "bar": [
           {
            "error_x": {
             "color": "#2a3f5f"
            },
            "error_y": {
             "color": "#2a3f5f"
            },
            "marker": {
             "line": {
              "color": "white",
              "width": 0.5
             }
            },
            "type": "bar"
           }
          ],
          "barpolar": [
           {
            "marker": {
             "line": {
              "color": "white",
              "width": 0.5
             }
            },
            "type": "barpolar"
           }
          ],
          "carpet": [
           {
            "aaxis": {
             "endlinecolor": "#2a3f5f",
             "gridcolor": "#C8D4E3",
             "linecolor": "#C8D4E3",
             "minorgridcolor": "#C8D4E3",
             "startlinecolor": "#2a3f5f"
            },
            "baxis": {
             "endlinecolor": "#2a3f5f",
             "gridcolor": "#C8D4E3",
             "linecolor": "#C8D4E3",
             "minorgridcolor": "#C8D4E3",
             "startlinecolor": "#2a3f5f"
            },
            "type": "carpet"
           }
          ],
          "choropleth": [
           {
            "colorbar": {
             "outlinewidth": 0,
             "ticks": ""
            },
            "type": "choropleth"
           }
          ],
          "contour": [
           {
            "colorbar": {
             "outlinewidth": 0,
             "ticks": ""
            },
            "colorscale": [
             [
              0,
              "#0d0887"
             ],
             [
              0.1111111111111111,
              "#46039f"
             ],
             [
              0.2222222222222222,
              "#7201a8"
             ],
             [
              0.3333333333333333,
              "#9c179e"
             ],
             [
              0.4444444444444444,
              "#bd3786"
             ],
             [
              0.5555555555555556,
              "#d8576b"
             ],
             [
              0.6666666666666666,
              "#ed7953"
             ],
             [
              0.7777777777777778,
              "#fb9f3a"
             ],
             [
              0.8888888888888888,
              "#fdca26"
             ],
             [
              1,
              "#f0f921"
             ]
            ],
            "type": "contour"
           }
          ],
          "contourcarpet": [
           {
            "colorbar": {
             "outlinewidth": 0,
             "ticks": ""
            },
            "type": "contourcarpet"
           }
          ],
          "heatmap": [
           {
            "colorbar": {
             "outlinewidth": 0,
             "ticks": ""
            },
            "colorscale": [
             [
              0,
              "#0d0887"
             ],
             [
              0.1111111111111111,
              "#46039f"
             ],
             [
              0.2222222222222222,
              "#7201a8"
             ],
             [
              0.3333333333333333,
              "#9c179e"
             ],
             [
              0.4444444444444444,
              "#bd3786"
             ],
             [
              0.5555555555555556,
              "#d8576b"
             ],
             [
              0.6666666666666666,
              "#ed7953"
             ],
             [
              0.7777777777777778,
              "#fb9f3a"
             ],
             [
              0.8888888888888888,
              "#fdca26"
             ],
             [
              1,
              "#f0f921"
             ]
            ],
            "type": "heatmap"
           }
          ],
          "heatmapgl": [
           {
            "colorbar": {
             "outlinewidth": 0,
             "ticks": ""
            },
            "colorscale": [
             [
              0,
              "#0d0887"
             ],
             [
              0.1111111111111111,
              "#46039f"
             ],
             [
              0.2222222222222222,
              "#7201a8"
             ],
             [
              0.3333333333333333,
              "#9c179e"
             ],
             [
              0.4444444444444444,
              "#bd3786"
             ],
             [
              0.5555555555555556,
              "#d8576b"
             ],
             [
              0.6666666666666666,
              "#ed7953"
             ],
             [
              0.7777777777777778,
              "#fb9f3a"
             ],
             [
              0.8888888888888888,
              "#fdca26"
             ],
             [
              1,
              "#f0f921"
             ]
            ],
            "type": "heatmapgl"
           }
          ],
          "histogram": [
           {
            "marker": {
             "colorbar": {
              "outlinewidth": 0,
              "ticks": ""
             }
            },
            "type": "histogram"
           }
          ],
          "histogram2d": [
           {
            "colorbar": {
             "outlinewidth": 0,
             "ticks": ""
            },
            "colorscale": [
             [
              0,
              "#0d0887"
             ],
             [
              0.1111111111111111,
              "#46039f"
             ],
             [
              0.2222222222222222,
              "#7201a8"
             ],
             [
              0.3333333333333333,
              "#9c179e"
             ],
             [
              0.4444444444444444,
              "#bd3786"
             ],
             [
              0.5555555555555556,
              "#d8576b"
             ],
             [
              0.6666666666666666,
              "#ed7953"
             ],
             [
              0.7777777777777778,
              "#fb9f3a"
             ],
             [
              0.8888888888888888,
              "#fdca26"
             ],
             [
              1,
              "#f0f921"
             ]
            ],
            "type": "histogram2d"
           }
          ],
          "histogram2dcontour": [
           {
            "colorbar": {
             "outlinewidth": 0,
             "ticks": ""
            },
            "colorscale": [
             [
              0,
              "#0d0887"
             ],
             [
              0.1111111111111111,
              "#46039f"
             ],
             [
              0.2222222222222222,
              "#7201a8"
             ],
             [
              0.3333333333333333,
              "#9c179e"
             ],
             [
              0.4444444444444444,
              "#bd3786"
             ],
             [
              0.5555555555555556,
              "#d8576b"
             ],
             [
              0.6666666666666666,
              "#ed7953"
             ],
             [
              0.7777777777777778,
              "#fb9f3a"
             ],
             [
              0.8888888888888888,
              "#fdca26"
             ],
             [
              1,
              "#f0f921"
             ]
            ],
            "type": "histogram2dcontour"
           }
          ],
          "mesh3d": [
           {
            "colorbar": {
             "outlinewidth": 0,
             "ticks": ""
            },
            "type": "mesh3d"
           }
          ],
          "parcoords": [
           {
            "line": {
             "colorbar": {
              "outlinewidth": 0,
              "ticks": ""
             }
            },
            "type": "parcoords"
           }
          ],
          "pie": [
           {
            "automargin": true,
            "type": "pie"
           }
          ],
          "scatter": [
           {
            "marker": {
             "colorbar": {
              "outlinewidth": 0,
              "ticks": ""
             }
            },
            "type": "scatter"
           }
          ],
          "scatter3d": [
           {
            "line": {
             "colorbar": {
              "outlinewidth": 0,
              "ticks": ""
             }
            },
            "marker": {
             "colorbar": {
              "outlinewidth": 0,
              "ticks": ""
             }
            },
            "type": "scatter3d"
           }
          ],
          "scattercarpet": [
           {
            "marker": {
             "colorbar": {
              "outlinewidth": 0,
              "ticks": ""
             }
            },
            "type": "scattercarpet"
           }
          ],
          "scattergeo": [
           {
            "marker": {
             "colorbar": {
              "outlinewidth": 0,
              "ticks": ""
             }
            },
            "type": "scattergeo"
           }
          ],
          "scattergl": [
           {
            "marker": {
             "colorbar": {
              "outlinewidth": 0,
              "ticks": ""
             }
            },
            "type": "scattergl"
           }
          ],
          "scattermapbox": [
           {
            "marker": {
             "colorbar": {
              "outlinewidth": 0,
              "ticks": ""
             }
            },
            "type": "scattermapbox"
           }
          ],
          "scatterpolar": [
           {
            "marker": {
             "colorbar": {
              "outlinewidth": 0,
              "ticks": ""
             }
            },
            "type": "scatterpolar"
           }
          ],
          "scatterpolargl": [
           {
            "marker": {
             "colorbar": {
              "outlinewidth": 0,
              "ticks": ""
             }
            },
            "type": "scatterpolargl"
           }
          ],
          "scatterternary": [
           {
            "marker": {
             "colorbar": {
              "outlinewidth": 0,
              "ticks": ""
             }
            },
            "type": "scatterternary"
           }
          ],
          "surface": [
           {
            "colorbar": {
             "outlinewidth": 0,
             "ticks": ""
            },
            "colorscale": [
             [
              0,
              "#0d0887"
             ],
             [
              0.1111111111111111,
              "#46039f"
             ],
             [
              0.2222222222222222,
              "#7201a8"
             ],
             [
              0.3333333333333333,
              "#9c179e"
             ],
             [
              0.4444444444444444,
              "#bd3786"
             ],
             [
              0.5555555555555556,
              "#d8576b"
             ],
             [
              0.6666666666666666,
              "#ed7953"
             ],
             [
              0.7777777777777778,
              "#fb9f3a"
             ],
             [
              0.8888888888888888,
              "#fdca26"
             ],
             [
              1,
              "#f0f921"
             ]
            ],
            "type": "surface"
           }
          ],
          "table": [
           {
            "cells": {
             "fill": {
              "color": "#EBF0F8"
             },
             "line": {
              "color": "white"
             }
            },
            "header": {
             "fill": {
              "color": "#C8D4E3"
             },
             "line": {
              "color": "white"
             }
            },
            "type": "table"
           }
          ]
         },
         "layout": {
          "annotationdefaults": {
           "arrowcolor": "#2a3f5f",
           "arrowhead": 0,
           "arrowwidth": 1
          },
          "coloraxis": {
           "colorbar": {
            "outlinewidth": 0,
            "ticks": ""
           }
          },
          "colorscale": {
           "diverging": [
            [
             0,
             "#8e0152"
            ],
            [
             0.1,
             "#c51b7d"
            ],
            [
             0.2,
             "#de77ae"
            ],
            [
             0.3,
             "#f1b6da"
            ],
            [
             0.4,
             "#fde0ef"
            ],
            [
             0.5,
             "#f7f7f7"
            ],
            [
             0.6,
             "#e6f5d0"
            ],
            [
             0.7,
             "#b8e186"
            ],
            [
             0.8,
             "#7fbc41"
            ],
            [
             0.9,
             "#4d9221"
            ],
            [
             1,
             "#276419"
            ]
           ],
           "sequential": [
            [
             0,
             "#0d0887"
            ],
            [
             0.1111111111111111,
             "#46039f"
            ],
            [
             0.2222222222222222,
             "#7201a8"
            ],
            [
             0.3333333333333333,
             "#9c179e"
            ],
            [
             0.4444444444444444,
             "#bd3786"
            ],
            [
             0.5555555555555556,
             "#d8576b"
            ],
            [
             0.6666666666666666,
             "#ed7953"
            ],
            [
             0.7777777777777778,
             "#fb9f3a"
            ],
            [
             0.8888888888888888,
             "#fdca26"
            ],
            [
             1,
             "#f0f921"
            ]
           ],
           "sequentialminus": [
            [
             0,
             "#0d0887"
            ],
            [
             0.1111111111111111,
             "#46039f"
            ],
            [
             0.2222222222222222,
             "#7201a8"
            ],
            [
             0.3333333333333333,
             "#9c179e"
            ],
            [
             0.4444444444444444,
             "#bd3786"
            ],
            [
             0.5555555555555556,
             "#d8576b"
            ],
            [
             0.6666666666666666,
             "#ed7953"
            ],
            [
             0.7777777777777778,
             "#fb9f3a"
            ],
            [
             0.8888888888888888,
             "#fdca26"
            ],
            [
             1,
             "#f0f921"
            ]
           ]
          },
          "colorway": [
           "#636efa",
           "#EF553B",
           "#00cc96",
           "#ab63fa",
           "#FFA15A",
           "#19d3f3",
           "#FF6692",
           "#B6E880",
           "#FF97FF",
           "#FECB52"
          ],
          "font": {
           "color": "#2a3f5f"
          },
          "geo": {
           "bgcolor": "white",
           "lakecolor": "white",
           "landcolor": "white",
           "showlakes": true,
           "showland": true,
           "subunitcolor": "#C8D4E3"
          },
          "hoverlabel": {
           "align": "left"
          },
          "hovermode": "closest",
          "mapbox": {
           "style": "light"
          },
          "paper_bgcolor": "white",
          "plot_bgcolor": "white",
          "polar": {
           "angularaxis": {
            "gridcolor": "#EBF0F8",
            "linecolor": "#EBF0F8",
            "ticks": ""
           },
           "bgcolor": "white",
           "radialaxis": {
            "gridcolor": "#EBF0F8",
            "linecolor": "#EBF0F8",
            "ticks": ""
           }
          },
          "scene": {
           "xaxis": {
            "backgroundcolor": "white",
            "gridcolor": "#DFE8F3",
            "gridwidth": 2,
            "linecolor": "#EBF0F8",
            "showbackground": true,
            "ticks": "",
            "zerolinecolor": "#EBF0F8"
           },
           "yaxis": {
            "backgroundcolor": "white",
            "gridcolor": "#DFE8F3",
            "gridwidth": 2,
            "linecolor": "#EBF0F8",
            "showbackground": true,
            "ticks": "",
            "zerolinecolor": "#EBF0F8"
           },
           "zaxis": {
            "backgroundcolor": "white",
            "gridcolor": "#DFE8F3",
            "gridwidth": 2,
            "linecolor": "#EBF0F8",
            "showbackground": true,
            "ticks": "",
            "zerolinecolor": "#EBF0F8"
           }
          },
          "shapedefaults": {
           "line": {
            "color": "#2a3f5f"
           }
          },
          "ternary": {
           "aaxis": {
            "gridcolor": "#DFE8F3",
            "linecolor": "#A2B1C6",
            "ticks": ""
           },
           "baxis": {
            "gridcolor": "#DFE8F3",
            "linecolor": "#A2B1C6",
            "ticks": ""
           },
           "bgcolor": "white",
           "caxis": {
            "gridcolor": "#DFE8F3",
            "linecolor": "#A2B1C6",
            "ticks": ""
           }
          },
          "title": {
           "x": 0.05
          },
          "xaxis": {
           "automargin": true,
           "gridcolor": "#EBF0F8",
           "linecolor": "#EBF0F8",
           "ticks": "",
           "title": {
            "standoff": 15
           },
           "zerolinecolor": "#EBF0F8",
           "zerolinewidth": 2
          },
          "yaxis": {
           "automargin": true,
           "gridcolor": "#EBF0F8",
           "linecolor": "#EBF0F8",
           "ticks": "",
           "title": {
            "standoff": 15
           },
           "zerolinecolor": "#EBF0F8",
           "zerolinewidth": 2
          }
         }
        },
        "title": {
         "text": "Principal Components Visualization with Cluster Labels (DBSCAN)"
        },
        "width": 900,
        "xaxis": {
         "anchor": "y",
         "domain": [
          0,
          1
         ],
         "title": {
          "text": "1st Principal Component"
         }
        },
        "yaxis": {
         "anchor": "x",
         "domain": [
          0,
          1
         ],
         "title": {
          "text": "2nd Principal Component"
         }
        }
       }
      },
      "text/html": [
       "<div>\n",
       "        \n",
       "        \n",
       "            <div id=\"ee0c7652-2dc9-42fc-a097-6eb7eebdadd0\" class=\"plotly-graph-div\" style=\"height:800px; width:900px;\"></div>\n",
       "            <script type=\"text/javascript\">\n",
       "                require([\"plotly\"], function(Plotly) {\n",
       "                    window.PLOTLYENV=window.PLOTLYENV || {};\n",
       "                    \n",
       "                if (document.getElementById(\"ee0c7652-2dc9-42fc-a097-6eb7eebdadd0\")) {\n",
       "                    Plotly.newPlot(\n",
       "                        'ee0c7652-2dc9-42fc-a097-6eb7eebdadd0',\n",
       "                        [{\"hoverlabel\": {\"namelength\": 0}, \"hovertemplate\": \"<b>%{hovertext}</b><br><br>cl_db=0<br>pc_one=%{x}<br>pc_two=%{y}\", \"hovertext\": [\"African Restaurant\", \"American Restaurant\", \"Arts & Crafts Store\", \"Asian Restaurant\", \"Australian Restaurant\", \"Bubble Tea Shop\", \"Candy Store\", \"Chinese Restaurant\", \"Clothing Store\", \"Coffee Shop\", \"Comfort Food Restaurant\", \"Convenience Store\", \"Cupcake Shop\", \"Deli Bodega\", \"Department Store\", \"Dessert Shop\", \"Dim Sum Restaurant\", \"Donut Shop\", \"Eastern European Restaurant\", \"Electronics Store\", \"Empanada Restaurant\", \"English Restaurant\", \"Fast Food Restaurant\", \"Filipino Restaurant\", \"Fish & Chips Shop\", \"Food\", \"Food & Drink Shop\", \"Food Court\", \"French Restaurant\", \"Frozen Yogurt Shop\", \"Fruit & Vegetable Store\", \"German Restaurant\", \"Gift Shop\", \"Greek Restaurant\", \"Grocery Store\", \"Health Food Store\", \"Hobby Shop\", \"Ice Cream Shop\", \"Indian Restaurant\", \"Indonesian Restaurant\", \"Italian Restaurant\", \"Japanese Restaurant\", \"Kebab Restaurant\", \"Korean Restaurant\", \"Malay Restaurant\", \"Mediterranean Restaurant\", \"Mexican Restaurant\", \"Middle Eastern Restaurant\", \"Modern European Restaurant\", \"New American Restaurant\", \"Other Great Outdoors\", \"Outdoor Event Space\", \"Outdoors & Recreation\", \"Ramen Restaurant\", \"Restaurant\", \"Seafood Restaurant\", \"Shoe Store\", \"Spanish Restaurant\", \"Sushi Restaurant\", \"TexMex Restaurant\", \"Thai Restaurant\", \"Turkish Restaurant\", \"Vietnamese Restaurant\", \"Warehouse Store\"], \"legendgroup\": \"0\", \"marker\": {\"color\": \"rgb(228,26,28)\", \"symbol\": \"circle\"}, \"mode\": \"markers\", \"name\": \"0\", \"showlegend\": true, \"type\": \"scatter\", \"x\": [0.8705090880393982, 0.8714818358421326, -0.4798063039779663, 1.0550721883773804, 0.8580465316772461, -0.20118382573127747, -0.1628335565328598, 0.9863144159317017, -0.12352731823921204, 0.19374212622642517, 0.5892144441604614, 0.0016827909275889397, 0.001978696323931217, 0.9735812544822693, -0.4548938572406769, 0.14776107668876648, 0.6141726970672607, 0.14512555301189423, 0.28976690769195557, -0.23658496141433716, 1.401517629623413, 0.9142718315124512, 0.716178834438324, 1.1964058876037598, -0.2027149200439453, 0.0665455237030983, -0.1067468598484993, -0.3366442620754242, 1.0880919694900513, 0.14203907549381256, -0.17717120051383972, 0.8783373236656189, -0.41074395179748535, 1.1705104112625122, 0.3266385793685913, -0.204973965883255, -0.3202968239784241, -0.3318133056163788, 0.8923298716545105, 1.104070782661438, 1.309131145477295, 1.0113807916641235, 1.813974380493164, 0.9943917393684387, 1.0933688879013062, 1.1533485651016235, 1.1533626317977905, 0.23869436979293823, 0.3639282286167145, 0.36839792132377625, -0.7408047914505005, -0.8649969100952148, -0.8284439444541931, 1.402518391609192, 2.176386594772339, 1.667466402053833, -0.2910975217819214, 0.9817632436752319, 1.7658108472824097, 1.165769338607788, 1.2987732887268066, 1.0470716953277588, 1.1257221698760986, -0.22227711975574493], \"xaxis\": \"x\", \"y\": [-0.40860483050346375, -0.41667646169662476, 0.7465343475341797, -0.37719765305519104, -0.48559272289276123, 0.6680328845977783, 1.1781070232391357, -0.39322394132614136, 1.456299066543579, 1.0090659856796265, 0.2067888230085373, 1.313713788986206, 1.147933840751648, 0.3727545738220215, 0.8770671486854553, 0.9775972962379456, -0.188348650932312, 1.2068052291870117, -0.44088298082351685, 1.1697062253952026, -0.03611842542886734, -0.400057315826416, 0.18765847384929657, -0.4847677946090698, 0.41368359327316284, 0.7015379071235657, 0.6510564684867859, 0.267453134059906, -0.3910803198814392, 0.785083532333374, 0.799959659576416, -0.37565362453460693, 1.2499374151229858, -0.46057814359664917, 1.5044629573822021, 0.9135118126869202, 1.1879355907440186, 0.6604193449020386, -0.5069633722305298, -0.522652804851532, -0.4612559974193573, -0.48865970969200134, 0.011683819815516472, -0.5719831585884094, -0.5821323394775391, -0.5426563024520874, -0.5088479518890381, -0.3962888717651367, -0.23825514316558838, -0.34416499733924866, -0.07516518980264664, 0.05118800327181816, 0.19949768483638763, -0.049373991787433624, -0.3228718936443329, -0.05375804379582405, 1.281857967376709, -0.44157522916793823, -0.07993535697460175, -0.3079850375652313, -0.5190852880477905, -0.49739277362823486, -0.5054361820220947, 1.3383694887161255], \"yaxis\": \"y\"}, {\"hoverlabel\": {\"namelength\": 0}, \"hovertemplate\": \"<b>%{hovertext}</b><br><br>cl_db=-1<br>pc_one=%{x}<br>pc_two=%{y}\", \"hovertext\": [\"Airport\", \"Airport Lounge\", \"Arcade\", \"Bakery\", \"Bay\", \"Bistro\", \"Boat or Ferry\", \"Bookstore\", \"Bowling Alley\", \"Boxing Gym\", \"Brewery\", \"Bridge\", \"Buffet\", \"Bus Station\", \"Cafeteria\", \"Caf\\u00e9\", \"Cajun Creole Restaurant\", \"Campground\", \"Cave\", \"Church\", \"City Hall\", \"College Quad\", \"Convention Center\", \"Cosmetics Shop\", \"Creperie\", \"Diner\", \"Farm\", \"Farmers Market\", \"Field\", \"Flea Market\", \"Fountain\", \"Fraternity House\", \"Gas Station\", \"Gastropub\", \"General Entertainment\", \"Golf Course\", \"Harbor Marina\", \"Historic Site\", \"Hostel\", \"Island\", \"Karaoke Bar\", \"Lake\", \"Lighthouse\", \"Lounge\", \"Market\", \"Miscellaneous Shop\", \"Mobile Phone Shop\", \"Monument Landmark\", \"Motel\", \"Mountain\", \"Movie Theater\", \"Multiplex\", \"Nature Preserve\", \"Neighborhood\", \"Nightclub\", \"Noodle House\", \"Office\", \"Organic Grocery\", \"Other Nightlife\", \"Pharmacy\", \"Pier\", \"Pool\", \"Pub\", \"Public Art\", \"Racetrack\", \"Rafting\", \"Residential Building Apartment Condo\", \"Resort\", \"River\", \"Road\", \"Scenic Lookout\", \"School\", \"Spa\", \"Speakeasy\", \"Spiritual Center\", \"Sporting Goods Shop\", \"Steakhouse\", \"Street Fair\", \"Supermarket\", \"Tea Room\", \"Theater\", \"Toll Plaza\", \"Town\", \"Track Stadium\", \"Trail\", \"Tree\", \"University\", \"Vegetarian Vegan Restaurant\", \"Vineyard\", \"Volcano\", \"Waterfall\", \"Windmill\", \"Zoo\"], \"legendgroup\": \"-1\", \"marker\": {\"color\": \"rgb(55,126,184)\", \"symbol\": \"circle\"}, \"mode\": \"markers\", \"name\": \"-1\", \"showlegend\": true, \"type\": \"scatter\", \"x\": [-0.6058467626571655, 0.16791149973869324, -0.3222759962081909, 1.1449087858200073, -0.9020723700523376, 1.936193585395813, -0.5545173287391663, 0.33981457352638245, -0.31113484501838684, -0.30650755763053894, 0.30835551023483276, -0.8604215979576111, 1.081170678138733, -0.5786373019218445, 0.7394660115242004, 1.433085322380066, 0.997281014919281, -0.34868407249450684, -0.796838104724884, -0.5276813507080078, -0.7867148518562317, -0.8822687864303589, -0.8348253965377808, 0.022586500272154808, 0.8261731863021851, 1.5480661392211914, -0.5585048198699951, -0.27027106285095215, -1.288575291633606, -0.3196008503437042, -0.8708860874176025, -0.4725755453109741, -0.4924406111240387, 0.8960033059120178, -0.5025671124458313, -0.60028475522995, -0.6200381517410278, -0.9036730527877808, -0.347636342048645, -1.0129870176315308, 0.8013701438903809, -1.1897075176239014, -0.6209477782249451, 0.9416703581809998, -0.10873118042945862, -0.3912985920906067, -0.36898648738861084, -0.9243394732475281, 0.6504727005958557, -0.95388263463974, -0.14215616881847382, -0.5416868925094604, -0.9479379057884216, -0.38763096928596497, 1.00860595703125, 0.17165526747703552, -0.6710102558135986, 0.3025425970554352, -0.06513098627328873, 0.019521700218319893, -0.3923432230949402, -0.7744757533073425, 1.2523868083953857, -0.7565352916717529, -0.4968321621417999, -0.2970810830593109, -0.3530997335910797, 0.04739248380064964, -1.2536797523498535, -0.6823261380195618, -0.7633492946624756, -0.7134323120117188, 0.14589405059814453, 0.3826941251754761, -0.8905919790267944, -0.3724658191204071, 2.1805152893066406, -0.6734336018562317, 0.8184121251106262, -0.048432186245918274, -0.08422189950942993, -0.40650442242622375, -0.6601548790931702, -0.8942096829414368, -0.9506586790084839, -0.7975934147834778, -0.8544310331344604, 1.1719413995742798, -0.33326631784439087, -0.3926762640476227, -0.834669291973114, -0.5510583519935608, -0.8763304948806763], \"xaxis\": \"x\", \"y\": [-0.2815819978713989, -0.21781198680400848, 0.4744921624660492, 0.943769633769989, -1.0186774730682373, 0.031136156991124153, -0.40125706791877747, 1.3051857948303223, -0.016992583870887756, 0.23689846694469452, -0.22880111634731293, -0.715406596660614, -0.10165010392665863, 0.10860998928546906, 0.2470422238111496, 0.25769340991973877, -0.495673805475235, -0.9650130271911621, -0.5651862621307373, -0.12445523589849472, -0.22007903456687927, -0.1802944540977478, -0.0816696435213089, 1.3819228410720825, 0.23832939565181732, 0.2446872442960739, 0.14772053062915802, 0.41945624351501465, -0.13405461609363556, 0.49884265661239624, -0.593288779258728, -0.36533528566360474, 0.01265521626919508, 0.30805692076683044, 0.08162426948547363, -0.413588285446167, -0.956141471862793, -0.15227657556533813, -0.3332675099372864, -1.0106287002563477, -0.17326262593269348, -1.1980738639831543, -0.6696472764015198, -0.1540411114692688, 0.573522686958313, 0.9651303291320801, 0.7648740410804749, -0.48758432269096375, -0.33601874113082886, -0.9036776423454285, 0.2749304473400116, -0.4796992540359497, -0.3381095826625824, 0.1100686565041542, -0.19539283215999603, -0.03289882466197014, 0.23355633020401, 0.9547973871231079, -0.17525319755077362, 1.1887487173080444, -0.5690709948539734, -0.42985033988952637, -0.33590996265411377, 0.07789435237646103, -0.39468976855278015, -0.7279999256134033, -0.13382786512374878, -1.0395607948303223, -1.286842942237854, -0.2304275631904602, -0.7825547456741333, -0.10100811719894409, -0.2250199317932129, 0.0039689019322395325, 0.08736564964056015, 0.8102530241012573, -0.41026630997657776, 0.119293712079525, 1.2391424179077148, -0.009379001334309578, 0.21838636696338654, -0.2630624771118164, -0.01984587498009205, -0.14010553061962128, -0.9206289649009705, 0.005123913753777742, -0.3279423415660858, 0.14987029135227203, -0.5158910751342773, -0.7400684356689453, -0.8776223063468933, -0.42104634642601013, -0.1828749030828476], \"yaxis\": \"y\"}, {\"hoverlabel\": {\"namelength\": 0}, \"hovertemplate\": \"<b>%{hovertext}</b><br><br>cl_db=1<br>pc_one=%{x}<br>pc_two=%{y}\", \"hovertext\": [\"Art Gallery\", \"Art Museum\", \"History Museum\", \"Museum\"], \"legendgroup\": \"1\", \"marker\": {\"color\": \"rgb(77,175,74)\", \"symbol\": \"circle\"}, \"mode\": \"markers\", \"name\": \"1\", \"showlegend\": true, \"type\": \"scatter\", \"x\": [-0.48359227180480957, -0.8815205097198486, -0.9534546136856079, -1.0348570346832275], \"xaxis\": \"x\", \"y\": [0.5104634761810303, 0.38124725222587585, 0.2804151475429535, 0.3016638159751892], \"yaxis\": \"y\"}, {\"hoverlabel\": {\"namelength\": 0}, \"hovertemplate\": \"<b>%{hovertext}</b><br><br>cl_db=2<br>pc_one=%{x}<br>pc_two=%{y}\", \"hovertext\": [\"Athletics & Sports\", \"Bar\", \"Beach\", \"Beach Bar\", \"Cocktail Bar\", \"Dive Bar\", \"Dive Shop\", \"Dive Spot\", \"Hookah Bar\", \"Hotel\", \"Hotel Bar\", \"Hotel Pool\", \"Juice Bar\", \"Sports Bar\", \"Sports Club\", \"Surf Spot\", \"Wine Bar\"], \"legendgroup\": \"2\", \"marker\": {\"color\": \"rgb(152,78,163)\", \"symbol\": \"circle\"}, \"mode\": \"markers\", \"name\": \"2\", \"showlegend\": true, \"type\": \"scatter\", \"x\": [-0.7304227948188782, 0.7094948887825012, -0.5444964170455933, 0.08249922841787338, 0.6207073926925659, 0.09453416615724564, -0.278581440448761, -0.45921024680137634, 0.7216660976409912, 0.6737157106399536, 0.6916054487228394, -0.05038011074066162, 0.306888222694397, -0.005438083782792091, -0.4288958013057709, -0.4276442229747772, 0.5100935697555542], \"xaxis\": \"x\", \"y\": [0.17073126137256622, -0.41750258207321167, -1.1317476034164429, -0.7746251821517944, -0.3237546384334564, -0.3512234389781952, 0.699295163154602, 0.024949971586465836, -0.21790574491024017, -0.7302638292312622, -0.5738832950592041, -0.5800571441650391, -0.013983574695885181, -0.12059652805328369, 0.0015031516086310148, 0.05717436224222183, -0.16314829885959625], \"yaxis\": \"y\"}, {\"hoverlabel\": {\"namelength\": 0}, \"hovertemplate\": \"<b>%{hovertext}</b><br><br>cl_db=3<br>pc_one=%{x}<br>pc_two=%{y}\", \"hovertext\": [\"BBQ Joint\", \"Burger Joint\", \"Fried Chicken Joint\", \"Hot Dog Joint\", \"Hot Spring\", \"Wings Joint\"], \"legendgroup\": \"3\", \"marker\": {\"color\": \"rgb(255,127,0)\", \"symbol\": \"circle\"}, \"mode\": \"markers\", \"name\": \"3\", \"showlegend\": true, \"type\": \"scatter\", \"x\": [0.10405069589614868, -0.07050596177577972, 0.0014034840278327465, -0.39922159910202026, -0.6156249642372131, -0.6010409593582153], \"xaxis\": \"x\", \"y\": [-0.17355696856975555, -0.20021288096904755, -0.0795215368270874, -0.17518629133701324, -0.10633961111307144, -0.21799437701702118], \"yaxis\": \"y\"}, {\"hoverlabel\": {\"namelength\": 0}, \"hovertemplate\": \"<b>%{hovertext}</b><br><br>cl_db=4<br>pc_one=%{x}<br>pc_two=%{y}\", \"hovertext\": [\"Bed & Breakfast\", \"Breakfast Spot\"], \"legendgroup\": \"4\", \"marker\": {\"color\": \"rgb(255,255,51)\", \"symbol\": \"circle\"}, \"mode\": \"markers\", \"name\": \"4\", \"showlegend\": true, \"type\": \"scatter\", \"x\": [-0.22634898126125336, -0.06890804320573807], \"xaxis\": \"x\", \"y\": [0.005208608228713274, 0.11357095092535019], \"yaxis\": \"y\"}, {\"hoverlabel\": {\"namelength\": 0}, \"hovertemplate\": \"<b>%{hovertext}</b><br><br>cl_db=5<br>pc_one=%{x}<br>pc_two=%{y}\", \"hovertext\": [\"Beer Garden\", \"Botanical Garden\", \"Garden\", \"Outdoor Sculpture\", \"Sculpture Garden\"], \"legendgroup\": \"5\", \"marker\": {\"color\": \"rgb(166,86,40)\", \"symbol\": \"circle\"}, \"mode\": \"markers\", \"name\": \"5\", \"showlegend\": true, \"type\": \"scatter\", \"x\": [-0.2110690176486969, -0.6004793643951416, -0.5995329022407532, -1.0930445194244385, -0.8809735178947449], \"xaxis\": \"x\", \"y\": [0.11479688435792923, 0.1078084260225296, 0.09423588216304779, -0.0014864971162751317, 0.042213328182697296], \"yaxis\": \"y\"}, {\"hoverlabel\": {\"namelength\": 0}, \"hovertemplate\": \"<b>%{hovertext}</b><br><br>cl_db=6<br>pc_one=%{x}<br>pc_two=%{y}\", \"hovertext\": [\"Building\", \"Capitol Building\"], \"legendgroup\": \"6\", \"marker\": {\"color\": \"rgb(247,129,191)\", \"symbol\": \"circle\"}, \"mode\": \"markers\", \"name\": \"6\", \"showlegend\": true, \"type\": \"scatter\", \"x\": [-0.7650105953216553, -0.8047744631767273], \"xaxis\": \"x\", \"y\": [0.1312870979309082, -0.10327261686325073], \"yaxis\": \"y\"}, {\"hoverlabel\": {\"namelength\": 0}, \"hovertemplate\": \"<b>%{hovertext}</b><br><br>cl_db=7<br>pc_one=%{x}<br>pc_two=%{y}\", \"hovertext\": [\"Burrito Place\", \"Pizza Place\", \"Salad Place\", \"Sandwich Place\", \"Snack Place\", \"Soup Place\", \"Taco Place\"], \"legendgroup\": \"7\", \"marker\": {\"color\": \"rgb(153,153,153)\", \"symbol\": \"circle\"}, \"mode\": \"markers\", \"name\": \"7\", \"showlegend\": true, \"type\": \"scatter\", \"x\": [0.47945404052734375, 0.5940848588943481, 0.3803347647190094, -0.0718020498752594, 0.03234058618545532, -0.014850769191980362, 0.29676809906959534], \"xaxis\": \"x\", \"y\": [0.18841814994812012, 0.2174915373325348, 0.10517992824316025, -0.0386076457798481, 0.38033565878868103, 0.24608822166919708, 0.07766438275575638], \"yaxis\": \"y\"}, {\"hoverlabel\": {\"namelength\": 0}, \"hovertemplate\": \"<b>%{hovertext}</b><br><br>cl_db=8<br>pc_one=%{x}<br>pc_two=%{y}\", \"hovertext\": [\"Gym\", \"Gym Fitness Center\"], \"legendgroup\": \"8\", \"marker\": {\"color\": \"rgb(228,26,28)\", \"symbol\": \"circle\"}, \"mode\": \"markers\", \"name\": \"8\", \"showlegend\": true, \"type\": \"scatter\", \"x\": [-0.36320143938064575, -0.5410509705543518], \"xaxis\": \"x\", \"y\": [0.3919229805469513, 0.3751065731048584], \"yaxis\": \"y\"}, {\"hoverlabel\": {\"namelength\": 0}, \"hovertemplate\": \"<b>%{hovertext}</b><br><br>cl_db=9<br>pc_one=%{x}<br>pc_two=%{y}\", \"hovertext\": [\"Massage Studio\", \"Yoga Studio\"], \"legendgroup\": \"9\", \"marker\": {\"color\": \"rgb(55,126,184)\", \"symbol\": \"circle\"}, \"mode\": \"markers\", \"name\": \"9\", \"showlegend\": true, \"type\": \"scatter\", \"x\": [-0.16300265491008759, -0.3943922817707062], \"xaxis\": \"x\", \"y\": [0.3767271637916565, 0.30031391978263855], \"yaxis\": \"y\"}, {\"hoverlabel\": {\"namelength\": 0}, \"hovertemplate\": \"<b>%{hovertext}</b><br><br>cl_db=10<br>pc_one=%{x}<br>pc_two=%{y}\", \"hovertext\": [\"Music Venue\", \"Performing Arts Venue\"], \"legendgroup\": \"10\", \"marker\": {\"color\": \"rgb(77,175,74)\", \"symbol\": \"circle\"}, \"mode\": \"markers\", \"name\": \"10\", \"showlegend\": true, \"type\": \"scatter\", \"x\": [-0.238851398229599, -0.47023141384124756], \"xaxis\": \"x\", \"y\": [0.10529323667287827, 0.007588363252580166], \"yaxis\": \"y\"}, {\"hoverlabel\": {\"namelength\": 0}, \"hovertemplate\": \"<b>%{hovertext}</b><br><br>cl_db=11<br>pc_one=%{x}<br>pc_two=%{y}\", \"hovertext\": [\"Nail Salon\", \"Salon Barbershop\"], \"legendgroup\": \"11\", \"marker\": {\"color\": \"rgb(152,78,163)\", \"symbol\": \"circle\"}, \"mode\": \"markers\", \"name\": \"11\", \"showlegend\": true, \"type\": \"scatter\", \"x\": [-0.07659390568733215, 0.373556524515152], \"xaxis\": \"x\", \"y\": [0.39083102345466614, 0.5866448283195496], \"yaxis\": \"y\"}, {\"hoverlabel\": {\"namelength\": 0}, \"hovertemplate\": \"<b>%{hovertext}</b><br><br>cl_db=12<br>pc_one=%{x}<br>pc_two=%{y}\", \"hovertext\": [\"National Park\", \"Park\", \"Theme Park\", \"Water Park\"], \"legendgroup\": \"12\", \"marker\": {\"color\": \"rgb(255,127,0)\", \"symbol\": \"circle\"}, \"mode\": \"markers\", \"name\": \"12\", \"showlegend\": true, \"type\": \"scatter\", \"x\": [-1.0495641231536865, -1.1581565141677856, -0.8948999643325806, -1.0187816619873047], \"xaxis\": \"x\", \"y\": [-0.6120592355728149, -0.7403365969657898, -0.40518760681152344, -0.5892465114593506], \"yaxis\": \"y\"}, {\"hoverlabel\": {\"namelength\": 0}, \"hovertemplate\": \"<b>%{hovertext}</b><br><br>cl_db=13<br>pc_one=%{x}<br>pc_two=%{y}\", \"hovertext\": [\"Plaza\", \"Shopping Mall\", \"Shopping Plaza\"], \"legendgroup\": \"13\", \"marker\": {\"color\": \"rgb(255,255,51)\", \"symbol\": \"circle\"}, \"mode\": \"markers\", \"name\": \"13\", \"showlegend\": true, \"type\": \"scatter\", \"x\": [-0.14646415412425995, -0.49121224880218506, -0.33452922105789185], \"xaxis\": \"x\", \"y\": [0.066492460668087, 0.8055682182312012, 0.6102249026298523], \"yaxis\": \"y\"}],\n",
       "                        {\"height\": 800, \"legend\": {\"title\": {\"text\": \"cl_db\"}, \"tracegroupgap\": 0}, \"template\": {\"data\": {\"bar\": [{\"error_x\": {\"color\": \"#2a3f5f\"}, \"error_y\": {\"color\": \"#2a3f5f\"}, \"marker\": {\"line\": {\"color\": \"white\", \"width\": 0.5}}, \"type\": \"bar\"}], \"barpolar\": [{\"marker\": {\"line\": {\"color\": \"white\", \"width\": 0.5}}, \"type\": \"barpolar\"}], \"carpet\": [{\"aaxis\": {\"endlinecolor\": \"#2a3f5f\", \"gridcolor\": \"#C8D4E3\", \"linecolor\": \"#C8D4E3\", \"minorgridcolor\": \"#C8D4E3\", \"startlinecolor\": \"#2a3f5f\"}, \"baxis\": {\"endlinecolor\": \"#2a3f5f\", \"gridcolor\": \"#C8D4E3\", \"linecolor\": \"#C8D4E3\", \"minorgridcolor\": \"#C8D4E3\", \"startlinecolor\": \"#2a3f5f\"}, \"type\": \"carpet\"}], \"choropleth\": [{\"colorbar\": {\"outlinewidth\": 0, \"ticks\": \"\"}, \"type\": \"choropleth\"}], \"contour\": [{\"colorbar\": {\"outlinewidth\": 0, \"ticks\": \"\"}, \"colorscale\": [[0.0, \"#0d0887\"], [0.1111111111111111, \"#46039f\"], [0.2222222222222222, \"#7201a8\"], [0.3333333333333333, \"#9c179e\"], [0.4444444444444444, \"#bd3786\"], [0.5555555555555556, \"#d8576b\"], [0.6666666666666666, \"#ed7953\"], [0.7777777777777778, \"#fb9f3a\"], [0.8888888888888888, \"#fdca26\"], [1.0, \"#f0f921\"]], \"type\": \"contour\"}], \"contourcarpet\": [{\"colorbar\": {\"outlinewidth\": 0, \"ticks\": \"\"}, \"type\": \"contourcarpet\"}], \"heatmap\": [{\"colorbar\": {\"outlinewidth\": 0, \"ticks\": \"\"}, \"colorscale\": [[0.0, \"#0d0887\"], [0.1111111111111111, \"#46039f\"], [0.2222222222222222, \"#7201a8\"], [0.3333333333333333, \"#9c179e\"], [0.4444444444444444, \"#bd3786\"], [0.5555555555555556, \"#d8576b\"], [0.6666666666666666, \"#ed7953\"], [0.7777777777777778, \"#fb9f3a\"], [0.8888888888888888, \"#fdca26\"], [1.0, \"#f0f921\"]], \"type\": \"heatmap\"}], \"heatmapgl\": [{\"colorbar\": {\"outlinewidth\": 0, \"ticks\": \"\"}, \"colorscale\": [[0.0, \"#0d0887\"], [0.1111111111111111, \"#46039f\"], [0.2222222222222222, \"#7201a8\"], [0.3333333333333333, \"#9c179e\"], [0.4444444444444444, \"#bd3786\"], [0.5555555555555556, \"#d8576b\"], [0.6666666666666666, \"#ed7953\"], [0.7777777777777778, \"#fb9f3a\"], [0.8888888888888888, \"#fdca26\"], [1.0, \"#f0f921\"]], \"type\": \"heatmapgl\"}], \"histogram\": [{\"marker\": {\"colorbar\": {\"outlinewidth\": 0, \"ticks\": \"\"}}, \"type\": \"histogram\"}], \"histogram2d\": [{\"colorbar\": {\"outlinewidth\": 0, \"ticks\": \"\"}, \"colorscale\": [[0.0, \"#0d0887\"], [0.1111111111111111, \"#46039f\"], [0.2222222222222222, \"#7201a8\"], [0.3333333333333333, \"#9c179e\"], [0.4444444444444444, \"#bd3786\"], [0.5555555555555556, \"#d8576b\"], [0.6666666666666666, \"#ed7953\"], [0.7777777777777778, \"#fb9f3a\"], [0.8888888888888888, \"#fdca26\"], [1.0, \"#f0f921\"]], \"type\": \"histogram2d\"}], \"histogram2dcontour\": [{\"colorbar\": {\"outlinewidth\": 0, \"ticks\": \"\"}, \"colorscale\": [[0.0, \"#0d0887\"], [0.1111111111111111, \"#46039f\"], [0.2222222222222222, \"#7201a8\"], [0.3333333333333333, \"#9c179e\"], [0.4444444444444444, \"#bd3786\"], [0.5555555555555556, \"#d8576b\"], [0.6666666666666666, \"#ed7953\"], [0.7777777777777778, \"#fb9f3a\"], [0.8888888888888888, \"#fdca26\"], [1.0, \"#f0f921\"]], \"type\": \"histogram2dcontour\"}], \"mesh3d\": [{\"colorbar\": {\"outlinewidth\": 0, \"ticks\": \"\"}, \"type\": \"mesh3d\"}], \"parcoords\": [{\"line\": {\"colorbar\": {\"outlinewidth\": 0, \"ticks\": \"\"}}, \"type\": \"parcoords\"}], \"pie\": [{\"automargin\": true, \"type\": \"pie\"}], \"scatter\": [{\"marker\": {\"colorbar\": {\"outlinewidth\": 0, \"ticks\": \"\"}}, \"type\": \"scatter\"}], \"scatter3d\": [{\"line\": {\"colorbar\": {\"outlinewidth\": 0, \"ticks\": \"\"}}, \"marker\": {\"colorbar\": {\"outlinewidth\": 0, \"ticks\": \"\"}}, \"type\": \"scatter3d\"}], \"scattercarpet\": [{\"marker\": {\"colorbar\": {\"outlinewidth\": 0, \"ticks\": \"\"}}, \"type\": \"scattercarpet\"}], \"scattergeo\": [{\"marker\": {\"colorbar\": {\"outlinewidth\": 0, \"ticks\": \"\"}}, \"type\": \"scattergeo\"}], \"scattergl\": [{\"marker\": {\"colorbar\": {\"outlinewidth\": 0, \"ticks\": \"\"}}, \"type\": \"scattergl\"}], \"scattermapbox\": [{\"marker\": {\"colorbar\": {\"outlinewidth\": 0, \"ticks\": \"\"}}, \"type\": \"scattermapbox\"}], \"scatterpolar\": [{\"marker\": {\"colorbar\": {\"outlinewidth\": 0, \"ticks\": \"\"}}, \"type\": \"scatterpolar\"}], \"scatterpolargl\": [{\"marker\": {\"colorbar\": {\"outlinewidth\": 0, \"ticks\": \"\"}}, \"type\": \"scatterpolargl\"}], \"scatterternary\": [{\"marker\": {\"colorbar\": {\"outlinewidth\": 0, \"ticks\": \"\"}}, \"type\": \"scatterternary\"}], \"surface\": [{\"colorbar\": {\"outlinewidth\": 0, \"ticks\": \"\"}, \"colorscale\": [[0.0, \"#0d0887\"], [0.1111111111111111, \"#46039f\"], [0.2222222222222222, \"#7201a8\"], [0.3333333333333333, \"#9c179e\"], [0.4444444444444444, \"#bd3786\"], [0.5555555555555556, \"#d8576b\"], [0.6666666666666666, \"#ed7953\"], [0.7777777777777778, \"#fb9f3a\"], [0.8888888888888888, \"#fdca26\"], [1.0, \"#f0f921\"]], \"type\": \"surface\"}], \"table\": [{\"cells\": {\"fill\": {\"color\": \"#EBF0F8\"}, \"line\": {\"color\": \"white\"}}, \"header\": {\"fill\": {\"color\": \"#C8D4E3\"}, \"line\": {\"color\": \"white\"}}, \"type\": \"table\"}]}, \"layout\": {\"annotationdefaults\": {\"arrowcolor\": \"#2a3f5f\", \"arrowhead\": 0, \"arrowwidth\": 1}, \"coloraxis\": {\"colorbar\": {\"outlinewidth\": 0, \"ticks\": \"\"}}, \"colorscale\": {\"diverging\": [[0, \"#8e0152\"], [0.1, \"#c51b7d\"], [0.2, \"#de77ae\"], [0.3, \"#f1b6da\"], [0.4, \"#fde0ef\"], [0.5, \"#f7f7f7\"], [0.6, \"#e6f5d0\"], [0.7, \"#b8e186\"], [0.8, \"#7fbc41\"], [0.9, \"#4d9221\"], [1, \"#276419\"]], \"sequential\": [[0.0, \"#0d0887\"], [0.1111111111111111, \"#46039f\"], [0.2222222222222222, \"#7201a8\"], [0.3333333333333333, \"#9c179e\"], [0.4444444444444444, \"#bd3786\"], [0.5555555555555556, \"#d8576b\"], [0.6666666666666666, \"#ed7953\"], [0.7777777777777778, \"#fb9f3a\"], [0.8888888888888888, \"#fdca26\"], [1.0, \"#f0f921\"]], \"sequentialminus\": [[0.0, \"#0d0887\"], [0.1111111111111111, \"#46039f\"], [0.2222222222222222, \"#7201a8\"], [0.3333333333333333, \"#9c179e\"], [0.4444444444444444, \"#bd3786\"], [0.5555555555555556, \"#d8576b\"], [0.6666666666666666, \"#ed7953\"], [0.7777777777777778, \"#fb9f3a\"], [0.8888888888888888, \"#fdca26\"], [1.0, \"#f0f921\"]]}, \"colorway\": [\"#636efa\", \"#EF553B\", \"#00cc96\", \"#ab63fa\", \"#FFA15A\", \"#19d3f3\", \"#FF6692\", \"#B6E880\", \"#FF97FF\", \"#FECB52\"], \"font\": {\"color\": \"#2a3f5f\"}, \"geo\": {\"bgcolor\": \"white\", \"lakecolor\": \"white\", \"landcolor\": \"white\", \"showlakes\": true, \"showland\": true, \"subunitcolor\": \"#C8D4E3\"}, \"hoverlabel\": {\"align\": \"left\"}, \"hovermode\": \"closest\", \"mapbox\": {\"style\": \"light\"}, \"paper_bgcolor\": \"white\", \"plot_bgcolor\": \"white\", \"polar\": {\"angularaxis\": {\"gridcolor\": \"#EBF0F8\", \"linecolor\": \"#EBF0F8\", \"ticks\": \"\"}, \"bgcolor\": \"white\", \"radialaxis\": {\"gridcolor\": \"#EBF0F8\", \"linecolor\": \"#EBF0F8\", \"ticks\": \"\"}}, \"scene\": {\"xaxis\": {\"backgroundcolor\": \"white\", \"gridcolor\": \"#DFE8F3\", \"gridwidth\": 2, \"linecolor\": \"#EBF0F8\", \"showbackground\": true, \"ticks\": \"\", \"zerolinecolor\": \"#EBF0F8\"}, \"yaxis\": {\"backgroundcolor\": \"white\", \"gridcolor\": \"#DFE8F3\", \"gridwidth\": 2, \"linecolor\": \"#EBF0F8\", \"showbackground\": true, \"ticks\": \"\", \"zerolinecolor\": \"#EBF0F8\"}, \"zaxis\": {\"backgroundcolor\": \"white\", \"gridcolor\": \"#DFE8F3\", \"gridwidth\": 2, \"linecolor\": \"#EBF0F8\", \"showbackground\": true, \"ticks\": \"\", \"zerolinecolor\": \"#EBF0F8\"}}, \"shapedefaults\": {\"line\": {\"color\": \"#2a3f5f\"}}, \"ternary\": {\"aaxis\": {\"gridcolor\": \"#DFE8F3\", \"linecolor\": \"#A2B1C6\", \"ticks\": \"\"}, \"baxis\": {\"gridcolor\": \"#DFE8F3\", \"linecolor\": \"#A2B1C6\", \"ticks\": \"\"}, \"bgcolor\": \"white\", \"caxis\": {\"gridcolor\": \"#DFE8F3\", \"linecolor\": \"#A2B1C6\", \"ticks\": \"\"}}, \"title\": {\"x\": 0.05}, \"xaxis\": {\"automargin\": true, \"gridcolor\": \"#EBF0F8\", \"linecolor\": \"#EBF0F8\", \"ticks\": \"\", \"title\": {\"standoff\": 15}, \"zerolinecolor\": \"#EBF0F8\", \"zerolinewidth\": 2}, \"yaxis\": {\"automargin\": true, \"gridcolor\": \"#EBF0F8\", \"linecolor\": \"#EBF0F8\", \"ticks\": \"\", \"title\": {\"standoff\": 15}, \"zerolinecolor\": \"#EBF0F8\", \"zerolinewidth\": 2}}}, \"title\": {\"text\": \"Principal Components Visualization with Cluster Labels (DBSCAN)\"}, \"width\": 900, \"xaxis\": {\"anchor\": \"y\", \"domain\": [0.0, 1.0], \"title\": {\"text\": \"1st Principal Component\"}}, \"yaxis\": {\"anchor\": \"x\", \"domain\": [0.0, 1.0], \"title\": {\"text\": \"2nd Principal Component\"}}},\n",
       "                        {\"responsive\": true}\n",
       "                    ).then(function(){\n",
       "                            \n",
       "var gd = document.getElementById('ee0c7652-2dc9-42fc-a097-6eb7eebdadd0');\n",
       "var x = new MutationObserver(function (mutations, observer) {{\n",
       "        var display = window.getComputedStyle(gd).display;\n",
       "        if (!display || display === 'none') {{\n",
       "            console.log([gd, 'removed!']);\n",
       "            Plotly.purge(gd);\n",
       "            observer.disconnect();\n",
       "        }}\n",
       "}});\n",
       "\n",
       "// Listen for the removal of the full notebook cells\n",
       "var notebookContainer = gd.closest('#notebook-container');\n",
       "if (notebookContainer) {{\n",
       "    x.observe(notebookContainer, {childList: true});\n",
       "}}\n",
       "\n",
       "// Listen for the clearing of the current output cell\n",
       "var outputEl = gd.closest('.output');\n",
       "if (outputEl) {{\n",
       "    x.observe(outputEl, {childList: true});\n",
       "}}\n",
       "\n",
       "                        })\n",
       "                };\n",
       "                });\n",
       "            </script>\n",
       "        </div>"
      ]
     },
     "metadata": {},
     "output_type": "display_data"
    }
   ],
   "source": [
    "fig = px.scatter(df_unique_venue, x = 'pc_one', y = 'pc_two', color = 'cl_db', width = 900,\n",
    "                height = 800, hover_name = 'venue_category', template = 'plotly_white',\n",
    "                color_discrete_sequence = px.colors.qualitative.Set1,\n",
    "                title = 'Principal Components Visualization with Cluster Labels (DBSCAN)')\n",
    "fig.update_layout(xaxis_title = '1st Principal Component', yaxis_title = '2nd Principal Component')\n",
    "fig.show()"
   ]
  },
  {
   "cell_type": "code",
   "execution_count": null,
   "metadata": {},
   "outputs": [],
   "source": []
  }
 ],
 "metadata": {
  "kernelspec": {
   "display_name": "Python 3",
   "language": "python",
   "name": "python3"
  },
  "language_info": {
   "codemirror_mode": {
    "name": "ipython",
    "version": 3
   },
   "file_extension": ".py",
   "mimetype": "text/x-python",
   "name": "python",
   "nbconvert_exporter": "python",
   "pygments_lexer": "ipython3",
   "version": "3.6.3"
  },
  "latex_envs": {
   "LaTeX_envs_menu_present": true,
   "autoclose": false,
   "autocomplete": true,
   "bibliofile": "biblio.bib",
   "cite_by": "apalike",
   "current_citInitial": 1,
   "eqLabelWithNumbers": true,
   "eqNumInitial": 1,
   "hotkeys": {
    "equation": "Ctrl-E",
    "itemize": "Ctrl-I"
   },
   "labels_anchors": false,
   "latex_user_defs": false,
   "report_style_numbering": false,
   "user_envs_cfg": false
  },
  "toc": {
   "base_numbering": 1,
   "nav_menu": {},
   "number_sections": true,
   "sideBar": true,
   "skip_h1_title": false,
   "title_cell": "Table of Contents",
   "title_sidebar": "Contents",
   "toc_cell": false,
   "toc_position": {},
   "toc_section_display": true,
   "toc_window_display": true
  }
 },
 "nbformat": 4,
 "nbformat_minor": 4
}
